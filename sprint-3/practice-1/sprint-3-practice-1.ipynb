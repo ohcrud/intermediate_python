{
 "cells": [
  {
   "cell_type": "markdown",
   "id": "1b6588de",
   "metadata": {},
   "source": [
    "# Context Managers \n",
    "\n",
    "While analysis tools themselves are of course very important, it is also important to make sure you're managing your computing resources effectively. In this practice we will work with **context managers** produced with Python's **`with`** statements, which allows us to allocate resouces & use them only when needed. We will use these to effectively open, close, and write files. \n",
    "\n",
    "A context manager using `with` is a way to **handle exceptions**, meaning to avoid your code failing given an unexpected situation that might raise an error.  "
   ]
  },
  {
   "cell_type": "markdown",
   "id": "559982f6",
   "metadata": {},
   "source": [
    "## Writing a file without a context manager \n",
    "\n",
    "A simple context in which we can use this is to **write** files from our python workspace. This allows us to produce a new file, such as a text file, using python commands & without having to leave our coding workspace. \n",
    "\n",
    "Let's say we want to save a file with the names of all national parks in Florida. Let's start with a list that contains the names. "
   ]
  },
  {
   "cell_type": "code",
   "execution_count": null,
   "id": "91d6c666",
   "metadata": {},
   "outputs": [],
   "source": [
    "florida_park_names = ['Biscayne National Park', 'Dry Tortugas National Park', 'Everglades National Park']\n",
    "florida_park_names"
   ]
  },
  {
   "cell_type": "markdown",
   "id": "8c646d0e",
   "metadata": {},
   "source": [
    "We need to first `open` the file we want to write to, passing the file name & `w` to indicate write mdoe. \n",
    "\n",
    "Then `write` to the file, and finally we need to `close` it. "
   ]
  },
  {
   "cell_type": "code",
   "execution_count": null,
   "id": "f2952cde",
   "metadata": {},
   "outputs": [],
   "source": [
    "file = open('florida_park_names', 'w')\n",
    "file.write(str(florida_park_names))\n",
    "file.close()"
   ]
  },
  {
   "cell_type": "markdown",
   "id": "f7349143",
   "metadata": {},
   "source": [
    "Not closing a file after writing risks losing data that should be written to the file, or it becoming corrupted! Let's make sure the file is closed in our workspace by printing a conditional. "
   ]
  },
  {
   "cell_type": "code",
   "execution_count": null,
   "id": "391f25d7",
   "metadata": {},
   "outputs": [],
   "source": [
    "file.closed == True"
   ]
  },
  {
   "cell_type": "markdown",
   "id": "a014106c",
   "metadata": {},
   "source": [
    "You can check the contents of this new file via the directory, or re-read the contents in like so. "
   ]
  },
  {
   "cell_type": "code",
   "execution_count": null,
   "id": "002f90c9",
   "metadata": {},
   "outputs": [],
   "source": [
    "florida_parks = open('florida_park_names')\n",
    "florida_parks = florida_parks.read()\n",
    "florida_parks"
   ]
  },
  {
   "cell_type": "markdown",
   "id": "d725bdd2",
   "metadata": {},
   "source": [
    "## Writing a file using a context manager \n",
    "\n",
    "A more streamlined & safer way to do this would be to use python's `with` statement. In this syntax, we never have to worry about closing the file! \n",
    "\n",
    "**With** the file open python will execute the commands in the indented lines. After, the file will automatically be closed. Let's write another file listing all the state parks in California.  "
   ]
  },
  {
   "cell_type": "code",
   "execution_count": null,
   "id": "e5cdab73",
   "metadata": {},
   "outputs": [],
   "source": [
    "cali_park_names = ['Channel Islands National Park', 'Death Valley National Park', \n",
    "                   'Joshua Tree National Park', 'Lassen Volcanic National Park', \n",
    "                   'Pinnacles National Park', 'Redwood National Park', \n",
    "                   'Sequoia and Kings Canyon National Parks', 'Yosemite National Park']\n",
    "\n",
    "with open('cali_park_names', 'w') as file:\n",
    "    file.write(str(cali_park_names))"
   ]
  },
  {
   "cell_type": "markdown",
   "id": "ee2e7bb3",
   "metadata": {},
   "source": [
    "See that without explicitly running `file.close()` the file has been closed! This is because of the use of the `with` statement. "
   ]
  },
  {
   "cell_type": "code",
   "execution_count": null,
   "id": "955dc2aa",
   "metadata": {},
   "outputs": [],
   "source": [
    "file.closed"
   ]
  },
  {
   "cell_type": "markdown",
   "id": "eade07f5",
   "metadata": {},
   "source": [
    "<hr style=\"border:2px solid gray\"> </hr>\n",
    "\n",
    "### Now you try! \n",
    "\n",
    "Using a context manager, save the name 'Shenandoah National Park' to a nnew file called `virginia_park_names`. "
   ]
  },
  {
   "cell_type": "code",
   "execution_count": null,
   "id": "f9dde511",
   "metadata": {},
   "outputs": [],
   "source": [
    "with open('virginia_park_names', 'w') as opened_file:\n",
    "    opened_file.write('Shenandoah National Park')"
   ]
  },
  {
   "cell_type": "markdown",
   "id": "058bc69a",
   "metadata": {},
   "source": [
    "<hr style=\"border:2px solid gray\"> </hr>\n",
    "\n",
    "## Reading files with a context manager \n",
    "\n",
    "Similarly to writing a file, we can also read a file using a context manager. This has the benefit of automatically closing a file, which if not done would waste computational resources or cause other problems. \n",
    "\n",
    "Let's build a context manager that reads in a file called `national_park_names.txt` and saves it to a new variable. "
   ]
  },
  {
   "cell_type": "code",
   "execution_count": null,
   "id": "f0e12269",
   "metadata": {},
   "outputs": [],
   "source": [
    "parks = []\n",
    "\n",
    "with open(\"national_park_names.txt\") as file:  \n",
    "    for line in file:\n",
    "    # split data by tab\n",
    "    # store it in list\n",
    "        l=line.strip('\\n')\n",
    "        # append list to ans\n",
    "        parks.append(l)\n",
    "    \n",
    "parks[:10]"
   ]
  },
  {
   "cell_type": "markdown",
   "id": "4602fcdf",
   "metadata": {},
   "source": [
    "And let's confirm it closed"
   ]
  },
  {
   "cell_type": "code",
   "execution_count": null,
   "id": "37a048a4",
   "metadata": {},
   "outputs": [],
   "source": [
    "file.closed == False"
   ]
  },
  {
   "cell_type": "markdown",
   "id": "c7a9d9b2",
   "metadata": {},
   "source": [
    "<hr style=\"border:2px solid gray\"> </hr>\n",
    "\n",
    "# Practice on your own \n",
    "\n",
    "In this practice section you will work with a file on New York State parks located on Long Island, obtained from [here](https://data.ny.gov/Recreation/State-Park-Annual-Attendance-Figures-by-Facility-B/8f3n-xj78/data). \n",
    "\n",
    "#### Exercise 1. Using a context manager read in the file `nys_longisland_parks.tsv` line by line (NOT using pandas!) and save to a variable named `nys_parks`. Make sure you remove the newline and tab separator (\\n and \\t) & print the frist 10 lines. You should end up with a list of lists, each sub list containing three values. "
   ]
  },
  {
   "cell_type": "code",
   "execution_count": null,
   "id": "d4a1f0d5",
   "metadata": {},
   "outputs": [],
   "source": [
    "### BEGIN SOLUTION \n",
    "\n",
    "nys_parks = []\n",
    "\n",
    "with open('nys_longisland_parks.tsv') as file:  \n",
    "    for line in file:\n",
    "        l=line.strip('\\n')\n",
    "        l=l.split('\\t')\n",
    "        nys_parks.append(l)\n",
    "    \n",
    "nys_parks[:10]\n",
    "\n",
    "### END SOLUTION "
   ]
  },
  {
   "cell_type": "markdown",
   "id": "3f617f87",
   "metadata": {},
   "source": [
    "#### Exercise 2. Now import pandas and convert the `nys_parks` list to a pandas dataframe (if you don't remember how, see [here](https://datatofish.com/list-to-dataframe/)) named `nys_parks_df`. Sort the values by order of decreasing attendance. \n"
   ]
  },
  {
   "cell_type": "code",
   "execution_count": null,
   "id": "ee60785b",
   "metadata": {},
   "outputs": [],
   "source": [
    "### BEGIN SOLUTION \n",
    "\n",
    "import pandas as pd \n",
    "nys_parks_df = pd.DataFrame (nys_parks[1:], columns = nys_parks[0])\n",
    "nys_parks_df[\"Attendance\"] = pd.to_numeric(nys_parks_df[\"Attendance\"])\n",
    "nys_parks_df = nys_parks_df.sort_values(by = ['Attendance'], ascending = False)\n",
    "nys_parks_df\n",
    "\n",
    "### END SOLUTION "
   ]
  },
  {
   "cell_type": "markdown",
   "id": "3e07b3a7",
   "metadata": {},
   "source": [
    "#### Exercise 3. Using a context manager, create a text file named `nys_parks_decreasing_order` containing the names of the state parks in the order they appear in the new sorted dataframe. "
   ]
  },
  {
   "cell_type": "code",
   "execution_count": null,
   "id": "c9bd8039",
   "metadata": {},
   "outputs": [],
   "source": [
    "### BEGIN SOLUTION \n",
    "\n",
    "with open('nys_parks_decreasing_order', 'w') as file:\n",
    "    file.write(str(nys_parks_df.Facility.values))\n",
    "    \n",
    "### END SOLUTION "
   ]
  },
  {
   "cell_type": "markdown",
   "id": "85675691",
   "metadata": {},
   "source": [
    "#### Exercise 4. Using a context manager, create a text file named `nassau_county_parks` that contains only the names of facilities located in Nassau county. "
   ]
  },
  {
   "cell_type": "code",
   "execution_count": null,
   "id": "9bfadfa3",
   "metadata": {},
   "outputs": [],
   "source": [
    "### BEGIN SOLUTION \n",
    "\n",
    "nassau_parks = nys_parks_df[nys_parks_df['County'] == 'Nassau']\n",
    "\n",
    "with open('nys_parks_decreasing_order', 'w') as file:\n",
    "    file.write(str(nassau_parks.Facility.values))\n",
    "    \n",
    "### END SOLUTION "
   ]
  },
  {
   "cell_type": "markdown",
   "id": "ae9da0fa",
   "metadata": {},
   "source": [
    "#### Exercise 5. Write an if else statement that checks if  the `file` from exercise 4 is in fact closed, and prints a statement letting us know. "
   ]
  },
  {
   "cell_type": "code",
   "execution_count": null,
   "id": "ff5553f5",
   "metadata": {},
   "outputs": [],
   "source": [
    "### BEGIN SOLUTION \n",
    "\n",
    "if file.closed == True:\n",
    "    print('the file is closed')\n",
    "else:\n",
    "    print('the file is not closed')\n",
    "\n",
    "### END SOLUTION "
   ]
  }
 ],
 "metadata": {
  "kernelspec": {
   "display_name": "Python 3",
   "language": "python",
   "name": "python3"
  },
  "language_info": {
   "codemirror_mode": {
    "name": "ipython",
    "version": 3
   },
   "file_extension": ".py",
   "mimetype": "text/x-python",
   "name": "python",
   "nbconvert_exporter": "python",
   "pygments_lexer": "ipython3",
   "version": "3.8.8"
  }
 },
 "nbformat": 4,
 "nbformat_minor": 5
}
