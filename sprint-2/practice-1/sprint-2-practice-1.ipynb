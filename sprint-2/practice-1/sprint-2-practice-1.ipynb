{
 "cells": [
  {
   "cell_type": "markdown",
   "id": "4c6a16d3",
   "metadata": {},
   "source": [
    "# Time series analysis using Pandas\n",
    "\n",
    "A very common data anlysis task you'll encounter is time series analysis, which involves the study of variables over time. In this practice we will review several Pandas features that are essential to completing time series analysis. \n",
    "\n",
    "## Loading in some time series data \n",
    "\n",
    "To practice working with time series data, we will load in the file `monthly-beer-production-in-austr-edit.csv`, which contains data on beer production in Australia given in hectoliters. Let's use pandas to read this csv file in. "
   ]
  },
  {
   "cell_type": "code",
   "execution_count": 71,
   "id": "aec7fb19",
   "metadata": {},
   "outputs": [
    {
     "data": {
      "text/html": [
       "<div>\n",
       "<style scoped>\n",
       "    .dataframe tbody tr th:only-of-type {\n",
       "        vertical-align: middle;\n",
       "    }\n",
       "\n",
       "    .dataframe tbody tr th {\n",
       "        vertical-align: top;\n",
       "    }\n",
       "\n",
       "    .dataframe thead th {\n",
       "        text-align: right;\n",
       "    }\n",
       "</style>\n",
       "<table border=\"1\" class=\"dataframe\">\n",
       "  <thead>\n",
       "    <tr style=\"text-align: right;\">\n",
       "      <th></th>\n",
       "      <th>Month</th>\n",
       "      <th>Monthly beer production</th>\n",
       "    </tr>\n",
       "  </thead>\n",
       "  <tbody>\n",
       "    <tr>\n",
       "      <th>0</th>\n",
       "      <td>1956-01</td>\n",
       "      <td>93.2</td>\n",
       "    </tr>\n",
       "    <tr>\n",
       "      <th>1</th>\n",
       "      <td>1956-02</td>\n",
       "      <td>96</td>\n",
       "    </tr>\n",
       "    <tr>\n",
       "      <th>2</th>\n",
       "      <td>1956-03</td>\n",
       "      <td>95.2</td>\n",
       "    </tr>\n",
       "    <tr>\n",
       "      <th>3</th>\n",
       "      <td>1956-04</td>\n",
       "      <td>77.1</td>\n",
       "    </tr>\n",
       "    <tr>\n",
       "      <th>4</th>\n",
       "      <td>1956-05</td>\n",
       "      <td>70.9</td>\n",
       "    </tr>\n",
       "  </tbody>\n",
       "</table>\n",
       "</div>"
      ],
      "text/plain": [
       "     Month Monthly beer production\n",
       "0  1956-01                    93.2\n",
       "1  1956-02                      96\n",
       "2  1956-03                    95.2\n",
       "3  1956-04                    77.1\n",
       "4  1956-05                    70.9"
      ]
     },
     "execution_count": 71,
     "metadata": {},
     "output_type": "execute_result"
    }
   ],
   "source": [
    "import pandas as pd\n",
    "\n",
    "beer = pd.read_csv('monthly-beer-production-in-austr-edit.csv')\n",
    "beer.head()"
   ]
  },
  {
   "cell_type": "markdown",
   "id": "c81d4591",
   "metadata": {},
   "source": [
    "## Pre-analysis checks \n",
    "\n",
    "Before begining analysis it is typically a good idea to inspect the data itself. This will give us a chance to identify any odd values, potential data errors, or missing values we may have to deal with. It's better to check & fix these things in the very beginnign than to wait until later when we realized our analysis results look off.\n",
    "\n",
    "A simple start is to use the `describe` method, which should give us a few summary statistics for our data. "
   ]
  },
  {
   "cell_type": "code",
   "execution_count": 72,
   "id": "437a951c",
   "metadata": {},
   "outputs": [
    {
     "data": {
      "text/plain": [
       "count         476\n",
       "unique        476\n",
       "top       1993-09\n",
       "freq            1\n",
       "Name: Month, dtype: object"
      ]
     },
     "execution_count": 72,
     "metadata": {},
     "output_type": "execute_result"
    }
   ],
   "source": [
    "beer['Month'].describe()"
   ]
  },
  {
   "cell_type": "markdown",
   "id": "cb649c15",
   "metadata": {},
   "source": [
    "First off, we see that the count and the number of unique values are equal, which is a good sign. We know we should have one entry for each unique date in our time range. But we also see that the datatype is `object`. We should convert this to datetime using `pd.to_datetime` before proceeding. This is not only necessary for using some of the time series analysis tools, but also for best results when creating plots. "
   ]
  },
  {
   "cell_type": "code",
   "execution_count": 73,
   "id": "bf9f5194",
   "metadata": {},
   "outputs": [],
   "source": [
    "beer['Month'] =  pd.to_datetime(beer['Month'], format='%Y-%m')"
   ]
  },
  {
   "cell_type": "markdown",
   "id": "ee1c8caf",
   "metadata": {},
   "source": [
    "Now let's check out our second column, which contains beer production in hectoliters. "
   ]
  },
  {
   "cell_type": "code",
   "execution_count": 74,
   "id": "8d13d6a7",
   "metadata": {},
   "outputs": [
    {
     "data": {
      "text/plain": [
       "count     476\n",
       "unique    385\n",
       "top       143\n",
       "freq        5\n",
       "Name: Monthly beer production, dtype: object"
      ]
     },
     "execution_count": 74,
     "metadata": {},
     "output_type": "execute_result"
    }
   ],
   "source": [
    "beer['Monthly beer production'].describe()"
   ]
  },
  {
   "cell_type": "markdown",
   "id": "68b98621",
   "metadata": {},
   "source": [
    "The data type is `object`, which isn't ideal. We want to be able to treat these values as numbers. Let's convert to a numeric format. "
   ]
  },
  {
   "cell_type": "code",
   "execution_count": 75,
   "id": "81c6649c",
   "metadata": {},
   "outputs": [
    {
     "ename": "ValueError",
     "evalue": "Unable to parse string \"80.4.00\" at position 16",
     "output_type": "error",
     "traceback": [
      "\u001b[0;31m---------------------------------------------------------------------------\u001b[0m",
      "\u001b[0;31mValueError\u001b[0m                                Traceback (most recent call last)",
      "\u001b[0;32mpandas/_libs/lib.pyx\u001b[0m in \u001b[0;36mpandas._libs.lib.maybe_convert_numeric\u001b[0;34m()\u001b[0m\n",
      "\u001b[0;31mValueError\u001b[0m: Unable to parse string \"80.4.00\"",
      "\nDuring handling of the above exception, another exception occurred:\n",
      "\u001b[0;31mValueError\u001b[0m                                Traceback (most recent call last)",
      "\u001b[0;32m<ipython-input-75-d4bd732b8c4d>\u001b[0m in \u001b[0;36m<module>\u001b[0;34m\u001b[0m\n\u001b[0;32m----> 1\u001b[0;31m \u001b[0mbeer\u001b[0m\u001b[0;34m[\u001b[0m\u001b[0;34m'Monthly beer production'\u001b[0m\u001b[0;34m]\u001b[0m \u001b[0;34m=\u001b[0m \u001b[0mpd\u001b[0m\u001b[0;34m.\u001b[0m\u001b[0mto_numeric\u001b[0m\u001b[0;34m(\u001b[0m\u001b[0mbeer\u001b[0m\u001b[0;34m[\u001b[0m\u001b[0;34m'Monthly beer production'\u001b[0m\u001b[0;34m]\u001b[0m\u001b[0;34m)\u001b[0m\u001b[0;34m\u001b[0m\u001b[0;34m\u001b[0m\u001b[0m\n\u001b[0m",
      "\u001b[0;32m~/opt/anaconda3/lib/python3.8/site-packages/pandas/core/tools/numeric.py\u001b[0m in \u001b[0;36mto_numeric\u001b[0;34m(arg, errors, downcast)\u001b[0m\n\u001b[1;32m    152\u001b[0m         \u001b[0mcoerce_numeric\u001b[0m \u001b[0;34m=\u001b[0m \u001b[0merrors\u001b[0m \u001b[0;32mnot\u001b[0m \u001b[0;32min\u001b[0m \u001b[0;34m(\u001b[0m\u001b[0;34m\"ignore\"\u001b[0m\u001b[0;34m,\u001b[0m \u001b[0;34m\"raise\"\u001b[0m\u001b[0;34m)\u001b[0m\u001b[0;34m\u001b[0m\u001b[0;34m\u001b[0m\u001b[0m\n\u001b[1;32m    153\u001b[0m         \u001b[0;32mtry\u001b[0m\u001b[0;34m:\u001b[0m\u001b[0;34m\u001b[0m\u001b[0;34m\u001b[0m\u001b[0m\n\u001b[0;32m--> 154\u001b[0;31m             values = lib.maybe_convert_numeric(\n\u001b[0m\u001b[1;32m    155\u001b[0m                 \u001b[0mvalues\u001b[0m\u001b[0;34m,\u001b[0m \u001b[0mset\u001b[0m\u001b[0;34m(\u001b[0m\u001b[0;34m)\u001b[0m\u001b[0;34m,\u001b[0m \u001b[0mcoerce_numeric\u001b[0m\u001b[0;34m=\u001b[0m\u001b[0mcoerce_numeric\u001b[0m\u001b[0;34m\u001b[0m\u001b[0;34m\u001b[0m\u001b[0m\n\u001b[1;32m    156\u001b[0m             )\n",
      "\u001b[0;32mpandas/_libs/lib.pyx\u001b[0m in \u001b[0;36mpandas._libs.lib.maybe_convert_numeric\u001b[0;34m()\u001b[0m\n",
      "\u001b[0;31mValueError\u001b[0m: Unable to parse string \"80.4.00\" at position 16"
     ]
    }
   ],
   "source": [
    "beer['Monthly beer production'] = pd.to_numeric(beer['Monthly beer production'])"
   ]
  },
  {
   "cell_type": "markdown",
   "id": "11f962b4",
   "metadata": {},
   "source": [
    "Hmm looks like we have a problem! There seems to be at least one value with an incorrect format - no number should have two decimal points! Let's find where these values exist and replace them with a fill-value, `None`. \n",
    "\n",
    "Then, we can try to convert to numeric again. "
   ]
  },
  {
   "cell_type": "code",
   "execution_count": 76,
   "id": "b39f2635",
   "metadata": {},
   "outputs": [
    {
     "name": "stderr",
     "output_type": "stream",
     "text": [
      "/Users/sofiarocco/opt/anaconda3/lib/python3.8/site-packages/pandas/core/indexing.py:1637: SettingWithCopyWarning: \n",
      "A value is trying to be set on a copy of a slice from a DataFrame\n",
      "\n",
      "See the caveats in the documentation: https://pandas.pydata.org/pandas-docs/stable/user_guide/indexing.html#returning-a-view-versus-a-copy\n",
      "  self._setitem_single_block(indexer, value, name)\n"
     ]
    }
   ],
   "source": [
    "for ind, row in beer.iterrows():\n",
    "    count_decimals = row['Monthly beer production'].count('.')\n",
    "    if count_decimals > 1:\n",
    "        beer['Monthly beer production'].iloc[ind] = None "
   ]
  },
  {
   "cell_type": "code",
   "execution_count": 77,
   "id": "71558d23",
   "metadata": {},
   "outputs": [],
   "source": [
    "beer['Monthly beer production'] = pd.to_numeric(beer['Monthly beer production'])"
   ]
  },
  {
   "cell_type": "markdown",
   "id": "df01e883",
   "metadata": {},
   "source": [
    "When we use `describe` on a numeric column, we get summary statistics which give us an idea of our data values range and behavior. "
   ]
  },
  {
   "cell_type": "code",
   "execution_count": 78,
   "id": "691dc89f",
   "metadata": {},
   "outputs": [
    {
     "data": {
      "text/plain": [
       "count    474.000000\n",
       "mean     136.082911\n",
       "std       35.773328\n",
       "min     -130.000000\n",
       "25%      113.000000\n",
       "50%      139.450000\n",
       "75%      159.075000\n",
       "max      217.800000\n",
       "Name: Monthly beer production, dtype: float64"
      ]
     },
     "execution_count": 78,
     "metadata": {},
     "output_type": "execute_result"
    }
   ],
   "source": [
    "beer['Monthly beer production'].describe()"
   ]
  },
  {
   "cell_type": "markdown",
   "id": "a81ba663",
   "metadata": {},
   "source": [
    "Hmm... the minimum value is -130. It's not possible to produce a negative amount of beer, so let's investigate. We will look at how many values in the column are negative. If there are a high fraction of negative production values, we know we have a big problem with our data. However if there's just a couple then its likely just a typo and we can `replace` the value and move on. "
   ]
  },
  {
   "cell_type": "code",
   "execution_count": 79,
   "id": "4e248c3b",
   "metadata": {},
   "outputs": [
    {
     "data": {
      "text/plain": [
       "1"
      ]
     },
     "execution_count": 79,
     "metadata": {},
     "output_type": "execute_result"
    }
   ],
   "source": [
    "# how many rows with negative values?\n",
    "neg_values = beer[beer['Monthly beer production'] < 0]\n",
    "len(neg_values)"
   ]
  },
  {
   "cell_type": "code",
   "execution_count": 80,
   "id": "4f7d47ce",
   "metadata": {},
   "outputs": [],
   "source": [
    "# just one strange value so lets replace that min value with none \n",
    "beer['Monthly beer production'].replace(neg_values['Monthly beer production'].values, None, inplace = True)"
   ]
  },
  {
   "cell_type": "code",
   "execution_count": 81,
   "id": "ea370ea8",
   "metadata": {},
   "outputs": [
    {
     "data": {
      "text/plain": [
       "count    474.000000\n",
       "mean     136.643460\n",
       "std       33.611506\n",
       "min       64.800000\n",
       "25%      113.125000\n",
       "50%      139.450000\n",
       "75%      159.075000\n",
       "max      217.800000\n",
       "Name: Monthly beer production, dtype: float64"
      ]
     },
     "execution_count": 81,
     "metadata": {},
     "output_type": "execute_result"
    }
   ],
   "source": [
    "# and run describe again to make sure it worked \n",
    "beer['Monthly beer production'].describe()"
   ]
  },
  {
   "cell_type": "markdown",
   "id": "8e7de7f0",
   "metadata": {},
   "source": [
    "## A basic time series plot\n",
    "\n",
    "Now that we've cleaned up our dataframe, we are ready to begin some time series analysis. Let's start with a simple plot using panda's built in plotting functionality. "
   ]
  },
  {
   "cell_type": "code",
   "execution_count": 82,
   "id": "2763b9fb",
   "metadata": {},
   "outputs": [
    {
     "data": {
      "text/plain": [
       "<AxesSubplot:title={'center':'Australia Monthly Beer Production'}, xlabel='Month'>"
      ]
     },
     "execution_count": 82,
     "metadata": {},
     "output_type": "execute_result"
    },
    {
     "data": {
      "image/png": "[encoded data removed]",
      "text/plain": [
       "<Figure size 432x288 with 1 Axes>"
      ]
     },
     "metadata": {
      "needs_background": "light"
     },
     "output_type": "display_data"
    }
   ],
   "source": [
    "beer.plot(x = 'Month', y = 'Monthly beer production', title = 'Australia Monthly Beer Production')"
   ]
  },
  {
   "cell_type": "markdown",
   "id": "892c05e7",
   "metadata": {},
   "source": [
    "We can do the same using the matplotlib's pyplot, like so "
   ]
  },
  {
   "cell_type": "code",
   "execution_count": 83,
   "id": "9c7e8218",
   "metadata": {},
   "outputs": [
    {
     "data": {
      "text/plain": [
       "Text(0, 0.5, 'Amount Produced [Hectoliters]')"
      ]
     },
     "execution_count": 83,
     "metadata": {},
     "output_type": "execute_result"
    },
    {
     "data": {
      "image/png": "[encoded data removed]",
      "text/plain": [
       "<Figure size 432x288 with 1 Axes>"
      ]
     },
     "metadata": {
      "needs_background": "light"
     },
     "output_type": "display_data"
    }
   ],
   "source": [
    "from matplotlib import pyplot as plt\n",
    "\n",
    "plt.plot(beer['Month'], beer['Monthly beer production'])\n",
    "plt.title('Australia Monthly Beer Production')\n",
    "plt.xlabel('Year')\n",
    "plt.ylabel('Amount Produced [Hectoliters]')"
   ]
  },
  {
   "cell_type": "markdown",
   "id": "934775f0",
   "metadata": {},
   "source": [
    "## Resampling \n",
    "\n",
    "A popular time series analysis technique you'll need is the ability to **resample** data. This means changing the frequency at which your data is reported. In our `beer` dataframe the data is given monthly, which means there is a single value per month. We could resample this to make it coarser, say a frequency of 1 value per year using `df.resample()`. We do this by applying an operation like `sum` or `mean` to translate the monthly values into yearly values. \n",
    "\n",
    "The following uses `mean` to give us yearly average beer production. Note that the `Month` column has been altered as well - it is now the index, and the values changed too. Resampling will change your timestamp value in such a way that it reflects the **end** of the resampling period. "
   ]
  },
  {
   "cell_type": "code",
   "execution_count": 104,
   "id": "ba6285c0",
   "metadata": {},
   "outputs": [
    {
     "data": {
      "text/html": [
       "<div>\n",
       "<style scoped>\n",
       "    .dataframe tbody tr th:only-of-type {\n",
       "        vertical-align: middle;\n",
       "    }\n",
       "\n",
       "    .dataframe tbody tr th {\n",
       "        vertical-align: top;\n",
       "    }\n",
       "\n",
       "    .dataframe thead th {\n",
       "        text-align: right;\n",
       "    }\n",
       "</style>\n",
       "<table border=\"1\" class=\"dataframe\">\n",
       "  <thead>\n",
       "    <tr style=\"text-align: right;\">\n",
       "      <th></th>\n",
       "      <th>Monthly beer production</th>\n",
       "    </tr>\n",
       "    <tr>\n",
       "      <th>Month</th>\n",
       "      <th></th>\n",
       "    </tr>\n",
       "  </thead>\n",
       "  <tbody>\n",
       "    <tr>\n",
       "      <th>1956-12-31</th>\n",
       "      <td>86.041667</td>\n",
       "    </tr>\n",
       "    <tr>\n",
       "      <th>1957-12-31</th>\n",
       "      <td>87.818182</td>\n",
       "    </tr>\n",
       "    <tr>\n",
       "      <th>1958-12-31</th>\n",
       "      <td>88.600000</td>\n",
       "    </tr>\n",
       "    <tr>\n",
       "      <th>1959-12-31</th>\n",
       "      <td>87.700000</td>\n",
       "    </tr>\n",
       "    <tr>\n",
       "      <th>1960-12-31</th>\n",
       "      <td>90.366667</td>\n",
       "    </tr>\n",
       "  </tbody>\n",
       "</table>\n",
       "</div>"
      ],
      "text/plain": [
       "            Monthly beer production\n",
       "Month                              \n",
       "1956-12-31                86.041667\n",
       "1957-12-31                87.818182\n",
       "1958-12-31                88.600000\n",
       "1959-12-31                87.700000\n",
       "1960-12-31                90.366667"
      ]
     },
     "execution_count": 104,
     "metadata": {},
     "output_type": "execute_result"
    }
   ],
   "source": [
    "beer_yearly_avg = beer.resample(\"Y\", on=\"Month\").mean()\n",
    "beer_yearly_avg.head()"
   ]
  },
  {
   "cell_type": "markdown",
   "id": "93e60628",
   "metadata": {},
   "source": [
    "You'll also notice that the headers in the altered dataframe have been offset. This is because the resampling created what is called a **multiindex** in pandas. Also, see that the column name is still 'monthly' although the timeframe for the data is now 'yearly'. \n",
    "\n",
    "You can reset the index & add a new column name like so: "
   ]
  },
  {
   "cell_type": "code",
   "execution_count": 105,
   "id": "f8caf33d",
   "metadata": {},
   "outputs": [
    {
     "data": {
      "text/html": [
       "<div>\n",
       "<style scoped>\n",
       "    .dataframe tbody tr th:only-of-type {\n",
       "        vertical-align: middle;\n",
       "    }\n",
       "\n",
       "    .dataframe tbody tr th {\n",
       "        vertical-align: top;\n",
       "    }\n",
       "\n",
       "    .dataframe thead th {\n",
       "        text-align: right;\n",
       "    }\n",
       "</style>\n",
       "<table border=\"1\" class=\"dataframe\">\n",
       "  <thead>\n",
       "    <tr style=\"text-align: right;\">\n",
       "      <th></th>\n",
       "      <th>Year</th>\n",
       "      <th>Yearly avg beer production</th>\n",
       "    </tr>\n",
       "  </thead>\n",
       "  <tbody>\n",
       "    <tr>\n",
       "      <th>0</th>\n",
       "      <td>1956-12-31</td>\n",
       "      <td>86.041667</td>\n",
       "    </tr>\n",
       "    <tr>\n",
       "      <th>1</th>\n",
       "      <td>1957-12-31</td>\n",
       "      <td>87.818182</td>\n",
       "    </tr>\n",
       "    <tr>\n",
       "      <th>2</th>\n",
       "      <td>1958-12-31</td>\n",
       "      <td>88.600000</td>\n",
       "    </tr>\n",
       "    <tr>\n",
       "      <th>3</th>\n",
       "      <td>1959-12-31</td>\n",
       "      <td>87.700000</td>\n",
       "    </tr>\n",
       "    <tr>\n",
       "      <th>4</th>\n",
       "      <td>1960-12-31</td>\n",
       "      <td>90.366667</td>\n",
       "    </tr>\n",
       "  </tbody>\n",
       "</table>\n",
       "</div>"
      ],
      "text/plain": [
       "        Year  Yearly avg beer production\n",
       "0 1956-12-31                   86.041667\n",
       "1 1957-12-31                   87.818182\n",
       "2 1958-12-31                   88.600000\n",
       "3 1959-12-31                   87.700000\n",
       "4 1960-12-31                   90.366667"
      ]
     },
     "execution_count": 105,
     "metadata": {},
     "output_type": "execute_result"
    }
   ],
   "source": [
    "beer_yearly_avg = beer_yearly_avg.reset_index(level=['Month'])\n",
    "beer_yearly_avg.rename(columns={\"Monthly beer production\": \"Yearly avg beer production\", \\\n",
    "                                \"Month\": \"Year\"}, inplace = True)\n",
    "beer_yearly_avg.head()"
   ]
  },
  {
   "cell_type": "markdown",
   "id": "a71a562e",
   "metadata": {},
   "source": [
    "You could also chain the re-indexing & column name change to the resampling line to keep your code streamlined, like in the following cell. However, it is up to you how you choose to do this, as chaining too many things together can make code a bit harder to read. "
   ]
  },
  {
   "cell_type": "code",
   "execution_count": 107,
   "id": "fcc1c22e",
   "metadata": {},
   "outputs": [
    {
     "data": {
      "text/html": [
       "<div>\n",
       "<style scoped>\n",
       "    .dataframe tbody tr th:only-of-type {\n",
       "        vertical-align: middle;\n",
       "    }\n",
       "\n",
       "    .dataframe tbody tr th {\n",
       "        vertical-align: top;\n",
       "    }\n",
       "\n",
       "    .dataframe thead th {\n",
       "        text-align: right;\n",
       "    }\n",
       "</style>\n",
       "<table border=\"1\" class=\"dataframe\">\n",
       "  <thead>\n",
       "    <tr style=\"text-align: right;\">\n",
       "      <th></th>\n",
       "      <th>Year</th>\n",
       "      <th>Yearly avg beer production</th>\n",
       "    </tr>\n",
       "  </thead>\n",
       "  <tbody>\n",
       "    <tr>\n",
       "      <th>0</th>\n",
       "      <td>1956-12-31</td>\n",
       "      <td>86.041667</td>\n",
       "    </tr>\n",
       "    <tr>\n",
       "      <th>1</th>\n",
       "      <td>1957-12-31</td>\n",
       "      <td>87.818182</td>\n",
       "    </tr>\n",
       "    <tr>\n",
       "      <th>2</th>\n",
       "      <td>1958-12-31</td>\n",
       "      <td>88.600000</td>\n",
       "    </tr>\n",
       "    <tr>\n",
       "      <th>3</th>\n",
       "      <td>1959-12-31</td>\n",
       "      <td>87.700000</td>\n",
       "    </tr>\n",
       "    <tr>\n",
       "      <th>4</th>\n",
       "      <td>1960-12-31</td>\n",
       "      <td>90.366667</td>\n",
       "    </tr>\n",
       "  </tbody>\n",
       "</table>\n",
       "</div>"
      ],
      "text/plain": [
       "        Year  Yearly avg beer production\n",
       "0 1956-12-31                   86.041667\n",
       "1 1957-12-31                   87.818182\n",
       "2 1958-12-31                   88.600000\n",
       "3 1959-12-31                   87.700000\n",
       "4 1960-12-31                   90.366667"
      ]
     },
     "execution_count": 107,
     "metadata": {},
     "output_type": "execute_result"
    }
   ],
   "source": [
    "beer_yearly_avg = beer.resample(\"Y\", on=\"Month\").mean().reset_index(level=['Month']) \\\n",
    "    .rename(columns={\"Monthly beer production\": \"Yearly avg beer production\", \"Month\": \"Year\"})\n",
    "beer_yearly_avg.head()"
   ]
  },
  {
   "cell_type": "markdown",
   "id": "ef1454f0",
   "metadata": {},
   "source": [
    "<hr style=\"border:2px solid gray\"> </hr>\n",
    "\n",
    "### Now you try! \n",
    "\n",
    "Apply `.sum()` to the resampling above (rather than `.mean()` to produce a new dataframe, `beer_yearly_sum` which contains yearly total beer production. "
   ]
  },
  {
   "cell_type": "code",
   "execution_count": 87,
   "id": "d263f212",
   "metadata": {},
   "outputs": [
    {
     "data": {
      "text/html": [
       "<div>\n",
       "<style scoped>\n",
       "    .dataframe tbody tr th:only-of-type {\n",
       "        vertical-align: middle;\n",
       "    }\n",
       "\n",
       "    .dataframe tbody tr th {\n",
       "        vertical-align: top;\n",
       "    }\n",
       "\n",
       "    .dataframe thead th {\n",
       "        text-align: right;\n",
       "    }\n",
       "</style>\n",
       "<table border=\"1\" class=\"dataframe\">\n",
       "  <thead>\n",
       "    <tr style=\"text-align: right;\">\n",
       "      <th></th>\n",
       "      <th>Month</th>\n",
       "      <th>Yearly sum beer production</th>\n",
       "    </tr>\n",
       "  </thead>\n",
       "  <tbody>\n",
       "    <tr>\n",
       "      <th>0</th>\n",
       "      <td>1956-12-31</td>\n",
       "      <td>1032.5</td>\n",
       "    </tr>\n",
       "    <tr>\n",
       "      <th>1</th>\n",
       "      <td>1957-12-31</td>\n",
       "      <td>966.0</td>\n",
       "    </tr>\n",
       "    <tr>\n",
       "      <th>2</th>\n",
       "      <td>1958-12-31</td>\n",
       "      <td>974.6</td>\n",
       "    </tr>\n",
       "    <tr>\n",
       "      <th>3</th>\n",
       "      <td>1959-12-31</td>\n",
       "      <td>1052.4</td>\n",
       "    </tr>\n",
       "    <tr>\n",
       "      <th>4</th>\n",
       "      <td>1960-12-31</td>\n",
       "      <td>1084.4</td>\n",
       "    </tr>\n",
       "  </tbody>\n",
       "</table>\n",
       "</div>"
      ],
      "text/plain": [
       "       Month  Yearly sum beer production\n",
       "0 1956-12-31                      1032.5\n",
       "1 1957-12-31                       966.0\n",
       "2 1958-12-31                       974.6\n",
       "3 1959-12-31                      1052.4\n",
       "4 1960-12-31                      1084.4"
      ]
     },
     "execution_count": 87,
     "metadata": {},
     "output_type": "execute_result"
    }
   ],
   "source": [
    "### BEGIN SOLUTION \n",
    "\n",
    "beer_yearly_sum = beer.resample(\"Y\", on=\"Month\").sum().reset_index(level=['Month']) \\\n",
    "    .rename(columns={\"Monthly beer production\": \"Yearly sum beer production\"})\n",
    "beer_yearly_sum.head()\n",
    "\n",
    "### END SOLUTION "
   ]
  },
  {
   "cell_type": "markdown",
   "id": "5d5f0ebc",
   "metadata": {},
   "source": [
    "<hr style=\"border:2px solid gray\"> </hr>\n",
    "\n",
    "We could even resample on every 3 months, to give us quarterly sums/averages. "
   ]
  },
  {
   "cell_type": "code",
   "execution_count": 88,
   "id": "8dd4f13f",
   "metadata": {},
   "outputs": [
    {
     "data": {
      "text/html": [
       "<div>\n",
       "<style scoped>\n",
       "    .dataframe tbody tr th:only-of-type {\n",
       "        vertical-align: middle;\n",
       "    }\n",
       "\n",
       "    .dataframe tbody tr th {\n",
       "        vertical-align: top;\n",
       "    }\n",
       "\n",
       "    .dataframe thead th {\n",
       "        text-align: right;\n",
       "    }\n",
       "</style>\n",
       "<table border=\"1\" class=\"dataframe\">\n",
       "  <thead>\n",
       "    <tr style=\"text-align: right;\">\n",
       "      <th></th>\n",
       "      <th>Quarter</th>\n",
       "      <th>Quarterly avg beer production</th>\n",
       "    </tr>\n",
       "  </thead>\n",
       "  <tbody>\n",
       "    <tr>\n",
       "      <th>0</th>\n",
       "      <td>1956-01-31</td>\n",
       "      <td>93.200000</td>\n",
       "    </tr>\n",
       "    <tr>\n",
       "      <th>1</th>\n",
       "      <td>1956-04-30</td>\n",
       "      <td>89.433333</td>\n",
       "    </tr>\n",
       "    <tr>\n",
       "      <th>2</th>\n",
       "      <td>1956-07-31</td>\n",
       "      <td>68.600000</td>\n",
       "    </tr>\n",
       "    <tr>\n",
       "      <th>3</th>\n",
       "      <td>1956-10-31</td>\n",
       "      <td>85.800000</td>\n",
       "    </tr>\n",
       "    <tr>\n",
       "      <th>4</th>\n",
       "      <td>1957-01-31</td>\n",
       "      <td>101.233333</td>\n",
       "    </tr>\n",
       "  </tbody>\n",
       "</table>\n",
       "</div>"
      ],
      "text/plain": [
       "     Quarter  Quarterly avg beer production\n",
       "0 1956-01-31                      93.200000\n",
       "1 1956-04-30                      89.433333\n",
       "2 1956-07-31                      68.600000\n",
       "3 1956-10-31                      85.800000\n",
       "4 1957-01-31                     101.233333"
      ]
     },
     "execution_count": 88,
     "metadata": {},
     "output_type": "execute_result"
    }
   ],
   "source": [
    "beer_quarterly_avg = beer.resample(\"3M\", on=\"Month\").mean().reset_index(level=['Month']) \\\n",
    "    .rename(columns={\"Monthly beer production\": \"Quarterly avg beer production\", \"Month\": \"Quarter\"})\n",
    "beer_quarterly_avg.head()"
   ]
  },
  {
   "cell_type": "code",
   "execution_count": 89,
   "id": "fdf951c7",
   "metadata": {},
   "outputs": [
    {
     "data": {
      "text/html": [
       "<div>\n",
       "<style scoped>\n",
       "    .dataframe tbody tr th:only-of-type {\n",
       "        vertical-align: middle;\n",
       "    }\n",
       "\n",
       "    .dataframe tbody tr th {\n",
       "        vertical-align: top;\n",
       "    }\n",
       "\n",
       "    .dataframe thead th {\n",
       "        text-align: right;\n",
       "    }\n",
       "</style>\n",
       "<table border=\"1\" class=\"dataframe\">\n",
       "  <thead>\n",
       "    <tr style=\"text-align: right;\">\n",
       "      <th></th>\n",
       "      <th>Quarter</th>\n",
       "      <th>Quarterly sum beer production</th>\n",
       "    </tr>\n",
       "  </thead>\n",
       "  <tbody>\n",
       "    <tr>\n",
       "      <th>0</th>\n",
       "      <td>1956-01-31</td>\n",
       "      <td>93.2</td>\n",
       "    </tr>\n",
       "    <tr>\n",
       "      <th>1</th>\n",
       "      <td>1956-04-30</td>\n",
       "      <td>268.3</td>\n",
       "    </tr>\n",
       "    <tr>\n",
       "      <th>2</th>\n",
       "      <td>1956-07-31</td>\n",
       "      <td>205.8</td>\n",
       "    </tr>\n",
       "    <tr>\n",
       "      <th>3</th>\n",
       "      <td>1956-10-31</td>\n",
       "      <td>257.4</td>\n",
       "    </tr>\n",
       "    <tr>\n",
       "      <th>4</th>\n",
       "      <td>1957-01-31</td>\n",
       "      <td>303.7</td>\n",
       "    </tr>\n",
       "  </tbody>\n",
       "</table>\n",
       "</div>"
      ],
      "text/plain": [
       "     Quarter  Quarterly sum beer production\n",
       "0 1956-01-31                           93.2\n",
       "1 1956-04-30                          268.3\n",
       "2 1956-07-31                          205.8\n",
       "3 1956-10-31                          257.4\n",
       "4 1957-01-31                          303.7"
      ]
     },
     "execution_count": 89,
     "metadata": {},
     "output_type": "execute_result"
    }
   ],
   "source": [
    "beer_quarterly_sum = beer.resample(\"3M\", on=\"Month\").sum().reset_index(level=['Month']) \\\n",
    "    .rename(columns={\"Monthly beer production\": \"Quarterly sum beer production\", \"Month\": \"Quarter\"})\n",
    "beer_quarterly_sum.head()"
   ]
  },
  {
   "cell_type": "markdown",
   "id": "63396229",
   "metadata": {},
   "source": [
    "Let's add the yearly resampled mean & quarterly resampled mean to our time series plot to visually demonstrate the change. You'll see that resampling to a coarser timeframe has a **smoothing** effect on the time series! This is helpful as sometimes the level of detail in the original fine timeframe can be distracting from broader trends, or simply is not necessary for the analysis at hand. \n",
    "\n",
    "Even in the coarsest time frame we plotted, yearly, we see the same trend of beer production increasing from 1995 to around 1975, leveling off, and then begining to decrase around 1990. "
   ]
  },
  {
   "cell_type": "code",
   "execution_count": 90,
   "id": "f858e651",
   "metadata": {},
   "outputs": [
    {
     "data": {
      "text/plain": [
       "Text(0, 0.5, 'Amount Produced [Hectoliters]')"
      ]
     },
     "execution_count": 90,
     "metadata": {},
     "output_type": "execute_result"
    },
    {
     "data": {
      "image/png": "[encoded data removed]",
      "text/plain": [
       "<Figure size 432x288 with 1 Axes>"
      ]
     },
     "metadata": {
      "needs_background": "light"
     },
     "output_type": "display_data"
    }
   ],
   "source": [
    "from matplotlib import pyplot as plt\n",
    "\n",
    "plt.plot(beer['Month'], beer['Monthly beer production'], c = 'k', linewidth = 1, label = 'Monthly')\n",
    "\n",
    "plt.plot(beer_quarterly_avg['Quarter'], beer_quarterly_avg['Quarterly avg beer production'], c = 'r', \n",
    "         linewidth = 2, label = 'Quarterly')\n",
    "\n",
    "plt.plot(beer_yearly_avg['Year'], beer_yearly_avg['Yearly avg beer production'], c = 'b', \n",
    "         linewidth = 3, label = 'Yearly')\n",
    "\n",
    "plt.legend()\n",
    "plt.title('Australia Monthly Beer Production')\n",
    "plt.xlabel('Year')\n",
    "plt.ylabel('Amount Produced [Hectoliters]')"
   ]
  },
  {
   "cell_type": "markdown",
   "id": "81a73409",
   "metadata": {},
   "source": [
    "This can also be accomplished with pandas' `asfreq` function, which behaves similarly to `resample`. \n",
    "\n",
    "## Shifting \n",
    "\n",
    "Another useful tool is the ability to **shift** time series data. This is handy when you want to compare each value to the year (or month, day, second, ...) prior. We noticed in the previous plot an increase, level off, then decrease in beer production. We could use `shift` to create a plot that shows just that. \n",
    "\n",
    "Applying `.shift(1)` to our dataframe will create a new column that shifts all values forward one timestep. Using -1 will shift backwards one timestep, and using 5 will shift forward 5 timesteps, and so on. For now we will only shift by a single year in our `beer_yearly_avg` dataframe."
   ]
  },
  {
   "cell_type": "code",
   "execution_count": 103,
   "id": "cdde1288",
   "metadata": {},
   "outputs": [
    {
     "data": {
      "text/html": [
       "<div>\n",
       "<style scoped>\n",
       "    .dataframe tbody tr th:only-of-type {\n",
       "        vertical-align: middle;\n",
       "    }\n",
       "\n",
       "    .dataframe tbody tr th {\n",
       "        vertical-align: top;\n",
       "    }\n",
       "\n",
       "    .dataframe thead th {\n",
       "        text-align: right;\n",
       "    }\n",
       "</style>\n",
       "<table border=\"1\" class=\"dataframe\">\n",
       "  <thead>\n",
       "    <tr style=\"text-align: right;\">\n",
       "      <th></th>\n",
       "      <th>Yearly avg beer production</th>\n",
       "      <th>production_lag1</th>\n",
       "      <th>production_diff</th>\n",
       "    </tr>\n",
       "    <tr>\n",
       "      <th>Year</th>\n",
       "      <th></th>\n",
       "      <th></th>\n",
       "      <th></th>\n",
       "    </tr>\n",
       "  </thead>\n",
       "  <tbody>\n",
       "    <tr>\n",
       "      <th>1956-12-31</th>\n",
       "      <td>NaN</td>\n",
       "      <td>NaN</td>\n",
       "      <td>NaN</td>\n",
       "    </tr>\n",
       "    <tr>\n",
       "      <th>1957-12-31</th>\n",
       "      <td>NaN</td>\n",
       "      <td>NaN</td>\n",
       "      <td>NaN</td>\n",
       "    </tr>\n",
       "    <tr>\n",
       "      <th>1958-12-31</th>\n",
       "      <td>NaN</td>\n",
       "      <td>NaN</td>\n",
       "      <td>NaN</td>\n",
       "    </tr>\n",
       "    <tr>\n",
       "      <th>1959-12-31</th>\n",
       "      <td>NaN</td>\n",
       "      <td>NaN</td>\n",
       "      <td>NaN</td>\n",
       "    </tr>\n",
       "    <tr>\n",
       "      <th>1960-12-31</th>\n",
       "      <td>88.105303</td>\n",
       "      <td>NaN</td>\n",
       "      <td>NaN</td>\n",
       "    </tr>\n",
       "  </tbody>\n",
       "</table>\n",
       "</div>"
      ],
      "text/plain": [
       "            Yearly avg beer production  production_lag1  production_diff\n",
       "Year                                                                    \n",
       "1956-12-31                         NaN              NaN              NaN\n",
       "1957-12-31                         NaN              NaN              NaN\n",
       "1958-12-31                         NaN              NaN              NaN\n",
       "1959-12-31                         NaN              NaN              NaN\n",
       "1960-12-31                   88.105303              NaN              NaN"
      ]
     },
     "execution_count": 103,
     "metadata": {},
     "output_type": "execute_result"
    }
   ],
   "source": [
    "beer_yearly_avg[\"production_lag1\"] = beer_yearly_avg['Yearly avg beer production'].shift(1)\n",
    "beer_yearly_avg.head()"
   ]
  },
  {
   "cell_type": "markdown",
   "id": "0b4eff41",
   "metadata": {},
   "source": [
    "We can use this new column to then easily calculate the difference between beer production from one year to the next - a positive `production_diff` means more beer was produced than the year before, and a negative means less was produced. "
   ]
  },
  {
   "cell_type": "code",
   "execution_count": 96,
   "id": "a5e24adf",
   "metadata": {},
   "outputs": [
    {
     "data": {
      "text/html": [
       "<div>\n",
       "<style scoped>\n",
       "    .dataframe tbody tr th:only-of-type {\n",
       "        vertical-align: middle;\n",
       "    }\n",
       "\n",
       "    .dataframe tbody tr th {\n",
       "        vertical-align: top;\n",
       "    }\n",
       "\n",
       "    .dataframe thead th {\n",
       "        text-align: right;\n",
       "    }\n",
       "</style>\n",
       "<table border=\"1\" class=\"dataframe\">\n",
       "  <thead>\n",
       "    <tr style=\"text-align: right;\">\n",
       "      <th></th>\n",
       "      <th>Year</th>\n",
       "      <th>Yearly avg beer production</th>\n",
       "      <th>production_lag1</th>\n",
       "      <th>production_diff</th>\n",
       "    </tr>\n",
       "  </thead>\n",
       "  <tbody>\n",
       "    <tr>\n",
       "      <th>0</th>\n",
       "      <td>1956-12-31</td>\n",
       "      <td>86.041667</td>\n",
       "      <td>NaN</td>\n",
       "      <td>NaN</td>\n",
       "    </tr>\n",
       "    <tr>\n",
       "      <th>1</th>\n",
       "      <td>1957-12-31</td>\n",
       "      <td>87.818182</td>\n",
       "      <td>86.041667</td>\n",
       "      <td>1.776515</td>\n",
       "    </tr>\n",
       "    <tr>\n",
       "      <th>2</th>\n",
       "      <td>1958-12-31</td>\n",
       "      <td>88.600000</td>\n",
       "      <td>87.818182</td>\n",
       "      <td>0.781818</td>\n",
       "    </tr>\n",
       "    <tr>\n",
       "      <th>3</th>\n",
       "      <td>1959-12-31</td>\n",
       "      <td>87.700000</td>\n",
       "      <td>88.600000</td>\n",
       "      <td>-0.900000</td>\n",
       "    </tr>\n",
       "    <tr>\n",
       "      <th>4</th>\n",
       "      <td>1960-12-31</td>\n",
       "      <td>90.366667</td>\n",
       "      <td>87.700000</td>\n",
       "      <td>2.666667</td>\n",
       "    </tr>\n",
       "  </tbody>\n",
       "</table>\n",
       "</div>"
      ],
      "text/plain": [
       "        Year  Yearly avg beer production  production_lag1  production_diff\n",
       "0 1956-12-31                   86.041667              NaN              NaN\n",
       "1 1957-12-31                   87.818182        86.041667         1.776515\n",
       "2 1958-12-31                   88.600000        87.818182         0.781818\n",
       "3 1959-12-31                   87.700000        88.600000        -0.900000\n",
       "4 1960-12-31                   90.366667        87.700000         2.666667"
      ]
     },
     "execution_count": 96,
     "metadata": {},
     "output_type": "execute_result"
    }
   ],
   "source": [
    "beer_yearly_avg[\"production_diff\"] = beer_yearly_avg['Yearly avg beer production'] - \\\n",
    "    beer_yearly_avg['production_lag1']\n",
    "beer_yearly_avg.head()                                                                                            "
   ]
  },
  {
   "cell_type": "markdown",
   "id": "f2e9f582",
   "metadata": {},
   "source": [
    "We can plot the resulting difference with a horizontal line at zero, where any value above the line means that year indicates an increase in production, and any value below the line indicates a decrease in  production. "
   ]
  },
  {
   "cell_type": "code",
   "execution_count": 97,
   "id": "a21374a9",
   "metadata": {},
   "outputs": [
    {
     "data": {
      "text/plain": [
       "<matplotlib.lines.Line2D at 0x7faa80909310>"
      ]
     },
     "execution_count": 97,
     "metadata": {},
     "output_type": "execute_result"
    },
    {
     "data": {
      "image/png": "[encoded data removed]",
      "text/plain": [
       "<Figure size 432x288 with 1 Axes>"
      ]
     },
     "metadata": {
      "needs_background": "light"
     },
     "output_type": "display_data"
    }
   ],
   "source": [
    "plt.plot(beer_yearly_avg[\"production_diff\"])\n",
    "plt.axhline(y=0, c = 'k')"
   ]
  },
  {
   "cell_type": "markdown",
   "id": "06d3a240",
   "metadata": {},
   "source": [
    "<hr style=\"border:2px solid gray\"> </hr>\n",
    "\n",
    "### Now you try! \n",
    "\n",
    "Add a `production_diff` column to `beer_yearly_sum` that shows the difference between that year's production and the production two years prior. Print the first 5 rows of the altered dataframe. "
   ]
  },
  {
   "cell_type": "code",
   "execution_count": 98,
   "id": "a01c4f6f",
   "metadata": {},
   "outputs": [
    {
     "data": {
      "text/html": [
       "<div>\n",
       "<style scoped>\n",
       "    .dataframe tbody tr th:only-of-type {\n",
       "        vertical-align: middle;\n",
       "    }\n",
       "\n",
       "    .dataframe tbody tr th {\n",
       "        vertical-align: top;\n",
       "    }\n",
       "\n",
       "    .dataframe thead th {\n",
       "        text-align: right;\n",
       "    }\n",
       "</style>\n",
       "<table border=\"1\" class=\"dataframe\">\n",
       "  <thead>\n",
       "    <tr style=\"text-align: right;\">\n",
       "      <th></th>\n",
       "      <th>Month</th>\n",
       "      <th>Yearly sum beer production</th>\n",
       "      <th>production_lag2</th>\n",
       "      <th>production_diff</th>\n",
       "    </tr>\n",
       "  </thead>\n",
       "  <tbody>\n",
       "    <tr>\n",
       "      <th>0</th>\n",
       "      <td>1956-12-31</td>\n",
       "      <td>1032.5</td>\n",
       "      <td>NaN</td>\n",
       "      <td>NaN</td>\n",
       "    </tr>\n",
       "    <tr>\n",
       "      <th>1</th>\n",
       "      <td>1957-12-31</td>\n",
       "      <td>966.0</td>\n",
       "      <td>NaN</td>\n",
       "      <td>NaN</td>\n",
       "    </tr>\n",
       "    <tr>\n",
       "      <th>2</th>\n",
       "      <td>1958-12-31</td>\n",
       "      <td>974.6</td>\n",
       "      <td>1032.5</td>\n",
       "      <td>-943.900000</td>\n",
       "    </tr>\n",
       "    <tr>\n",
       "      <th>3</th>\n",
       "      <td>1959-12-31</td>\n",
       "      <td>1052.4</td>\n",
       "      <td>966.0</td>\n",
       "      <td>-878.300000</td>\n",
       "    </tr>\n",
       "    <tr>\n",
       "      <th>4</th>\n",
       "      <td>1960-12-31</td>\n",
       "      <td>1084.4</td>\n",
       "      <td>974.6</td>\n",
       "      <td>-884.233333</td>\n",
       "    </tr>\n",
       "  </tbody>\n",
       "</table>\n",
       "</div>"
      ],
      "text/plain": [
       "       Month  Yearly sum beer production  production_lag2  production_diff\n",
       "0 1956-12-31                      1032.5              NaN              NaN\n",
       "1 1957-12-31                       966.0              NaN              NaN\n",
       "2 1958-12-31                       974.6           1032.5      -943.900000\n",
       "3 1959-12-31                      1052.4            966.0      -878.300000\n",
       "4 1960-12-31                      1084.4            974.6      -884.233333"
      ]
     },
     "execution_count": 98,
     "metadata": {},
     "output_type": "execute_result"
    }
   ],
   "source": [
    "### BEGIN SOLUTION \n",
    "\n",
    "beer_yearly_sum['production_lag2'] = beer_yearly_sum['Yearly sum beer production'].shift(2)\n",
    "beer_yearly_sum[\"production_diff\"] = beer_yearly_avg['Yearly avg beer production'] - \\\n",
    "    beer_yearly_sum['production_lag2']\n",
    "\n",
    "beer_yearly_sum.head()\n",
    "\n",
    "### END SOLUTION "
   ]
  },
  {
   "attachments": {},
   "cell_type": "markdown",
   "id": "069ae233",
   "metadata": {},
   "source": [
    "<hr style=\"border:2px solid gray\"> </hr>\n",
    "\n",
    "## Rolling average windows\n",
    "\n",
    "Another useful tool is the ability to create a **rolling average** otherwise known as a moving average. This means computing an average for a defined window over and over again, passing through all the values. So say your window size was 3, you'd average values 1-3, then 2-4, then 3-5, etc. until you run out of values. This essentially batches your values in groups of 3 (or whatever window you choose). [This article](https://www.portent.com/blog/analytics/rolling-averages-math-moron.htm_) explains the concept in a bit more detail. \n",
    "\n",
    "We can do this using the `.rolling()` method in pandas. By default, this method will average the value of timestep & the input number of values (window size) previous. The number you put inside the parentheses defines your window size. For now we will average 4 years at a time. You need to add `set_index` to retain the Year as the index in the returned dataframe (it will work if you exclude this, you'll just lose that column). You will also chain the `mean` command at the end to get the average of each window. \n",
    "\n",
    "You'll notice that `beer_yearly_avg_rolling` has `NaN` for the first three values. This is because the method is trying to average each value & the three previous, but there are no three previous values. Therefore the method skips these. "
   ]
  },
  {
   "cell_type": "code",
   "execution_count": 141,
   "id": "442e5daa",
   "metadata": {},
   "outputs": [
    {
     "data": {
      "text/html": [
       "<div>\n",
       "<style scoped>\n",
       "    .dataframe tbody tr th:only-of-type {\n",
       "        vertical-align: middle;\n",
       "    }\n",
       "\n",
       "    .dataframe tbody tr th {\n",
       "        vertical-align: top;\n",
       "    }\n",
       "\n",
       "    .dataframe thead th {\n",
       "        text-align: right;\n",
       "    }\n",
       "</style>\n",
       "<table border=\"1\" class=\"dataframe\">\n",
       "  <thead>\n",
       "    <tr style=\"text-align: right;\">\n",
       "      <th></th>\n",
       "      <th>Year</th>\n",
       "      <th>Yearly avg beer production</th>\n",
       "    </tr>\n",
       "  </thead>\n",
       "  <tbody>\n",
       "    <tr>\n",
       "      <th>0</th>\n",
       "      <td>1956-12-31</td>\n",
       "      <td>NaN</td>\n",
       "    </tr>\n",
       "    <tr>\n",
       "      <th>1</th>\n",
       "      <td>1957-12-31</td>\n",
       "      <td>NaN</td>\n",
       "    </tr>\n",
       "    <tr>\n",
       "      <th>2</th>\n",
       "      <td>1958-12-31</td>\n",
       "      <td>NaN</td>\n",
       "    </tr>\n",
       "    <tr>\n",
       "      <th>3</th>\n",
       "      <td>1959-12-31</td>\n",
       "      <td>87.539962</td>\n",
       "    </tr>\n",
       "    <tr>\n",
       "      <th>4</th>\n",
       "      <td>1960-12-31</td>\n",
       "      <td>88.621212</td>\n",
       "    </tr>\n",
       "  </tbody>\n",
       "</table>\n",
       "</div>"
      ],
      "text/plain": [
       "        Year  Yearly avg beer production\n",
       "0 1956-12-31                         NaN\n",
       "1 1957-12-31                         NaN\n",
       "2 1958-12-31                         NaN\n",
       "3 1959-12-31                   87.539962\n",
       "4 1960-12-31                   88.621212"
      ]
     },
     "execution_count": 141,
     "metadata": {},
     "output_type": "execute_result"
    }
   ],
   "source": [
    "# recreate beer_yearly_average\n",
    "beer_yearly_avg = beer.resample(\"Y\", on=\"Month\").mean().reset_index(level=['Month']) \\\n",
    "    .rename(columns={\"Monthly beer production\": \"Yearly avg beer production\", \"Month\": \"Year\"})\n",
    "\n",
    "# compute rolling average \n",
    "beer_yearly_avg_rolling = beer_yearly_avg.set_index(\"Year\").rolling(4).mean()\n",
    "beer_yearly_avg_rolling.reset_index(level=['Year'], inplace = True)\n",
    "beer_yearly_avg_rolling.head()"
   ]
  },
  {
   "cell_type": "markdown",
   "id": "927c7bb7",
   "metadata": {},
   "source": [
    "You can plot this rolling average to see the smoothing effect like so"
   ]
  },
  {
   "cell_type": "code",
   "execution_count": 142,
   "id": "901dcc2e",
   "metadata": {},
   "outputs": [
    {
     "data": {
      "text/plain": [
       "Text(0, 0.5, 'Amount Produced [Hectoliters]')"
      ]
     },
     "execution_count": 142,
     "metadata": {},
     "output_type": "execute_result"
    },
    {
     "data": {
      "image/png": "[encoded data removed]",
      "text/plain": [
       "<Figure size 432x288 with 1 Axes>"
      ]
     },
     "metadata": {
      "needs_background": "light"
     },
     "output_type": "display_data"
    }
   ],
   "source": [
    "plt.plot(beer_yearly_avg['Year'], beer_yearly_avg['Yearly avg beer production'], c = 'b', \n",
    "         linewidth = 2, label = 'Yearly')\n",
    "\n",
    "plt.plot(beer_yearly_avg_rolling['Year'], beer_yearly_avg_rolling['Yearly avg beer production'], c = 'r', \n",
    "         linewidth = 3, label = '4 Year Rolling Avg.')\n",
    "\n",
    "plt.legend()\n",
    "plt.title('Australia Monthly Beer Production')\n",
    "plt.xlabel('Year')\n",
    "plt.ylabel('Amount Produced [Hectoliters]')"
   ]
  },
  {
   "cell_type": "markdown",
   "id": "3c0ae9ae",
   "metadata": {},
   "source": [
    "An alterative to rolling window analysis is the use of **expanding** windows, as shown [here](https://www.w3resource.com/pandas/series/series-expanding.php#:~:text=Expanding%20transformations%20in%20Pandas,used%20to%20provide%20expanding%20transformations.&text=Minimum%20number%20of%20observations%20in,(otherwise%20result%20is%20NA).&text=Set%20the%20labels%20at%20the%20center%20of%20the%20window.). An expanding window should be used when we want to get the statistic (mean, sum, etc) for **all data up to a certain point in time**. \n",
    "\n",
    "## Time offsets \n",
    "\n",
    "Besides the smoothing effect of the rolling average, you might notice that the rolling average seems to be offset to the right of the yearly values. This is because by default, `rolling` sets the window labels (dates) as the right edge of the window index, in other words the end of the rolling period. \n",
    "\n",
    "One way to fix this is by adding the `cetner = True` parameter in the `rolling` method, which sets window labels as the center of the window index, rather than the right. \n",
    "\n",
    "Another way to do this, which can be applied to a resampled dataframe as well, is to add a **time offset**. Pandas has an entire package that has tools to help you handle time series, and you can call it in using `import pandas.tseries.frequencies` to explore the tools within. For now, we will import only the `to_offset` method as this will help us solve our offset problem.\n",
    "\n",
    "The `loffset` variable should be set to **half** your window - in this case our window = 4, so we will use `loffset = '2Y'` or two years. We subtract this offset from our `Year` column, to add a new offset column. We can then use that column to produce plots that do not have the time shift caused by the resampling/rolling. "
   ]
  },
  {
   "cell_type": "code",
   "execution_count": 139,
   "id": "dd39336d",
   "metadata": {},
   "outputs": [
    {
     "data": {
      "text/html": [
       "<div>\n",
       "<style scoped>\n",
       "    .dataframe tbody tr th:only-of-type {\n",
       "        vertical-align: middle;\n",
       "    }\n",
       "\n",
       "    .dataframe tbody tr th {\n",
       "        vertical-align: top;\n",
       "    }\n",
       "\n",
       "    .dataframe thead th {\n",
       "        text-align: right;\n",
       "    }\n",
       "</style>\n",
       "<table border=\"1\" class=\"dataframe\">\n",
       "  <thead>\n",
       "    <tr style=\"text-align: right;\">\n",
       "      <th></th>\n",
       "      <th>Year</th>\n",
       "      <th>Yearly avg beer production</th>\n",
       "      <th>Year_offset</th>\n",
       "    </tr>\n",
       "  </thead>\n",
       "  <tbody>\n",
       "    <tr>\n",
       "      <th>0</th>\n",
       "      <td>1956-12-31</td>\n",
       "      <td>NaN</td>\n",
       "      <td>1954-12-31</td>\n",
       "    </tr>\n",
       "    <tr>\n",
       "      <th>1</th>\n",
       "      <td>1957-12-31</td>\n",
       "      <td>NaN</td>\n",
       "      <td>1955-12-31</td>\n",
       "    </tr>\n",
       "    <tr>\n",
       "      <th>2</th>\n",
       "      <td>1958-12-31</td>\n",
       "      <td>NaN</td>\n",
       "      <td>1956-12-31</td>\n",
       "    </tr>\n",
       "    <tr>\n",
       "      <th>3</th>\n",
       "      <td>1959-12-31</td>\n",
       "      <td>87.539962</td>\n",
       "      <td>1957-12-31</td>\n",
       "    </tr>\n",
       "    <tr>\n",
       "      <th>4</th>\n",
       "      <td>1960-12-31</td>\n",
       "      <td>88.621212</td>\n",
       "      <td>1958-12-31</td>\n",
       "    </tr>\n",
       "  </tbody>\n",
       "</table>\n",
       "</div>"
      ],
      "text/plain": [
       "        Year  Yearly avg beer production Year_offset\n",
       "0 1956-12-31                         NaN  1954-12-31\n",
       "1 1957-12-31                         NaN  1955-12-31\n",
       "2 1958-12-31                         NaN  1956-12-31\n",
       "3 1959-12-31                   87.539962  1957-12-31\n",
       "4 1960-12-31                   88.621212  1958-12-31"
      ]
     },
     "execution_count": 139,
     "metadata": {},
     "output_type": "execute_result"
    }
   ],
   "source": [
    "from pandas.tseries.frequencies import to_offset\n",
    "\n",
    "loffset = '2Y'\n",
    "beer_yearly_avg_rolling['Year_offset'] = beer_yearly_avg_rolling['Year'] - to_offset(loffset)\n",
    "beer_yearly_avg_rolling.head()"
   ]
  },
  {
   "cell_type": "code",
   "execution_count": 140,
   "id": "13e8bc2a",
   "metadata": {},
   "outputs": [
    {
     "data": {
      "text/plain": [
       "Text(0, 0.5, 'Amount Produced [Hectoliters]')"
      ]
     },
     "execution_count": 140,
     "metadata": {},
     "output_type": "execute_result"
    },
    {
     "data": {
      "image/png": "[encoded data removed]",
      "text/plain": [
       "<Figure size 432x288 with 1 Axes>"
      ]
     },
     "metadata": {
      "needs_background": "light"
     },
     "output_type": "display_data"
    }
   ],
   "source": [
    "plt.plot(beer_yearly_avg['Year'], beer_yearly_avg['Yearly avg beer production'], c = 'b', \n",
    "         linewidth = 2, label = 'Yearly')\n",
    "\n",
    "plt.plot(beer_yearly_avg_rolling['Year_offset'], beer_yearly_avg_rolling['Yearly avg beer production'], c = 'r', \n",
    "         linewidth = 3, label = '4 Year Rolling Avg.')\n",
    "\n",
    "plt.legend()\n",
    "plt.title('Australia Yearly Beer Production')\n",
    "plt.xlabel('Year')\n",
    "plt.ylabel('Amount Produced [Hectoliters]')"
   ]
  },
  {
   "cell_type": "markdown",
   "id": "9b8d535b",
   "metadata": {},
   "source": [
    "<hr style=\"border:2px solid gray\"> </hr>\n",
    "\n",
    "# Practice on your own \n",
    "\n",
    "In this practice section you will work on time series data that shows industrial electricity production, stored in the file `'Electric_Production_edit.csv'`. \n",
    "\n",
    "#### Exercise 1. Read in the data from the `IPG2211A2N_edit.csv` file, adapted from [here](https://fred.stlouisfed.org/series/IPG2211A2N). Rename the `IPG2211A2N` column `Electric Production Index`. Print the summary statistics. "
   ]
  },
  {
   "cell_type": "code",
   "execution_count": 240,
   "id": "a5306527",
   "metadata": {},
   "outputs": [
    {
     "data": {
      "text/html": [
       "<div>\n",
       "<style scoped>\n",
       "    .dataframe tbody tr th:only-of-type {\n",
       "        vertical-align: middle;\n",
       "    }\n",
       "\n",
       "    .dataframe tbody tr th {\n",
       "        vertical-align: top;\n",
       "    }\n",
       "\n",
       "    .dataframe thead th {\n",
       "        text-align: right;\n",
       "    }\n",
       "</style>\n",
       "<table border=\"1\" class=\"dataframe\">\n",
       "  <thead>\n",
       "    <tr style=\"text-align: right;\">\n",
       "      <th></th>\n",
       "      <th>DATE</th>\n",
       "      <th>Electric Production Index</th>\n",
       "    </tr>\n",
       "  </thead>\n",
       "  <tbody>\n",
       "    <tr>\n",
       "      <th>0</th>\n",
       "      <td>1939-01-01</td>\n",
       "      <td>3.3335</td>\n",
       "    </tr>\n",
       "    <tr>\n",
       "      <th>1</th>\n",
       "      <td>1939-02-01</td>\n",
       "      <td>3.3590</td>\n",
       "    </tr>\n",
       "    <tr>\n",
       "      <th>2</th>\n",
       "      <td>1939-03-01</td>\n",
       "      <td>3.4353</td>\n",
       "    </tr>\n",
       "    <tr>\n",
       "      <th>3</th>\n",
       "      <td>1939-04-01</td>\n",
       "      <td>3.4607</td>\n",
       "    </tr>\n",
       "    <tr>\n",
       "      <th>4</th>\n",
       "      <td>1939-05-01</td>\n",
       "      <td>3.4607</td>\n",
       "    </tr>\n",
       "  </tbody>\n",
       "</table>\n",
       "</div>"
      ],
      "text/plain": [
       "         DATE  Electric Production Index\n",
       "0  1939-01-01                     3.3335\n",
       "1  1939-02-01                     3.3590\n",
       "2  1939-03-01                     3.4353\n",
       "3  1939-04-01                     3.4607\n",
       "4  1939-05-01                     3.4607"
      ]
     },
     "execution_count": 240,
     "metadata": {},
     "output_type": "execute_result"
    }
   ],
   "source": [
    "### BEGIN SOLUTION \n",
    "\n",
    "electric = pd.read_csv('IPG2211A2N_edit.csv')\n",
    "electric.rename(columns={\"IPG2211A2N\": \"Electric Production Index\"}, inplace = True)\n",
    "electric.describe()\n",
    "electric.head()\n",
    "\n",
    "### END SOLUTION "
   ]
  },
  {
   "cell_type": "markdown",
   "id": "3d32a493",
   "metadata": {},
   "source": [
    "#### Exercise 2. Identify what the 'fill value' is in this data set, and replace it with `None`. A fill value is usually something like `NaN`, or a value that is obviously nonsense to indicate it should be removed/replaced. Also, make sure the column containing dates is in datetime format. "
   ]
  },
  {
   "cell_type": "code",
   "execution_count": 241,
   "id": "e9e2890d",
   "metadata": {},
   "outputs": [
    {
     "data": {
      "text/plain": [
       "count    1002.000000\n",
       "mean       55.466419\n",
       "std        35.497916\n",
       "min         3.333500\n",
       "25%        20.255500\n",
       "50%        55.613050\n",
       "75%        88.235750\n",
       "max       126.527300\n",
       "Name: Electric Production Index, dtype: float64"
      ]
     },
     "execution_count": 241,
     "metadata": {},
     "output_type": "execute_result"
    }
   ],
   "source": [
    "### BEGIN SOLUTION \n",
    "\n",
    "electric[\"Electric Production Index\"].replace(float(-999), None, inplace = True)\n",
    "electric['DATE'] = pd.to_datetime(electric['DATE'], format='%Y-%m-%d')\n",
    "electric[\"Electric Production Index\"].describe() \n",
    "\n",
    "### END SOLUTION "
   ]
  },
  {
   "cell_type": "markdown",
   "id": "14949be5",
   "metadata": {},
   "source": [
    "#### Exercise 3. Create a plot showing electricity production over time, using the original time resolution. Overlay a plot of data that has been transformed to show decade-long averages of electicity production. Note that for resampling to work, the datetime must be the **index** of the dataframe. "
   ]
  },
  {
   "cell_type": "code",
   "execution_count": 242,
   "id": "ea131203",
   "metadata": {},
   "outputs": [
    {
     "data": {
      "text/plain": [
       "Text(0, 0.5, 'Electric Production Index')"
      ]
     },
     "execution_count": 242,
     "metadata": {},
     "output_type": "execute_result"
    },
    {
     "data": {
      "image/png": "[encoded data removed]",
      "text/plain": [
       "<Figure size 432x288 with 1 Axes>"
      ]
     },
     "metadata": {
      "needs_background": "light"
     },
     "output_type": "display_data"
    }
   ],
   "source": [
    "### BEGIN SOLUTION \n",
    "\n",
    "plt.plot(electric['DATE'], electric[\"Electric Production Index\"], c = 'b', \n",
    "         linewidth = 1, label = 'Monthly')\n",
    "\n",
    "electric_decade = electric.set_index('DATE').resample('10Y').mean()\n",
    "plt.plot(electric_decade.index, electric_decade[\"Electric Production Index\"], c = 'r', \n",
    "linewidth = 3, label = 'Decadal')\n",
    "\n",
    "plt.legend()\n",
    "plt.title('Industrial Electricity Production')\n",
    "plt.xlabel('Year')\n",
    "plt.ylabel('Electric Production Index')\n",
    "\n",
    "### END SOLUTION "
   ]
  },
  {
   "cell_type": "markdown",
   "id": "fe28d7df",
   "metadata": {},
   "source": [
    "#### Exercise 4. Why is there a visible offset between the monthly and decadal averages? Fix this so the offset is gone in the graph. "
   ]
  },
  {
   "cell_type": "code",
   "execution_count": 243,
   "id": "47153ab9",
   "metadata": {},
   "outputs": [
    {
     "data": {
      "text/plain": [
       "Text(0, 0.5, 'Electric Production Index')"
      ]
     },
     "execution_count": 243,
     "metadata": {},
     "output_type": "execute_result"
    },
    {
     "data": {
      "image/png": "[encoded data removed]",
      "text/plain": [
       "<Figure size 432x288 with 1 Axes>"
      ]
     },
     "metadata": {
      "needs_background": "light"
     },
     "output_type": "display_data"
    }
   ],
   "source": [
    "### BEGIN SOLUTION \n",
    "\n",
    "# the offset is caused by the resampled data being re-indexed using the rightmost value in the time window \n",
    "\n",
    "electric_decade.reset_index(inplace = True)\n",
    "loffset = '5Y'\n",
    "electric_decade['DATE_offset'] = electric_decade['DATE'] - to_offset(loffset)\n",
    "\n",
    "# plot \n",
    "plt.plot(electric['DATE'], electric[\"Electric Production Index\"], c = 'b', \n",
    "         linewidth = 1, label = 'Monthly')\n",
    "\n",
    "plt.plot(electric_decade['DATE_offset'], electric_decade[\"Electric Production Index\"], c = 'r', \n",
    "linewidth = 3, label = 'Decadal')\n",
    "\n",
    "plt.legend()\n",
    "plt.title('Industrial Electricity Production')\n",
    "plt.xlabel('Year')\n",
    "plt.ylabel('Electric Production Index')\n",
    "\n",
    "### END SOLUTION "
   ]
  },
  {
   "cell_type": "markdown",
   "id": "20f8e5ed",
   "metadata": {},
   "source": [
    "#### Exercise 5. Create a plot showing the change in energy production from decade to decade. "
   ]
  },
  {
   "cell_type": "code",
   "execution_count": 244,
   "id": "1b33cc49",
   "metadata": {},
   "outputs": [
    {
     "data": {
      "text/plain": [
       "<matplotlib.lines.Line2D at 0x7faa503f7fa0>"
      ]
     },
     "execution_count": 244,
     "metadata": {},
     "output_type": "execute_result"
    },
    {
     "data": {
      "image/png": "[encoded data removed]",
      "text/plain": [
       "<Figure size 432x288 with 1 Axes>"
      ]
     },
     "metadata": {
      "needs_background": "light"
     },
     "output_type": "display_data"
    }
   ],
   "source": [
    "### BEGIN SOLUTION \n",
    "\n",
    "electric_decade['Electric Production Index - lag 1'] = electric_decade['Electric Production Index'].shift(1)\n",
    "electric_decade['Decadal Diff'] = electric_decade['Electric Production Index'] - electric_decade['Electric Production Index - lag 1']\n",
    "\n",
    "plt.plot(electric_decade['DATE'], electric_decade[\"Decadal Diff\"], c = 'r', \n",
    "    linewidth = 3, label = 'Decadal')\n",
    "plt.axhline(y=0, c = 'k')\n",
    "\n",
    "### END SOLUTION "
   ]
  },
  {
   "cell_type": "markdown",
   "id": "ca5011ed",
   "metadata": {},
   "source": [
    "#### Exercise 6. We want to know the total energy produced throughout the timeframe of our data. Compute a rolling sum for this dataset, with a window of 24 months. "
   ]
  },
  {
   "cell_type": "code",
   "execution_count": 245,
   "id": "87b5e63b",
   "metadata": {},
   "outputs": [
    {
     "data": {
      "text/plain": [
       "[<matplotlib.lines.Line2D at 0x7faa60e52df0>]"
      ]
     },
     "execution_count": 245,
     "metadata": {},
     "output_type": "execute_result"
    },
    {
     "data": {
      "image/png": "[encoded data removed]",
      "text/plain": [
       "<Figure size 432x288 with 1 Axes>"
      ]
     },
     "metadata": {
      "needs_background": "light"
     },
     "output_type": "display_data"
    }
   ],
   "source": [
    "### BEGIN SOLUTION \n",
    "\n",
    "electric.set_index('DATE', inplace = True)\n",
    "electric_rolling = electric2.rolling(24).sum()\n",
    "plt.plot(electric_rolling)\n",
    "\n",
    "### END SOLUTION "
   ]
  }
 ],
 "metadata": {
  "kernelspec": {
   "display_name": "Python 3",
   "language": "python",
   "name": "python3"
  },
  "language_info": {
   "codemirror_mode": {
    "name": "ipython",
    "version": 3
   },
   "file_extension": ".py",
   "mimetype": "text/x-python",
   "name": "python",
   "nbconvert_exporter": "python",
   "pygments_lexer": "ipython3",
   "version": "3.8.8"
  }
 },
 "nbformat": 4,
 "nbformat_minor": 5
}
