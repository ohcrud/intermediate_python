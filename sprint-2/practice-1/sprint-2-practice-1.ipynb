{
 "cells": [
  {
   "cell_type": "markdown",
   "id": "af390364",
   "metadata": {},
   "source": [
    "# Time series analysis using Pandas\n",
    "\n",
    "A very common data anlysis task you'll encounter is time series analysis, which involves the study of variables over time. In this practice we will review several Pandas features that are essential to completing time series analysis. \n",
    "\n",
    "## Loading in some time series data \n",
    "\n",
    "To practice working with time series data, we will load in the file `monthly-beer-production-in-austr-edit.csv`, which contains data on beer production in Australia given in hectoliters. Let's use pandas to read this csv file in. "
   ]
  },
  {
   "cell_type": "code",
   "execution_count": null,
   "id": "f0b65c8e",
   "metadata": {},
   "outputs": [],
   "source": [
    "import pandas as pd\n",
    "\n",
    "beer = pd.read_csv('monthly-beer-production-in-austr-edit.csv')\n",
    "beer.head()"
   ]
  },
  {
   "cell_type": "markdown",
   "id": "9dafaa32",
   "metadata": {},
   "source": [
    "## Pre-analysis checks \n",
    "\n",
    "Before begining analysis it is typically a good idea to inspect the data itself. This will give us a chance to identify any odd values, potential data errors, or missing values we may have to deal with. It's better to check & fix these things in the very beginnign than to wait until later when we realized our analysis results look off.\n",
    "\n",
    "A simple start is to use the `describe` method, which should give us a few summary statistics for our data. "
   ]
  },
  {
   "cell_type": "code",
   "execution_count": null,
   "id": "b228a74d",
   "metadata": {},
   "outputs": [],
   "source": [
    "beer['Month'].describe()"
   ]
  },
  {
   "cell_type": "markdown",
   "id": "3b33c87d",
   "metadata": {},
   "source": [
    "First off, we see that the count and the number of unique values are equal, which is a good sign. We know we should have one entry for each unique date in our time range. But we also see that the datatype is `object`. We should convert this to datetime using `pd.to_datetime` before proceeding. This is not only necessary for using some of the time series analysis tools, but also for best results when creating plots. "
   ]
  },
  {
   "cell_type": "code",
   "execution_count": null,
   "id": "ad53486d",
   "metadata": {},
   "outputs": [],
   "source": [
    "beer['Month'] =  pd.to_datetime(beer['Month'], format='%Y-%m')"
   ]
  },
  {
   "cell_type": "markdown",
   "id": "1f0538a2",
   "metadata": {},
   "source": [
    "Now let's check out our second column, which contains beer production in hectoliters. "
   ]
  },
  {
   "cell_type": "code",
   "execution_count": null,
   "id": "e53d5993",
   "metadata": {},
   "outputs": [],
   "source": [
    "beer['Monthly beer production'].describe()"
   ]
  },
  {
   "cell_type": "markdown",
   "id": "941f44f7",
   "metadata": {},
   "source": [
    "The data type is `object`, which isn't ideal. We want to be able to treat these values as numbers. Let's convert to a numeric format. "
   ]
  },
  {
   "cell_type": "code",
   "execution_count": null,
   "id": "3c99a27a",
   "metadata": {},
   "outputs": [],
   "source": [
    "beer['Monthly beer production'] = pd.to_numeric(beer['Monthly beer production'])"
   ]
  },
  {
   "cell_type": "markdown",
   "id": "baafeae9",
   "metadata": {},
   "source": [
    "Hmm looks like we have a problem! There seems to be at least one value with an incorrect format - no number should have two decimal points! Let's find where these values exist and replace them with a fill-value, `None`. \n",
    "\n",
    "Then, we can try to convert to numeric again. "
   ]
  },
  {
   "cell_type": "code",
   "execution_count": null,
   "id": "5e123ae8",
   "metadata": {},
   "outputs": [],
   "source": [
    "for ind, row in beer.iterrows():\n",
    "    count_decimals = row['Monthly beer production'].count('.')\n",
    "    if count_decimals > 1:\n",
    "        beer['Monthly beer production'].iloc[ind] = None "
   ]
  },
  {
   "cell_type": "code",
   "execution_count": null,
   "id": "70eb4ce9",
   "metadata": {},
   "outputs": [],
   "source": [
    "beer['Monthly beer production'] = pd.to_numeric(beer['Monthly beer production'])"
   ]
  },
  {
   "cell_type": "markdown",
   "id": "73bfdc04",
   "metadata": {},
   "source": [
    "When we use `describe` on a numeric column, we get summary statistics which give us an idea of our data values range and behavior. "
   ]
  },
  {
   "cell_type": "code",
   "execution_count": null,
   "id": "eecd39d8",
   "metadata": {},
   "outputs": [],
   "source": [
    "beer['Monthly beer production'].describe()"
   ]
  },
  {
   "cell_type": "markdown",
   "id": "d1f48b2f",
   "metadata": {},
   "source": [
    "Take a look at the minimum value, listed as -130. It's not possible to produce a negative amount of beer, so let's investigate. We will look at how many values in the column are negative. If there are a high fraction of negative production values, we know we have a big problem with our data. However if there's just a couple then its likely just a typo and we can `replace` the value and move on. "
   ]
  },
  {
   "cell_type": "code",
   "execution_count": null,
   "id": "abcda979",
   "metadata": {},
   "outputs": [],
   "source": [
    "# how many rows with negative values?\n",
    "neg_values = beer[beer['Monthly beer production'] < 0]\n",
    "len(neg_values)"
   ]
  },
  {
   "cell_type": "code",
   "execution_count": null,
   "id": "21aeb943",
   "metadata": {},
   "outputs": [],
   "source": [
    "# just one strange value so lets replace that min value with none \n",
    "beer['Monthly beer production'].replace(neg_values['Monthly beer production'].values, None, inplace = True)"
   ]
  },
  {
   "cell_type": "code",
   "execution_count": null,
   "id": "d23ff318",
   "metadata": {},
   "outputs": [],
   "source": [
    "# and run describe again to make sure it worked \n",
    "beer['Monthly beer production'].describe()"
   ]
  },
  {
   "cell_type": "markdown",
   "id": "a872554e",
   "metadata": {},
   "source": [
    "## A basic time series plot\n",
    "\n",
    "Now that we've cleaned up our dataframe, we are ready to begin some time series analysis. Let's start with a simple plot using panda's built in plotting functionality. "
   ]
  },
  {
   "cell_type": "code",
   "execution_count": null,
   "id": "504fd1f7",
   "metadata": {},
   "outputs": [],
   "source": [
    "beer.plot(x = 'Month', y = 'Monthly beer production', title = 'Australia Monthly Beer Production')"
   ]
  },
  {
   "cell_type": "markdown",
   "id": "92c1495c",
   "metadata": {},
   "source": [
    "We can do the same using the matplotlib's pyplot, like so "
   ]
  },
  {
   "cell_type": "code",
   "execution_count": null,
   "id": "0dc212d9",
   "metadata": {},
   "outputs": [],
   "source": [
    "from matplotlib import pyplot as plt\n",
    "\n",
    "plt.plot(beer['Month'], beer['Monthly beer production'])\n",
    "plt.title('Australia Monthly Beer Production')\n",
    "plt.xlabel('Year')\n",
    "plt.ylabel('Amount Produced [Hectoliters]')"
   ]
  },
  {
   "cell_type": "markdown",
   "id": "5aa925a2",
   "metadata": {},
   "source": [
    "## Resampling \n",
    "\n",
    "A popular time series analysis technique you'll need is the ability to **resample** data. This means changing the frequency at which your data is reported. In our `beer` dataframe the data is given monthly, which means there is a single value per month. We could resample this to make it coarser, say a frequency of 1 value per year using `df.resample()`. We do this by applying an operation like `sum` or `mean` to translate the monthly values into yearly values. \n",
    "\n",
    "The following uses `mean` to give us yearly average beer production. Note that the `Month` column has been altered as well - it is now the index, and the values changed too. Resampling will change your timestamp value in such a way that it reflects the **end** of the resampling period. "
   ]
  },
  {
   "cell_type": "code",
   "execution_count": null,
   "id": "27886a45",
   "metadata": {},
   "outputs": [],
   "source": [
    "beer_yearly_avg = beer.resample(\"Y\", on=\"Month\").mean()\n",
    "beer_yearly_avg.head()"
   ]
  },
  {
   "cell_type": "markdown",
   "id": "296dab7d",
   "metadata": {},
   "source": [
    "You'll also notice that the headers in the altered dataframe have been offset. This is because the resampling created what is called a **multiindex** in pandas. Also, see that the column name is still 'monthly' although the timeframe for the data is now 'yearly'. \n",
    "\n",
    "You can reset the index & add a new column name like so: "
   ]
  },
  {
   "cell_type": "code",
   "execution_count": null,
   "id": "6c2ba289",
   "metadata": {},
   "outputs": [],
   "source": [
    "beer_yearly_avg = beer_yearly_avg.reset_index(level=['Month'])\n",
    "beer_yearly_avg.rename(columns={\"Monthly beer production\": \"Yearly avg beer production\", \\\n",
    "                                \"Month\": \"Year\"}, inplace = True)\n",
    "beer_yearly_avg.head()"
   ]
  },
  {
   "cell_type": "markdown",
   "id": "01468762",
   "metadata": {},
   "source": [
    "You could also chain the re-indexing & column name change to the resampling line to keep your code streamlined, like in the following cell. However, it is up to you how you choose to do this, as chaining too many things together can make code a bit harder to read. "
   ]
  },
  {
   "cell_type": "code",
   "execution_count": null,
   "id": "f03a95b4",
   "metadata": {},
   "outputs": [],
   "source": [
    "beer_yearly_avg = beer.resample(\"Y\", on=\"Month\").mean().reset_index(level=['Month']) \\\n",
    "    .rename(columns={\"Monthly beer production\": \"Yearly avg beer production\", \"Month\": \"Year\"})\n",
    "beer_yearly_avg.head()"
   ]
  },
  {
   "cell_type": "markdown",
   "id": "d5b8fd40",
   "metadata": {},
   "source": [
    "<hr style=\"border:2px solid gray\"> </hr>\n",
    "\n",
    "### Now you try! \n",
    "\n",
    "Apply `.sum()` to the resampling above (rather than `.mean()` to produce a new dataframe, `beer_yearly_sum` which contains yearly total beer production. "
   ]
  },
  {
   "cell_type": "code",
   "execution_count": null,
   "id": "aa567886",
   "metadata": {},
   "outputs": [],
   "source": [
    "### BEGIN SOLUTION \n",
    "\n",
    "beer_yearly_sum = beer.resample(\"Y\", on=\"Month\").sum().reset_index(level=['Month']) \\\n",
    "    .rename(columns={\"Monthly beer production\": \"Yearly sum beer production\"})\n",
    "beer_yearly_sum.head()\n",
    "\n",
    "### END SOLUTION "
   ]
  },
  {
   "cell_type": "markdown",
   "id": "6271a754",
   "metadata": {},
   "source": [
    "<hr style=\"border:2px solid gray\"> </hr>\n",
    "\n",
    "We could even resample on every 3 months, to give us quarterly sums/averages. "
   ]
  },
  {
   "cell_type": "code",
   "execution_count": null,
   "id": "eb495ba4",
   "metadata": {},
   "outputs": [],
   "source": [
    "beer_quarterly_avg = beer.resample(\"3M\", on=\"Month\").mean().reset_index(level=['Month']) \\\n",
    "    .rename(columns={\"Monthly beer production\": \"Quarterly avg beer production\", \"Month\": \"Quarter\"})\n",
    "beer_quarterly_avg.head()"
   ]
  },
  {
   "cell_type": "code",
   "execution_count": null,
   "id": "6245a434",
   "metadata": {},
   "outputs": [],
   "source": [
    "beer_quarterly_sum = beer.resample(\"3M\", on=\"Month\").sum().reset_index(level=['Month']) \\\n",
    "    .rename(columns={\"Monthly beer production\": \"Quarterly sum beer production\", \"Month\": \"Quarter\"})\n",
    "beer_quarterly_sum.head()"
   ]
  },
  {
   "cell_type": "markdown",
   "id": "0e448d2a",
   "metadata": {},
   "source": [
    "Let's add the yearly resampled mean & quarterly resampled mean to our time series plot to visually demonstrate the change. You'll see that resampling to a coarser timeframe has a **smoothing** effect on the time series! This is helpful as sometimes the level of detail in the original fine timeframe can be distracting from broader trends, or simply is not necessary for the analysis at hand. \n",
    "\n",
    "Even in the coarsest time frame we plotted, yearly, we see the same trend of beer production increasing from 1995 to around 1975, leveling off, and then begining to decrase around 1990. "
   ]
  },
  {
   "cell_type": "code",
   "execution_count": null,
   "id": "ecb472a9",
   "metadata": {},
   "outputs": [],
   "source": [
    "from matplotlib import pyplot as plt\n",
    "\n",
    "plt.plot(beer['Month'], beer['Monthly beer production'], c = 'k', linewidth = 1, label = 'Monthly')\n",
    "\n",
    "plt.plot(beer_quarterly_avg['Quarter'], beer_quarterly_avg['Quarterly avg beer production'], c = 'r', \n",
    "         linewidth = 2, label = 'Quarterly')\n",
    "\n",
    "plt.plot(beer_yearly_avg['Year'], beer_yearly_avg['Yearly avg beer production'], c = 'b', \n",
    "         linewidth = 3, label = 'Yearly')\n",
    "\n",
    "plt.legend()\n",
    "plt.title('Australia Monthly Beer Production')\n",
    "plt.xlabel('Year')\n",
    "plt.ylabel('Amount Produced [Hectoliters]')"
   ]
  },
  {
   "cell_type": "markdown",
   "id": "1a1c20f0",
   "metadata": {},
   "source": [
    "This can also be accomplished with pandas' `asfreq` function, which behaves similarly to `resample`. \n",
    "\n",
    "## Shifting \n",
    "\n",
    "Another useful tool is the ability to **shift** time series data. This is handy when you want to compare each value to the year (or month, day, second, ...) prior. We noticed in the previous plot an increase, level off, then decrease in beer production. We could use `shift` to create a plot that shows just that. \n",
    "\n",
    "Applying `.shift(1)` to our dataframe will create a new column that shifts all values forward one timestep. Using -1 will shift backwards one timestep, and using 5 will shift forward 5 timesteps, and so on. For now we will only shift by a single year in our `beer_yearly_avg` dataframe."
   ]
  },
  {
   "cell_type": "code",
   "execution_count": null,
   "id": "089f74c2",
   "metadata": {},
   "outputs": [],
   "source": [
    "beer_yearly_avg[\"production_lag1\"] = beer_yearly_avg['Yearly avg beer production'].shift(1)\n",
    "beer_yearly_avg.head()"
   ]
  },
  {
   "cell_type": "markdown",
   "id": "085a0e23",
   "metadata": {},
   "source": [
    "We can use this new column to then easily calculate the difference between beer production from one year to the next - a positive `production_diff` means more beer was produced than the year before, and a negative means less was produced. "
   ]
  },
  {
   "cell_type": "code",
   "execution_count": null,
   "id": "435c1e3a",
   "metadata": {},
   "outputs": [],
   "source": [
    "beer_yearly_avg[\"production_diff\"] = beer_yearly_avg['Yearly avg beer production'] - \\\n",
    "    beer_yearly_avg['production_lag1']\n",
    "beer_yearly_avg.head()                                                                                            "
   ]
  },
  {
   "cell_type": "markdown",
   "id": "6151fb73",
   "metadata": {},
   "source": [
    "We can plot the resulting difference with a horizontal line at zero, where any value above the line means that year indicates an increase in production, and any value below the line indicates a decrease in  production. "
   ]
  },
  {
   "cell_type": "code",
   "execution_count": null,
   "id": "58aa4c39",
   "metadata": {},
   "outputs": [],
   "source": [
    "plt.plot(beer_yearly_avg[\"production_diff\"])\n",
    "plt.axhline(y=0, c = 'k')"
   ]
  },
  {
   "cell_type": "markdown",
   "id": "486b0299",
   "metadata": {},
   "source": [
    "<hr style=\"border:2px solid gray\"> </hr>\n",
    "\n",
    "### Now you try! \n",
    "\n",
    "Add a `production_diff` column to `beer_yearly_sum` that shows the difference between that year's production and the production two years prior. Print the first 5 rows of the altered dataframe. "
   ]
  },
  {
   "cell_type": "code",
   "execution_count": null,
   "id": "5a4a02c5",
   "metadata": {},
   "outputs": [],
   "source": [
    "### BEGIN SOLUTION \n",
    "\n",
    "beer_yearly_sum['production_lag2'] = beer_yearly_sum['Yearly sum beer production'].shift(2)\n",
    "beer_yearly_sum[\"production_diff\"] = beer_yearly_avg['Yearly avg beer production'] - \\\n",
    "    beer_yearly_sum['production_lag2']\n",
    "\n",
    "beer_yearly_sum.head()\n",
    "\n",
    "### END SOLUTION "
   ]
  },
  {
   "cell_type": "markdown",
   "id": "90f0c73e",
   "metadata": {},
   "source": [
    "<hr style=\"border:2px solid gray\"> </hr>\n",
    "\n",
    "## Rolling average windows\n",
    "\n",
    "Another useful tool is the ability to create a **rolling average** otherwise known as a moving average. This means computing an average for a defined window over and over again, passing through all the values. So say your window size was 3, you'd average values 1-3, then 2-4, then 3-5, etc. until you run out of values. This essentially batches your values in groups of 3 (or whatever window you choose). [This article](https://www.portent.com/blog/analytics/rolling-averages-math-moron.htm_) explains the concept in a bit more detail. \n",
    "\n",
    "We can do this using the `.rolling()` method in pandas. By default, this method will average the value of timestep & the input number of values (window size) previous. The number you put inside the parentheses defines your window size. For now we will average 4 years at a time. You need to add `set_index` to retain the Year as the index in the returned dataframe (it will work if you exclude this, you'll just lose that column). You will also chain the `mean` command at the end to get the average of each window. \n",
    "\n",
    "You'll notice that `beer_yearly_avg_rolling` has `NaN` for the first three values. This is because the method is trying to average each value & the three previous, but there are no three previous values. Therefore the method skips these. "
   ]
  },
  {
   "cell_type": "code",
   "execution_count": null,
   "id": "4935c90e",
   "metadata": {},
   "outputs": [],
   "source": [
    "# recreate beer_yearly_average\n",
    "beer_yearly_avg = beer.resample(\"Y\", on=\"Month\").mean().reset_index(level=['Month']) \\\n",
    "    .rename(columns={\"Monthly beer production\": \"Yearly avg beer production\", \"Month\": \"Year\"})\n",
    "\n",
    "# compute rolling average \n",
    "beer_yearly_avg_rolling = beer_yearly_avg.set_index(\"Year\").rolling(4).mean()\n",
    "beer_yearly_avg_rolling.reset_index(level=['Year'], inplace = True)\n",
    "beer_yearly_avg_rolling.head()"
   ]
  },
  {
   "cell_type": "markdown",
   "id": "2d3bc116",
   "metadata": {},
   "source": [
    "You can plot this rolling average to see the smoothing effect like so"
   ]
  },
  {
   "cell_type": "code",
   "execution_count": null,
   "id": "e514bbcf",
   "metadata": {},
   "outputs": [],
   "source": [
    "plt.plot(beer_yearly_avg['Year'], beer_yearly_avg['Yearly avg beer production'], c = 'b', \n",
    "         linewidth = 2, label = 'Yearly')\n",
    "\n",
    "plt.plot(beer_yearly_avg_rolling['Year'], beer_yearly_avg_rolling['Yearly avg beer production'], c = 'r', \n",
    "         linewidth = 3, label = '4 Year Rolling Avg.')\n",
    "\n",
    "plt.legend()\n",
    "plt.title('Australia Monthly Beer Production')\n",
    "plt.xlabel('Year')\n",
    "plt.ylabel('Amount Produced [Hectoliters]')"
   ]
  },
  {
   "cell_type": "markdown",
   "id": "07b95142",
   "metadata": {},
   "source": [
    "An alterative to rolling window analysis is the use of **expanding** windows, as shown [here](https://www.w3resource.com/pandas/series/series-expanding.php#:~:text=Expanding%20transformations%20in%20Pandas,used%20to%20provide%20expanding%20transformations.&text=Minimum%20number%20of%20observations%20in,(otherwise%20result%20is%20NA).&text=Set%20the%20labels%20at%20the%20center%20of%20the%20window.). An expanding window should be used when we want to get the statistic (mean, sum, etc) for **all data up to a certain point in time**. \n",
    "\n",
    "## Time offsets \n",
    "\n",
    "Besides the smoothing effect of the rolling average, you might notice that the rolling average seems to be offset to the right of the yearly values. This is because by default, `rolling` sets the window labels (dates) as the right edge of the window index, in other words the end of the rolling period. \n",
    "\n",
    "One way to fix this is by adding the `cetner = True` parameter in the `rolling` method, which sets window labels as the center of the window index, rather than the right. \n",
    "\n",
    "Another way to do this, which can be applied to a resampled dataframe as well, is to add a **time offset**. Pandas has an entire package that has tools to help you handle time series, and you can call it in using `import pandas.tseries.frequencies` to explore the tools within. For now, we will import only the `to_offset` method as this will help us solve our offset problem.\n",
    "\n",
    "The `loffset` variable should be set to **half** your window - in this case our window = 4, so we will use `loffset = '2Y'` or two years. We subtract this offset from our `Year` column, to add a new offset column. We can then use that column to produce plots that do not have the time shift caused by the resampling/rolling. "
   ]
  },
  {
   "cell_type": "code",
   "execution_count": null,
   "id": "342e065a",
   "metadata": {},
   "outputs": [],
   "source": [
    "from pandas.tseries.frequencies import to_offset\n",
    "\n",
    "loffset = '2Y'\n",
    "beer_yearly_avg_rolling['Year_offset'] = beer_yearly_avg_rolling['Year'] - to_offset(loffset)\n",
    "beer_yearly_avg_rolling.head()"
   ]
  },
  {
   "cell_type": "code",
   "execution_count": null,
   "id": "d48541a6",
   "metadata": {},
   "outputs": [],
   "source": [
    "plt.plot(beer_yearly_avg['Year'], beer_yearly_avg['Yearly avg beer production'], c = 'b', \n",
    "         linewidth = 2, label = 'Yearly')\n",
    "\n",
    "plt.plot(beer_yearly_avg_rolling['Year_offset'], beer_yearly_avg_rolling['Yearly avg beer production'], c = 'r', \n",
    "         linewidth = 3, label = '4 Year Rolling Avg.')\n",
    "\n",
    "plt.legend()\n",
    "plt.title('Australia Yearly Beer Production')\n",
    "plt.xlabel('Year')\n",
    "plt.ylabel('Amount Produced [Hectoliters]')"
   ]
  },
  {
   "cell_type": "markdown",
   "id": "502e752b",
   "metadata": {},
   "source": [
    "<hr style=\"border:2px solid gray\"> </hr>\n",
    "\n",
    "# Practice on your own \n",
    "\n",
    "In this practice section you will work on time series data that shows industrial electricity production, stored in the file `'Electric_Production_edit.csv'`. \n",
    "\n",
    "#### Exercise 1. Read in the data from the `IPG2211A2N_edit.csv` file, adapted from [here](https://fred.stlouisfed.org/series/IPG2211A2N). Rename the `IPG2211A2N` column `Electric Production Index`. Print the summary statistics. "
   ]
  },
  {
   "cell_type": "code",
   "execution_count": null,
   "id": "6a7d537b",
   "metadata": {},
   "outputs": [],
   "source": [
    "### BEGIN SOLUTION \n",
    "\n",
    "electric = pd.read_csv('IPG2211A2N_edit.csv')\n",
    "electric.rename(columns={\"IPG2211A2N\": \"Electric Production Index\"}, inplace = True)\n",
    "electric.describe()\n",
    "electric.head()\n",
    "\n",
    "### END SOLUTION "
   ]
  },
  {
   "cell_type": "markdown",
   "id": "ebbac66e",
   "metadata": {},
   "source": [
    "#### Exercise 2. Identify what the 'fill value' is in this data set, and replace it with `None`. A fill value is usually something like `NaN`, or a value that is obviously nonsense to indicate it should be removed/replaced. Also, make sure the column containing dates is in datetime format. "
   ]
  },
  {
   "cell_type": "code",
   "execution_count": null,
   "id": "663798c2",
   "metadata": {},
   "outputs": [],
   "source": [
    "### BEGIN SOLUTION \n",
    "\n",
    "electric[\"Electric Production Index\"].replace(float(-999), None, inplace = True)\n",
    "electric['DATE'] = pd.to_datetime(electric['DATE'], format='%Y-%m-%d')\n",
    "electric[\"Electric Production Index\"].describe() \n",
    "\n",
    "### END SOLUTION "
   ]
  },
  {
   "cell_type": "markdown",
   "id": "cc314009",
   "metadata": {},
   "source": [
    "#### Exercise 3. We want to know the total amount of energy produced throughout the timeframe of our data. Compute a rolling sum for this dataset, with a window of 24 months. "
   ]
  },
  {
   "cell_type": "code",
   "execution_count": null,
   "id": "6567706e",
   "metadata": {},
   "outputs": [],
   "source": [
    "### BEGIN SOLUTION \n",
    "\n",
    "electric.set_index('DATE', inplace = True)\n",
    "electric_rolling = electric.rolling(24).sum()\n",
    "plt.plot(electric_rolling)\n",
    "\n",
    "### END SOLUTION "
   ]
  },
  {
   "cell_type": "markdown",
   "id": "38bd7e15",
   "metadata": {},
   "source": [
    "#### Exercise 4. Create a plot showing electricity production over time, using the original time resolution. Overlay a plot of data that has been transformed to show decade-long averages of electicity production. Note that for resampling to work, the datetime must be the **index** of the dataframe. "
   ]
  },
  {
   "cell_type": "code",
   "execution_count": null,
   "id": "225a429d",
   "metadata": {},
   "outputs": [],
   "source": [
    "### BEGIN SOLUTION \n",
    "\n",
    "plt.plot(electric.index, electric[\"Electric Production Index\"], c = 'b', \n",
    "         linewidth = 1, label = 'Monthly')\n",
    "\n",
    "electric_decade = electric.resample('10Y').mean()\n",
    "plt.plot(electric_decade.index, electric_decade[\"Electric Production Index\"], c = 'r', \n",
    "linewidth = 3, label = 'Decadal')\n",
    "\n",
    "plt.legend()\n",
    "plt.title('Industrial Electricity Production')\n",
    "plt.xlabel('Year')\n",
    "plt.ylabel('Electric Production Index')\n",
    "\n",
    "### END SOLUTION "
   ]
  },
  {
   "cell_type": "markdown",
   "id": "3a868f2b",
   "metadata": {},
   "source": [
    "#### Exercise 5. Why is there a visible offset between the monthly and decadal averages? Fix this so the offset is gone in the graph. "
   ]
  },
  {
   "cell_type": "code",
   "execution_count": null,
   "id": "84367af1",
   "metadata": {},
   "outputs": [],
   "source": [
    "### BEGIN SOLUTION \n",
    "\n",
    "# the offset is caused by the resampled data being re-indexed using the rightmost value in the time window \n",
    "\n",
    "electric_decade.reset_index(inplace = True)\n",
    "loffset = '5Y'\n",
    "electric_decade['DATE_offset'] = electric_decade['DATE'] - to_offset(loffset)\n",
    "\n",
    "# plot \n",
    "plt.plot(electric.index, electric[\"Electric Production Index\"], c = 'b', \n",
    "         linewidth = 1, label = 'Monthly')\n",
    "\n",
    "plt.plot(electric_decade['DATE_offset'], electric_decade[\"Electric Production Index\"], c = 'r', \n",
    "linewidth = 3, label = 'Decadal')\n",
    "\n",
    "plt.legend()\n",
    "plt.title('Industrial Electricity Production')\n",
    "plt.xlabel('Year')\n",
    "plt.ylabel('Electric Production Index')\n",
    "\n",
    "### END SOLUTION "
   ]
  },
  {
   "cell_type": "markdown",
   "id": "801cb8c0",
   "metadata": {},
   "source": [
    "#### Exercise 6. Create a plot showing the change in energy production from decade to decade. "
   ]
  },
  {
   "cell_type": "code",
   "execution_count": null,
   "id": "ed988ef3",
   "metadata": {},
   "outputs": [],
   "source": [
    "### BEGIN SOLUTION \n",
    "\n",
    "electric_decade['Electric Production Index - lag 1'] = electric_decade['Electric Production Index'].shift(1)\n",
    "electric_decade['Decadal Diff'] = electric_decade['Electric Production Index'] - electric_decade['Electric Production Index - lag 1']\n",
    "\n",
    "plt.plot(electric_decade['DATE'], electric_decade[\"Decadal Diff\"], c = 'r', \n",
    "    linewidth = 3, label = 'Decadal')\n",
    "plt.axhline(y=0, c = 'k')\n",
    "\n",
    "### END SOLUTION "
   ]
  }
 ],
 "metadata": {
  "kernelspec": {
   "display_name": "Python 3",
   "language": "python",
   "name": "python3"
  },
  "language_info": {
   "codemirror_mode": {
    "name": "ipython",
    "version": 3
   },
   "file_extension": ".py",
   "mimetype": "text/x-python",
   "name": "python",
   "nbconvert_exporter": "python",
   "pygments_lexer": "ipython3",
   "version": "3.8.8"
  }
 },
 "nbformat": 4,
 "nbformat_minor": 5
}
