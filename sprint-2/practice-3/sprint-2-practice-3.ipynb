{
 "cells": [
  {
   "cell_type": "markdown",
   "id": "83c9e30b",
   "metadata": {},
   "source": [
    "# String Manipulation, Regex, and Lamda Functions \n",
    "\n",
    "## Python native string operations \n",
    "\n",
    "String manipulation is a common task you'll have to execute during data analysis, which can include parsing strings, splitting/breaking them apart, searching, or substituting. Python has some built in tools that are able to perform some basic string manipulations, some of which we've used in previous modules. \n",
    "\n",
    "Let's bring in a string-heavy dataset to demonstrate with. We will be using data in file `most_backed.csv` which contains data from the most backed campaigns on the crowd funding platform \"Kickstarter\", found [here](https://www.kaggle.com/datasets/socathie/kickstarter-project-statistics). "
   ]
  },
  {
   "cell_type": "code",
   "execution_count": null,
   "id": "fe70fbc0",
   "metadata": {},
   "outputs": [],
   "source": [
    "import pandas as pd\n",
    "\n",
    "kst = pd.read_csv('most_backed_edit.csv', nrows = 100)\n",
    "kst.drop(columns = 'Unnamed: 0', inplace = True)\n",
    "kst.head(3)"
   ]
  },
  {
   "cell_type": "markdown",
   "id": "50529c3d",
   "metadata": {},
   "source": [
    "You should already be familiar with string operations such as adding, where we can add characters/strings together. For example we can alter the url column to include the full url, not just the path alone - e.g. `/projects/elanlee/exploding-kittens` becomes `www.kickstarter.com/projects/elanlee/exploding-kittens`. \n",
    "\n",
    "We can create a string that contains the domain, and add that to the path to create a string with the full url. For a single string it looks like this: "
   ]
  },
  {
   "cell_type": "code",
   "execution_count": null,
   "id": "110e7bcf",
   "metadata": {},
   "outputs": [],
   "source": [
    "domain = 'www.kickstarter.com'\n",
    "path = kst.url[0]\n",
    "domain+path"
   ]
  },
  {
   "cell_type": "markdown",
   "id": "d1d8ea19",
   "metadata": {},
   "source": [
    "To apply this to an column in a pandas dataframe, we simply apply the string methods to it as a **series**. Applying string methods to a series will operate on every element in the column. We could then replace the existing column with the altered series. "
   ]
  },
  {
   "cell_type": "code",
   "execution_count": null,
   "id": "3809e7b7",
   "metadata": {},
   "outputs": [],
   "source": [
    "kst['url'] = domain + kst.url\n",
    "kst.head(3)  "
   ]
  },
  {
   "cell_type": "markdown",
   "id": "5dc4d55b",
   "metadata": {},
   "source": [
    "Methods, such as `.strip()` and `.split()` can be added to series as well. When using native python to strip a string `s` you'd use `s.strip()` whereas with a series, `ser` you would use `ser.str.split()`. \n",
    "\n",
    "For example, let's strip the newline `\\n` from the `blurb` column. Note that we did this in sprint 1 practice 2 using lists, where we used a for loop to access each element in the list. When using a pandas series, you can bypass the for loop and complete the task in a single line! "
   ]
  },
  {
   "cell_type": "code",
   "execution_count": null,
   "id": "63d331f5",
   "metadata": {},
   "outputs": [],
   "source": [
    "kst.blurb = kst.blurb.str.strip()\n",
    "kst.blurb"
   ]
  },
  {
   "cell_type": "markdown",
   "id": "5bd33e3e",
   "metadata": {},
   "source": [
    "<hr style=\"border:2px solid gray\"> </hr>\n",
    "\n",
    "### Now you try! \n",
    "\n",
    "Look at the values of `kst.category`. Remove the whitespace that occurs before some of the values, e.g. `kst.category[4]`, and replace the column in our `kst` dataframe. "
   ]
  },
  {
   "cell_type": "code",
   "execution_count": null,
   "id": "4a45d376",
   "metadata": {},
   "outputs": [],
   "source": [
    "### BEGIN SOLUTION \n",
    "\n",
    "kst.category = kst.category.str.strip()\n",
    "kst.category\n",
    "\n",
    "### END SOLUTION "
   ]
  },
  {
   "cell_type": "markdown",
   "id": "c6c6a4a2",
   "metadata": {},
   "source": [
    "<hr style=\"border:2px solid gray\"> </hr>\n",
    "\n",
    "For splitting, you'd use `str.split()`, which allows us to split a string into a list based on a particular separator. Say we wanted to split the `location` column into two columns where one contains the city & the other contains the state name. We are returned a series where now each element is a **list** containing the split elements. "
   ]
  },
  {
   "cell_type": "code",
   "execution_count": null,
   "id": "e78c2027",
   "metadata": {},
   "outputs": [],
   "source": [
    "kst.location = kst.location.str.split(', ')\n",
    "kst.location"
   ]
  },
  {
   "cell_type": "markdown",
   "id": "4adfcecb",
   "metadata": {},
   "source": [
    "If we wanted to turn this series into two columns, we could apply the following where we add two new columns to `kst` and fill them with a new dataframe created by a list of our [city, state] location lists, `kst.location.tolist()`, and the index from `kst`. "
   ]
  },
  {
   "cell_type": "code",
   "execution_count": null,
   "id": "82c52f3f",
   "metadata": {},
   "outputs": [],
   "source": [
    "kst[['city','state']] = pd.DataFrame(kst.location.tolist(), index= kst.index)\n",
    "kst.head(3)"
   ]
  },
  {
   "cell_type": "markdown",
   "id": "fc6436cd",
   "metadata": {},
   "source": [
    "We can find certain characters in a string using `str.find()` on a series. This will return the indecies of that character in each string if it exists in the element, and -1 (false) if not. "
   ]
  },
  {
   "cell_type": "code",
   "execution_count": null,
   "id": "b31458f3",
   "metadata": {},
   "outputs": [],
   "source": [
    "kst.by.str.find('&')"
   ]
  },
  {
   "cell_type": "markdown",
   "id": "f97c09d5",
   "metadata": {},
   "source": [
    "What if we wanted to replace all instances of 'and' in the `by` column with an ampersand to standardize it. We can use `str.replace()` on our series to accomplish this. Be mindful of spaces! If we do not include the beginning and end spaces for our ` and ` input, and the column includes a name like \"De**and**ra\", we will end up with an ampersand in that person's name, \"\"De&ra\". "
   ]
  },
  {
   "cell_type": "code",
   "execution_count": null,
   "id": "c831eac7",
   "metadata": {},
   "outputs": [],
   "source": [
    "kst.by = kst.by.str.replace(' and ', ' & ')\n",
    "kst.by"
   ]
  },
  {
   "cell_type": "markdown",
   "id": "837d8fc8",
   "metadata": {},
   "source": [
    "## Interplolating strings \n",
    "\n",
    "A more advanced string method is **interpolating** or **formatting** strings. This is the process by which we can construct a new string where certain placeholders are filled with vairables. While there are [several ways](https://towardsdatascience.com/python-string-interpolation-829e14e1fc75#:~:text=String%20interpolation%20is%20a%20process,ways%20to%20format%20string%20literals.) to accomplish this, a common way to do this is using the `.format()` method. \n",
    "\n",
    "With this method we construct a string and add `{}` where we want a variable to fill the placeholder. We then apply the `.format()` method to the string, with input arguments being the variables we want to replace the placeholders in appropraite order. \n",
    "\n",
    "Lets create a loop that passes through the first few elements in our dataframe, and for each element use the `title`, `goal`, and `by` columns to construct & print a string statement. "
   ]
  },
  {
   "cell_type": "code",
   "execution_count": null,
   "id": "e68c2429",
   "metadata": {},
   "outputs": [],
   "source": [
    "for i in range(0, 10):\n",
    "    title = kst.title[i]\n",
    "    by = kst.by[i]\n",
    "    goal = kst.goal[i]\n",
    "    print(\"The '{}' campaign by {} has a goal of ${}\".format(title, by, goal))"
   ]
  },
  {
   "cell_type": "markdown",
   "id": "93ef38cd",
   "metadata": {},
   "source": [
    "Something similar could be accomplished using **fstrings**, where the prefix `f` is used to signify \"literal string interpretation\". In this format the variable names are put directly into the `{}`. "
   ]
  },
  {
   "cell_type": "code",
   "execution_count": null,
   "id": "1d083a55",
   "metadata": {},
   "outputs": [],
   "source": [
    "i = 50\n",
    "title = kst.title[i]\n",
    "by = kst.by[i]\n",
    "goal = kst.goal[i]\n",
    "print(f'The {title} campaign by {by} has a goal of ${goal}')"
   ]
  },
  {
   "cell_type": "markdown",
   "id": "4f81a47f",
   "metadata": {},
   "source": [
    "<hr style=\"border:2px solid gray\"> </hr>\n",
    "\n",
    "### Now you try! \n",
    "\n",
    "Use either string interpolation method to construct a statement using the `title` and `num.backers` for any entry in the dataframe. "
   ]
  },
  {
   "cell_type": "code",
   "execution_count": null,
   "id": "5200db30",
   "metadata": {},
   "outputs": [],
   "source": [
    "i = 27\n",
    "title = kst.title[i]\n",
    "num_backers = kst['num.backers'][i]\n",
    "print(f'The {title} campaign has {num_backers} backers who have donated.')"
   ]
  },
  {
   "cell_type": "markdown",
   "id": "49abd640",
   "metadata": {},
   "source": [
    "<hr style=\"border:2px solid gray\"> </hr>\n",
    "\n",
    "## Using regex to identify characters\n",
    "\n",
    "**Regex** is a more advanced string operatiosn "
   ]
  },
  {
   "cell_type": "code",
   "execution_count": null,
   "id": "4c44de14",
   "metadata": {},
   "outputs": [],
   "source": [
    "import re\n",
    "\n"
   ]
  },
  {
   "cell_type": "code",
   "execution_count": null,
   "id": "a3d2afa3",
   "metadata": {},
   "outputs": [],
   "source": []
  },
  {
   "cell_type": "markdown",
   "id": "584d5b63",
   "metadata": {},
   "source": [
    "## Using regex to group patterns  "
   ]
  },
  {
   "cell_type": "code",
   "execution_count": null,
   "id": "1d4f44d1",
   "metadata": {},
   "outputs": [],
   "source": []
  },
  {
   "cell_type": "code",
   "execution_count": null,
   "id": "6976458b",
   "metadata": {},
   "outputs": [],
   "source": []
  },
  {
   "cell_type": "markdown",
   "id": "63046a88",
   "metadata": {},
   "source": [
    "## Lamda functions "
   ]
  },
  {
   "cell_type": "code",
   "execution_count": null,
   "id": "ed1e7f21",
   "metadata": {},
   "outputs": [],
   "source": []
  }
 ],
 "metadata": {
  "kernelspec": {
   "display_name": "Python 3",
   "language": "python",
   "name": "python3"
  },
  "language_info": {
   "codemirror_mode": {
    "name": "ipython",
    "version": 3
   },
   "file_extension": ".py",
   "mimetype": "text/x-python",
   "name": "python",
   "nbconvert_exporter": "python",
   "pygments_lexer": "ipython3",
   "version": "3.8.8"
  }
 },
 "nbformat": 4,
 "nbformat_minor": 5
}
