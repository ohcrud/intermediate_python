{
 "cells": [
  {
   "cell_type": "markdown",
   "id": "624df2b9",
   "metadata": {},
   "source": [
    "# String Manipulation, Regex, and Lamda Functions \n",
    "\n",
    "## Python native string operations \n",
    "\n",
    "String manipulation is a common task you'll have to execute during data analysis, which can include parsing strings, splitting/breaking them apart, searching, or substituting. Python has some built in tools that are able to perform some basic string manipulations, some of which we've used in previous modules. \n",
    "\n",
    "Let's bring in a string-heavy dataset to demonstrate with. We will be using data in file `most_backed.csv` which contains data from the most backed campaigns on the crowd funding platform \"Kickstarter\", found [here](https://www.kaggle.com/datasets/socathie/kickstarter-project-statistics). "
   ]
  },
  {
   "cell_type": "code",
   "execution_count": 1,
   "id": "cddb332d",
   "metadata": {},
   "outputs": [
    {
     "data": {
      "text/html": [
       "<div>\n",
       "<style scoped>\n",
       "    .dataframe tbody tr th:only-of-type {\n",
       "        vertical-align: middle;\n",
       "    }\n",
       "\n",
       "    .dataframe tbody tr th {\n",
       "        vertical-align: top;\n",
       "    }\n",
       "\n",
       "    .dataframe thead th {\n",
       "        text-align: right;\n",
       "    }\n",
       "</style>\n",
       "<table border=\"1\" class=\"dataframe\">\n",
       "  <thead>\n",
       "    <tr style=\"text-align: right;\">\n",
       "      <th></th>\n",
       "      <th>amt.pledged</th>\n",
       "      <th>blurb</th>\n",
       "      <th>by</th>\n",
       "      <th>category</th>\n",
       "      <th>currency</th>\n",
       "      <th>goal</th>\n",
       "      <th>location</th>\n",
       "      <th>num.backers</th>\n",
       "      <th>num.backers.tier</th>\n",
       "      <th>pledge.tier</th>\n",
       "      <th>title</th>\n",
       "      <th>url</th>\n",
       "    </tr>\n",
       "  </thead>\n",
       "  <tbody>\n",
       "    <tr>\n",
       "      <th>0</th>\n",
       "      <td>8782571.0</td>\n",
       "      <td>\\nThis is a card game for people who are into ...</td>\n",
       "      <td>Elan Lee</td>\n",
       "      <td>Tabletop Games</td>\n",
       "      <td>usd</td>\n",
       "      <td>10000.0</td>\n",
       "      <td>Los Angeles, CA</td>\n",
       "      <td>219382</td>\n",
       "      <td>[15505, 202934, 200, 5]</td>\n",
       "      <td>[20.0, 35.0, 100.0, 500.0]</td>\n",
       "      <td>Exploding Kittens</td>\n",
       "      <td>/projects/elanlee/exploding-kittens</td>\n",
       "    </tr>\n",
       "    <tr>\n",
       "      <th>1</th>\n",
       "      <td>6465690.0</td>\n",
       "      <td>\\nAn unusually addicting, high-quality desk to...</td>\n",
       "      <td>Matthew and Mark McLachlan</td>\n",
       "      <td>Product Design</td>\n",
       "      <td>usd</td>\n",
       "      <td>15000.0</td>\n",
       "      <td>Denver, CO</td>\n",
       "      <td>154926</td>\n",
       "      <td>[788, 250, 43073, 21796, 41727, 21627, 12215, ...</td>\n",
       "      <td>[1.0, 14.0, 19.0, 19.0, 35.0, 35.0, 79.0, 79.0...</td>\n",
       "      <td>Fidget Cube: A Vinyl Desk Toy</td>\n",
       "      <td>/projects/antsylabs/fidget-cube-a-vinyl-desk-toy</td>\n",
       "    </tr>\n",
       "    <tr>\n",
       "      <th>2</th>\n",
       "      <td>5408916.0</td>\n",
       "      <td>\\nBring Reading Rainbow’s library of interacti...</td>\n",
       "      <td>LeVar Burton &amp; Reading Rainbow</td>\n",
       "      <td>Web</td>\n",
       "      <td>usd</td>\n",
       "      <td>1000000.0</td>\n",
       "      <td>Los Angeles, CA</td>\n",
       "      <td>105857</td>\n",
       "      <td>[19639, 14343, 9136, 2259, 5666, 24512, 4957, ...</td>\n",
       "      <td>[5.0, 10.0, 25.0, 30.0, 35.0, 50.0, 75.0, 100....</td>\n",
       "      <td>Bring Reading Rainbow Back for Every Child, Ev...</td>\n",
       "      <td>/projects/readingrainbow/bring-reading-rainbow...</td>\n",
       "    </tr>\n",
       "  </tbody>\n",
       "</table>\n",
       "</div>"
      ],
      "text/plain": [
       "   amt.pledged                                              blurb  \\\n",
       "0    8782571.0  \\nThis is a card game for people who are into ...   \n",
       "1    6465690.0  \\nAn unusually addicting, high-quality desk to...   \n",
       "2    5408916.0  \\nBring Reading Rainbow’s library of interacti...   \n",
       "\n",
       "                               by                 category currency  \\\n",
       "0                        Elan Lee           Tabletop Games      usd   \n",
       "1      Matthew and Mark McLachlan           Product Design      usd   \n",
       "2  LeVar Burton & Reading Rainbow                      Web      usd   \n",
       "\n",
       "        goal         location  num.backers  \\\n",
       "0    10000.0  Los Angeles, CA       219382   \n",
       "1    15000.0       Denver, CO       154926   \n",
       "2  1000000.0  Los Angeles, CA       105857   \n",
       "\n",
       "                                    num.backers.tier  \\\n",
       "0                            [15505, 202934, 200, 5]   \n",
       "1  [788, 250, 43073, 21796, 41727, 21627, 12215, ...   \n",
       "2  [19639, 14343, 9136, 2259, 5666, 24512, 4957, ...   \n",
       "\n",
       "                                         pledge.tier  \\\n",
       "0                         [20.0, 35.0, 100.0, 500.0]   \n",
       "1  [1.0, 14.0, 19.0, 19.0, 35.0, 35.0, 79.0, 79.0...   \n",
       "2  [5.0, 10.0, 25.0, 30.0, 35.0, 50.0, 75.0, 100....   \n",
       "\n",
       "                                               title  \\\n",
       "0                                  Exploding Kittens   \n",
       "1                      Fidget Cube: A Vinyl Desk Toy   \n",
       "2  Bring Reading Rainbow Back for Every Child, Ev...   \n",
       "\n",
       "                                                 url  \n",
       "0                /projects/elanlee/exploding-kittens  \n",
       "1   /projects/antsylabs/fidget-cube-a-vinyl-desk-toy  \n",
       "2  /projects/readingrainbow/bring-reading-rainbow...  "
      ]
     },
     "execution_count": 1,
     "metadata": {},
     "output_type": "execute_result"
    }
   ],
   "source": [
    "import pandas as pd\n",
    "\n",
    "kst = pd.read_csv('most_backed_edit.csv', nrows = 100)\n",
    "kst.drop(columns = 'Unnamed: 0', inplace = True)\n",
    "kst.head(3)"
   ]
  },
  {
   "cell_type": "markdown",
   "id": "075f3bc7",
   "metadata": {},
   "source": [
    "You should already be familiar with string operations such as adding, where we can add characters/strings together. For example we can alter the url column to include the full url, not just the path alone - e.g. `/projects/elanlee/exploding-kittens` becomes `www.kickstarter.com/projects/elanlee/exploding-kittens`. \n",
    "\n",
    "We can create a string that contains the domain, and add that to the path to create a string with the full url. For a single string it looks like this: "
   ]
  },
  {
   "cell_type": "code",
   "execution_count": 2,
   "id": "2c54658f",
   "metadata": {},
   "outputs": [
    {
     "data": {
      "text/plain": [
       "'www.kickstarter.com/projects/elanlee/exploding-kittens'"
      ]
     },
     "execution_count": 2,
     "metadata": {},
     "output_type": "execute_result"
    }
   ],
   "source": [
    "domain = 'www.kickstarter.com'\n",
    "path = kst.url[0]\n",
    "domain+path"
   ]
  },
  {
   "cell_type": "markdown",
   "id": "77996bf0",
   "metadata": {},
   "source": [
    "To apply this to an column in a pandas dataframe, we simply apply the string methods to it as a **series**. Applying string methods to a series will operate on every element in the column. We could then replace the existing column with the altered series. "
   ]
  },
  {
   "cell_type": "code",
   "execution_count": 3,
   "id": "b598afc4",
   "metadata": {},
   "outputs": [
    {
     "data": {
      "text/html": [
       "<div>\n",
       "<style scoped>\n",
       "    .dataframe tbody tr th:only-of-type {\n",
       "        vertical-align: middle;\n",
       "    }\n",
       "\n",
       "    .dataframe tbody tr th {\n",
       "        vertical-align: top;\n",
       "    }\n",
       "\n",
       "    .dataframe thead th {\n",
       "        text-align: right;\n",
       "    }\n",
       "</style>\n",
       "<table border=\"1\" class=\"dataframe\">\n",
       "  <thead>\n",
       "    <tr style=\"text-align: right;\">\n",
       "      <th></th>\n",
       "      <th>amt.pledged</th>\n",
       "      <th>blurb</th>\n",
       "      <th>by</th>\n",
       "      <th>category</th>\n",
       "      <th>currency</th>\n",
       "      <th>goal</th>\n",
       "      <th>location</th>\n",
       "      <th>num.backers</th>\n",
       "      <th>num.backers.tier</th>\n",
       "      <th>pledge.tier</th>\n",
       "      <th>title</th>\n",
       "      <th>url</th>\n",
       "    </tr>\n",
       "  </thead>\n",
       "  <tbody>\n",
       "    <tr>\n",
       "      <th>0</th>\n",
       "      <td>8782571.0</td>\n",
       "      <td>\\nThis is a card game for people who are into ...</td>\n",
       "      <td>Elan Lee</td>\n",
       "      <td>Tabletop Games</td>\n",
       "      <td>usd</td>\n",
       "      <td>10000.0</td>\n",
       "      <td>Los Angeles, CA</td>\n",
       "      <td>219382</td>\n",
       "      <td>[15505, 202934, 200, 5]</td>\n",
       "      <td>[20.0, 35.0, 100.0, 500.0]</td>\n",
       "      <td>Exploding Kittens</td>\n",
       "      <td>www.kickstarter.com/projects/elanlee/exploding...</td>\n",
       "    </tr>\n",
       "    <tr>\n",
       "      <th>1</th>\n",
       "      <td>6465690.0</td>\n",
       "      <td>\\nAn unusually addicting, high-quality desk to...</td>\n",
       "      <td>Matthew and Mark McLachlan</td>\n",
       "      <td>Product Design</td>\n",
       "      <td>usd</td>\n",
       "      <td>15000.0</td>\n",
       "      <td>Denver, CO</td>\n",
       "      <td>154926</td>\n",
       "      <td>[788, 250, 43073, 21796, 41727, 21627, 12215, ...</td>\n",
       "      <td>[1.0, 14.0, 19.0, 19.0, 35.0, 35.0, 79.0, 79.0...</td>\n",
       "      <td>Fidget Cube: A Vinyl Desk Toy</td>\n",
       "      <td>www.kickstarter.com/projects/antsylabs/fidget-...</td>\n",
       "    </tr>\n",
       "    <tr>\n",
       "      <th>2</th>\n",
       "      <td>5408916.0</td>\n",
       "      <td>\\nBring Reading Rainbow’s library of interacti...</td>\n",
       "      <td>LeVar Burton &amp; Reading Rainbow</td>\n",
       "      <td>Web</td>\n",
       "      <td>usd</td>\n",
       "      <td>1000000.0</td>\n",
       "      <td>Los Angeles, CA</td>\n",
       "      <td>105857</td>\n",
       "      <td>[19639, 14343, 9136, 2259, 5666, 24512, 4957, ...</td>\n",
       "      <td>[5.0, 10.0, 25.0, 30.0, 35.0, 50.0, 75.0, 100....</td>\n",
       "      <td>Bring Reading Rainbow Back for Every Child, Ev...</td>\n",
       "      <td>www.kickstarter.com/projects/readingrainbow/br...</td>\n",
       "    </tr>\n",
       "  </tbody>\n",
       "</table>\n",
       "</div>"
      ],
      "text/plain": [
       "   amt.pledged                                              blurb  \\\n",
       "0    8782571.0  \\nThis is a card game for people who are into ...   \n",
       "1    6465690.0  \\nAn unusually addicting, high-quality desk to...   \n",
       "2    5408916.0  \\nBring Reading Rainbow’s library of interacti...   \n",
       "\n",
       "                               by                 category currency  \\\n",
       "0                        Elan Lee           Tabletop Games      usd   \n",
       "1      Matthew and Mark McLachlan           Product Design      usd   \n",
       "2  LeVar Burton & Reading Rainbow                      Web      usd   \n",
       "\n",
       "        goal         location  num.backers  \\\n",
       "0    10000.0  Los Angeles, CA       219382   \n",
       "1    15000.0       Denver, CO       154926   \n",
       "2  1000000.0  Los Angeles, CA       105857   \n",
       "\n",
       "                                    num.backers.tier  \\\n",
       "0                            [15505, 202934, 200, 5]   \n",
       "1  [788, 250, 43073, 21796, 41727, 21627, 12215, ...   \n",
       "2  [19639, 14343, 9136, 2259, 5666, 24512, 4957, ...   \n",
       "\n",
       "                                         pledge.tier  \\\n",
       "0                         [20.0, 35.0, 100.0, 500.0]   \n",
       "1  [1.0, 14.0, 19.0, 19.0, 35.0, 35.0, 79.0, 79.0...   \n",
       "2  [5.0, 10.0, 25.0, 30.0, 35.0, 50.0, 75.0, 100....   \n",
       "\n",
       "                                               title  \\\n",
       "0                                  Exploding Kittens   \n",
       "1                      Fidget Cube: A Vinyl Desk Toy   \n",
       "2  Bring Reading Rainbow Back for Every Child, Ev...   \n",
       "\n",
       "                                                 url  \n",
       "0  www.kickstarter.com/projects/elanlee/exploding...  \n",
       "1  www.kickstarter.com/projects/antsylabs/fidget-...  \n",
       "2  www.kickstarter.com/projects/readingrainbow/br...  "
      ]
     },
     "execution_count": 3,
     "metadata": {},
     "output_type": "execute_result"
    }
   ],
   "source": [
    "kst['url'] = domain + kst.url\n",
    "kst.head(3)  "
   ]
  },
  {
   "cell_type": "markdown",
   "id": "90621c13",
   "metadata": {},
   "source": [
    "Methods, such as `.strip()` and `.split()` can be added to series as well. When using native python to strip a string `s` you'd use `s.strip()` whereas with a series, `ser` you would use `ser.str.split()`. \n",
    "\n",
    "For example, let's strip the newline `\\n` from the `blurb` column. Note that we did this in sprint 1 practice 2 using lists, where we used a for loop to access each element in the list. When using a pandas series, you can bypass the for loop and complete the task in a single line! "
   ]
  },
  {
   "cell_type": "code",
   "execution_count": 4,
   "id": "420c1de2",
   "metadata": {},
   "outputs": [
    {
     "data": {
      "text/plain": [
       "0     This is a card game for people who are into ki...\n",
       "1     An unusually addicting, high-quality desk toy ...\n",
       "2     Bring Reading Rainbow’s library of interactive...\n",
       "3     UPDATED: This is it. We're making a Veronica M...\n",
       "4     An adventure game from Tim Schafer, Double Fin...\n",
       "                            ...                        \n",
       "95    The greatest work IN English literature, now i...\n",
       "96    Enjoy real butter straight from the fridge. Th...\n",
       "97    A minimalist wallet that holds everything you ...\n",
       "98    A real-time, class-based strategy game, set in...\n",
       "99    Reaper Miniatures Bones II was a project to co...\n",
       "Name: blurb, Length: 100, dtype: object"
      ]
     },
     "execution_count": 4,
     "metadata": {},
     "output_type": "execute_result"
    }
   ],
   "source": [
    "kst.blurb = kst.blurb.str.strip()\n",
    "kst.blurb"
   ]
  },
  {
   "cell_type": "markdown",
   "id": "810e00bb",
   "metadata": {},
   "source": [
    "<hr style=\"border:2px solid gray\"> </hr>\n",
    "\n",
    "### Now you try! \n",
    "\n",
    "Look at the values of `kst.category`. Remove the whitespace that occurs before some of the values, e.g. `kst.category[4]`, and replace the column in our `kst` dataframe. "
   ]
  },
  {
   "cell_type": "code",
   "execution_count": 5,
   "id": "84f0f67e",
   "metadata": {},
   "outputs": [
    {
     "data": {
      "text/plain": [
       "0     Tabletop Games\n",
       "1     Product Design\n",
       "2                Web\n",
       "3     Narrative Film\n",
       "4        Video Games\n",
       "           ...      \n",
       "95        Publishing\n",
       "96    Product Design\n",
       "97           Fashion\n",
       "98       Video Games\n",
       "99    Tabletop Games\n",
       "Name: category, Length: 100, dtype: object"
      ]
     },
     "execution_count": 5,
     "metadata": {},
     "output_type": "execute_result"
    }
   ],
   "source": [
    "### BEGIN SOLUTION \n",
    "\n",
    "kst.category = kst.category.str.strip()\n",
    "kst.category\n",
    "\n",
    "### END SOLUTION "
   ]
  },
  {
   "cell_type": "markdown",
   "id": "b8161e76",
   "metadata": {},
   "source": [
    "<hr style=\"border:2px solid gray\"> </hr>\n",
    "\n",
    "For splitting, you'd use `str.split()`, which allows us to split a string into a list based on a particular separator. Say we wanted to split the `location` column into two columns where one contains the city & the other contains the state name. We are returned a series where now each element is a **list** containing the split elements. "
   ]
  },
  {
   "cell_type": "code",
   "execution_count": 6,
   "id": "6f69fc9f",
   "metadata": {},
   "outputs": [
    {
     "data": {
      "text/plain": [
       "0       [Los Angeles, CA]\n",
       "1            [Denver, CO]\n",
       "2       [Los Angeles, CA]\n",
       "3         [San Diego, CA]\n",
       "4     [San Francisco, CA]\n",
       "             ...         \n",
       "95      [Toronto, Canada]\n",
       "96           [Sydney, AU]\n",
       "97            [Ogden, UT]\n",
       "98         [Brisbane, AU]\n",
       "99           [Denton, TX]\n",
       "Name: location, Length: 100, dtype: object"
      ]
     },
     "execution_count": 6,
     "metadata": {},
     "output_type": "execute_result"
    }
   ],
   "source": [
    "kst.location = kst.location.str.split(', ')\n",
    "kst.location"
   ]
  },
  {
   "cell_type": "markdown",
   "id": "0ea37e65",
   "metadata": {},
   "source": [
    "If we wanted to turn this series into two columns, we could apply the following where we add two new columns to `kst` and fill them with a new dataframe created by a list of our [city, state] location lists, `kst.location.tolist()`, and the index from `kst`. "
   ]
  },
  {
   "cell_type": "code",
   "execution_count": 7,
   "id": "e71ad01d",
   "metadata": {},
   "outputs": [
    {
     "data": {
      "text/html": [
       "<div>\n",
       "<style scoped>\n",
       "    .dataframe tbody tr th:only-of-type {\n",
       "        vertical-align: middle;\n",
       "    }\n",
       "\n",
       "    .dataframe tbody tr th {\n",
       "        vertical-align: top;\n",
       "    }\n",
       "\n",
       "    .dataframe thead th {\n",
       "        text-align: right;\n",
       "    }\n",
       "</style>\n",
       "<table border=\"1\" class=\"dataframe\">\n",
       "  <thead>\n",
       "    <tr style=\"text-align: right;\">\n",
       "      <th></th>\n",
       "      <th>amt.pledged</th>\n",
       "      <th>blurb</th>\n",
       "      <th>by</th>\n",
       "      <th>category</th>\n",
       "      <th>currency</th>\n",
       "      <th>goal</th>\n",
       "      <th>location</th>\n",
       "      <th>num.backers</th>\n",
       "      <th>num.backers.tier</th>\n",
       "      <th>pledge.tier</th>\n",
       "      <th>title</th>\n",
       "      <th>url</th>\n",
       "      <th>city</th>\n",
       "      <th>state</th>\n",
       "    </tr>\n",
       "  </thead>\n",
       "  <tbody>\n",
       "    <tr>\n",
       "      <th>0</th>\n",
       "      <td>8782571.0</td>\n",
       "      <td>This is a card game for people who are into ki...</td>\n",
       "      <td>Elan Lee</td>\n",
       "      <td>Tabletop Games</td>\n",
       "      <td>usd</td>\n",
       "      <td>10000.0</td>\n",
       "      <td>[Los Angeles, CA]</td>\n",
       "      <td>219382</td>\n",
       "      <td>[15505, 202934, 200, 5]</td>\n",
       "      <td>[20.0, 35.0, 100.0, 500.0]</td>\n",
       "      <td>Exploding Kittens</td>\n",
       "      <td>www.kickstarter.com/projects/elanlee/exploding...</td>\n",
       "      <td>Los Angeles</td>\n",
       "      <td>CA</td>\n",
       "    </tr>\n",
       "    <tr>\n",
       "      <th>1</th>\n",
       "      <td>6465690.0</td>\n",
       "      <td>An unusually addicting, high-quality desk toy ...</td>\n",
       "      <td>Matthew and Mark McLachlan</td>\n",
       "      <td>Product Design</td>\n",
       "      <td>usd</td>\n",
       "      <td>15000.0</td>\n",
       "      <td>[Denver, CO]</td>\n",
       "      <td>154926</td>\n",
       "      <td>[788, 250, 43073, 21796, 41727, 21627, 12215, ...</td>\n",
       "      <td>[1.0, 14.0, 19.0, 19.0, 35.0, 35.0, 79.0, 79.0...</td>\n",
       "      <td>Fidget Cube: A Vinyl Desk Toy</td>\n",
       "      <td>www.kickstarter.com/projects/antsylabs/fidget-...</td>\n",
       "      <td>Denver</td>\n",
       "      <td>CO</td>\n",
       "    </tr>\n",
       "    <tr>\n",
       "      <th>2</th>\n",
       "      <td>5408916.0</td>\n",
       "      <td>Bring Reading Rainbow’s library of interactive...</td>\n",
       "      <td>LeVar Burton &amp; Reading Rainbow</td>\n",
       "      <td>Web</td>\n",
       "      <td>usd</td>\n",
       "      <td>1000000.0</td>\n",
       "      <td>[Los Angeles, CA]</td>\n",
       "      <td>105857</td>\n",
       "      <td>[19639, 14343, 9136, 2259, 5666, 24512, 4957, ...</td>\n",
       "      <td>[5.0, 10.0, 25.0, 30.0, 35.0, 50.0, 75.0, 100....</td>\n",
       "      <td>Bring Reading Rainbow Back for Every Child, Ev...</td>\n",
       "      <td>www.kickstarter.com/projects/readingrainbow/br...</td>\n",
       "      <td>Los Angeles</td>\n",
       "      <td>CA</td>\n",
       "    </tr>\n",
       "  </tbody>\n",
       "</table>\n",
       "</div>"
      ],
      "text/plain": [
       "   amt.pledged                                              blurb  \\\n",
       "0    8782571.0  This is a card game for people who are into ki...   \n",
       "1    6465690.0  An unusually addicting, high-quality desk toy ...   \n",
       "2    5408916.0  Bring Reading Rainbow’s library of interactive...   \n",
       "\n",
       "                               by        category currency       goal  \\\n",
       "0                        Elan Lee  Tabletop Games      usd    10000.0   \n",
       "1      Matthew and Mark McLachlan  Product Design      usd    15000.0   \n",
       "2  LeVar Burton & Reading Rainbow             Web      usd  1000000.0   \n",
       "\n",
       "            location  num.backers  \\\n",
       "0  [Los Angeles, CA]       219382   \n",
       "1       [Denver, CO]       154926   \n",
       "2  [Los Angeles, CA]       105857   \n",
       "\n",
       "                                    num.backers.tier  \\\n",
       "0                            [15505, 202934, 200, 5]   \n",
       "1  [788, 250, 43073, 21796, 41727, 21627, 12215, ...   \n",
       "2  [19639, 14343, 9136, 2259, 5666, 24512, 4957, ...   \n",
       "\n",
       "                                         pledge.tier  \\\n",
       "0                         [20.0, 35.0, 100.0, 500.0]   \n",
       "1  [1.0, 14.0, 19.0, 19.0, 35.0, 35.0, 79.0, 79.0...   \n",
       "2  [5.0, 10.0, 25.0, 30.0, 35.0, 50.0, 75.0, 100....   \n",
       "\n",
       "                                               title  \\\n",
       "0                                  Exploding Kittens   \n",
       "1                      Fidget Cube: A Vinyl Desk Toy   \n",
       "2  Bring Reading Rainbow Back for Every Child, Ev...   \n",
       "\n",
       "                                                 url         city state  \n",
       "0  www.kickstarter.com/projects/elanlee/exploding...  Los Angeles    CA  \n",
       "1  www.kickstarter.com/projects/antsylabs/fidget-...       Denver    CO  \n",
       "2  www.kickstarter.com/projects/readingrainbow/br...  Los Angeles    CA  "
      ]
     },
     "execution_count": 7,
     "metadata": {},
     "output_type": "execute_result"
    }
   ],
   "source": [
    "kst[['city','state']] = pd.DataFrame(kst.location.tolist(), index= kst.index)\n",
    "kst.head(3)"
   ]
  },
  {
   "cell_type": "markdown",
   "id": "7e9d0404",
   "metadata": {},
   "source": [
    "We can find certain characters in a string using `str.find()` on a series. This will return the indecies of that character in each string if it exists in the element, and -1 (false) if not. "
   ]
  },
  {
   "cell_type": "code",
   "execution_count": 8,
   "id": "ad9ad713",
   "metadata": {},
   "outputs": [
    {
     "data": {
      "text/plain": [
       "0     -1\n",
       "1     -1\n",
       "2     13\n",
       "3     -1\n",
       "4     -1\n",
       "      ..\n",
       "95    -1\n",
       "96    -1\n",
       "97    -1\n",
       "98    -1\n",
       "99    -1\n",
       "Name: by, Length: 100, dtype: int64"
      ]
     },
     "execution_count": 8,
     "metadata": {},
     "output_type": "execute_result"
    }
   ],
   "source": [
    "kst.by.str.find('&')"
   ]
  },
  {
   "cell_type": "markdown",
   "id": "f3089ef1",
   "metadata": {},
   "source": [
    "What if we wanted to replace all instances of 'and' in the `by` column with an ampersand to standardize it. We can use `str.replace()` on our series to accomplish this. Be mindful of spaces! If we do not include the beginning and end spaces for our ` and ` input, and the column includes a name like \"De**and**ra\", we will end up with an ampersand in that person's name, \"\"De&ra\". "
   ]
  },
  {
   "cell_type": "code",
   "execution_count": 10,
   "id": "5f74fc97",
   "metadata": {},
   "outputs": [
    {
     "data": {
      "text/plain": [
       "0                               Elan Lee\n",
       "1               Matthew & Mark McLachlan\n",
       "2         LeVar Burton & Reading Rainbow\n",
       "3                             Rob Thomas\n",
       "4     Double Fine & 2 Player Productions\n",
       "                     ...                \n",
       "95                            Ryan North\n",
       "96                        DM Initiatives\n",
       "97                         Ryan Crabtree\n",
       "98                       5 Lives Studios\n",
       "99                     Reaper Miniatures\n",
       "Name: by, Length: 100, dtype: object"
      ]
     },
     "execution_count": 10,
     "metadata": {},
     "output_type": "execute_result"
    }
   ],
   "source": [
    "kst.by = kst.by.str.replace(' and ', ' & ')\n",
    "kst.by"
   ]
  },
  {
   "cell_type": "markdown",
   "id": "ee6a76e8",
   "metadata": {},
   "source": [
    "## Interplolating strings \n",
    "\n",
    "A more advanced string method is **interpolating** or **formatting** strings. This is the process by which we can construct a new string where certain placeholders are filled with vairables. While there are [several ways](https://towardsdatascience.com/python-string-interpolation-829e14e1fc75#:~:text=String%20interpolation%20is%20a%20process,ways%20to%20format%20string%20literals.) to accomplish this, a common way to do this is using the `.format()` method. \n",
    "\n",
    "With this method we construct a string and add `{}` where we want a variable to fill the placeholder. We then apply the `.format()` method to the string, with input arguments being the variables we want to replace the placeholders in appropraite order. \n",
    "\n",
    "Lets create a loop that passes through the first few elements in our dataframe, and for each element use the `title`, `goal`, and `by` columns to construct & print a string statement. "
   ]
  },
  {
   "cell_type": "code",
   "execution_count": 11,
   "id": "bf957eb9",
   "metadata": {},
   "outputs": [
    {
     "name": "stdout",
     "output_type": "stream",
     "text": [
      "The 'Exploding Kittens' campaign by Elan Lee has a goal of $10000.0\n",
      "The 'Fidget Cube: A Vinyl Desk Toy' campaign by Matthew & Mark McLachlan has a goal of $15000.0\n",
      "The 'Bring Reading Rainbow Back for Every Child, Everywhere!' campaign by LeVar Burton & Reading Rainbow has a goal of $1000000.0\n",
      "The 'The Veronica Mars Movie Project' campaign by Rob Thomas has a goal of $2000000.0\n",
      "The 'Double Fine Adventure' campaign by Double Fine & 2 Player Productions has a goal of $400000.0\n",
      "The 'Pebble Time - Awesome Smartwatch, No Compromises' campaign by Pebble Technology has a goal of $500000.0\n",
      "The 'Torment: Tides of Numenera' campaign by inXile entertainment has a goal of $900000.0\n",
      "The 'Pillars of Eternity (formerly Project Eternity)' campaign by Obsidian Entertainment has a goal of $1100000.0\n",
      "The 'Yooka-Laylee - A 3D Platformer Rare-vival!' campaign by Playtonic Games has a goal of $175000.0\n",
      "The 'ZNAPS - Connection is just a snap away' campaign by ZNAPS has a goal of $120000.0\n"
     ]
    }
   ],
   "source": [
    "for i in range(0, 10):\n",
    "    title = kst.title[i]\n",
    "    by = kst.by[i]\n",
    "    goal = kst.goal[i]\n",
    "    print(\"The '{}' campaign by {} has a goal of ${}\".format(title, by, goal))"
   ]
  },
  {
   "cell_type": "markdown",
   "id": "682acb7e",
   "metadata": {},
   "source": [
    "Something similar could be accomplished using **fstrings**, where the prefix `f` is used to signify \"literal string interpretation\". In this format the variable names are put directly into the `{}`. "
   ]
  },
  {
   "cell_type": "code",
   "execution_count": 12,
   "id": "4ab347f3",
   "metadata": {},
   "outputs": [
    {
     "name": "stdout",
     "output_type": "stream",
     "text": [
      "The Shroud of the Avatar: Forsaken Virtues campaign by Portalarium, Inc. has a goal of $1000000.0\n"
     ]
    }
   ],
   "source": [
    "i = 50\n",
    "title = kst.title[i]\n",
    "by = kst.by[i]\n",
    "goal = kst.goal[i]\n",
    "print(f'The {title} campaign by {by} has a goal of ${goal}')"
   ]
  },
  {
   "cell_type": "markdown",
   "id": "6374bd44",
   "metadata": {},
   "source": [
    "<hr style=\"border:2px solid gray\"> </hr>\n",
    "\n",
    "### Now you try! \n",
    "\n",
    "Use either string interpolation method to construct a statement using the `title` and `num.backers` for any entry in the dataframe. "
   ]
  },
  {
   "cell_type": "code",
   "execution_count": 13,
   "id": "ed22155c",
   "metadata": {},
   "outputs": [
    {
     "name": "stdout",
     "output_type": "stream",
     "text": [
      "The Shadowrun Returns campaign has 36276 backers who have donated.\n"
     ]
    }
   ],
   "source": [
    "i = 27\n",
    "title = kst.title[i]\n",
    "num_backers = kst['num.backers'][i]\n",
    "print(f'The {title} campaign has {num_backers} backers who have donated.')"
   ]
  },
  {
   "cell_type": "markdown",
   "id": "266135fd",
   "metadata": {},
   "source": [
    "<hr style=\"border:2px solid gray\"> </hr>\n",
    "\n",
    "## Using regex to identify characters\n",
    "\n",
    "**Regex** is a "
   ]
  },
  {
   "cell_type": "code",
   "execution_count": null,
   "id": "be831cf7",
   "metadata": {},
   "outputs": [],
   "source": [
    "import re\n",
    "\n"
   ]
  },
  {
   "cell_type": "code",
   "execution_count": null,
   "id": "f7943933",
   "metadata": {},
   "outputs": [],
   "source": []
  },
  {
   "cell_type": "markdown",
   "id": "45ce14d6",
   "metadata": {},
   "source": [
    "## Using regex to group patterns  "
   ]
  },
  {
   "cell_type": "code",
   "execution_count": null,
   "id": "2e250390",
   "metadata": {},
   "outputs": [],
   "source": []
  },
  {
   "cell_type": "code",
   "execution_count": null,
   "id": "e693ffa1",
   "metadata": {},
   "outputs": [],
   "source": []
  },
  {
   "cell_type": "markdown",
   "id": "f6074465",
   "metadata": {},
   "source": [
    "## Lamda functions "
   ]
  },
  {
   "cell_type": "code",
   "execution_count": null,
   "id": "4523fc2b",
   "metadata": {},
   "outputs": [],
   "source": []
  }
 ],
 "metadata": {
  "kernelspec": {
   "display_name": "Python 3",
   "language": "python",
   "name": "python3"
  },
  "language_info": {
   "codemirror_mode": {
    "name": "ipython",
    "version": 3
   },
   "file_extension": ".py",
   "mimetype": "text/x-python",
   "name": "python",
   "nbconvert_exporter": "python",
   "pygments_lexer": "ipython3",
   "version": "3.8.8"
  }
 },
 "nbformat": 4,
 "nbformat_minor": 5
}
