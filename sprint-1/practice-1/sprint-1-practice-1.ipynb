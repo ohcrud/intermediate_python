{
 "cells": [
  {
   "cell_type": "markdown",
   "id": "58665b58",
   "metadata": {},
   "source": [
    "# User-defined functions in Python\n",
    "\n",
    "\n",
    "## Functions review\n",
    "\n",
    "**User-Defined functions** are a powerful tool in python that allow us to create a section of code to complete a specific task which we can call & run whenever we choose in our program. Python functions are considered **objects**, which in this case simply means it is a specific method that can be called by its name. Functions take inputs called **arguments** and can **return** data output as well. \n",
    "\n",
    "One of the perks of functions is that they allow us to reduce the bulk in our code. We can repeat larger sections of code throughout our program whenever that task needs to be completed. This makes code more readable for humans & makes tasks more easily repeatable. \n",
    "\n",
    "## Input arguments \n",
    "\n",
    "Lets create a simple function that capitalizes all letters in a given string & prints the output. The syntax to create your own function is as follows:"
   ]
  },
  {
   "cell_type": "code",
   "execution_count": null,
   "id": "2cb1f3d7",
   "metadata": {},
   "outputs": [],
   "source": [
    "def make_caps(input_string):\n",
    "    new_word = input_string.upper()\n",
    "    print(new_word)"
   ]
  },
  {
   "cell_type": "markdown",
   "id": "2c751ba0",
   "metadata": {},
   "source": [
    "To use our function we have to **call** it & provide it with the appropriate input arguments. \n",
    "\n",
    "Let's do that now by setting our `input_string` to a string we want to campitalize, then do so using our function. The beauty of a function is that you can reuse it an infinite amount of times to repeat a certain task on various input arguments. "
   ]
  },
  {
   "cell_type": "code",
   "execution_count": null,
   "id": "6ac9e13b",
   "metadata": {},
   "outputs": [],
   "source": [
    "# run function with an input argument\n",
    "make_caps(input_string = 'hockey')\n",
    "\n",
    "# run function with a different input argument \n",
    "make_caps(input_string = 'let\\'s go rangers')"
   ]
  },
  {
   "cell_type": "markdown",
   "id": "82f2be31",
   "metadata": {},
   "source": [
    "<hr style=\"border:2px solid gray\"> </hr>\n",
    "\n",
    "### Now you try! \n",
    "\n",
    "Make a function called `make_lowercase` that will print an input string in all *lowercase* letters. \n",
    "\n",
    "Use this new function to print out `Get THE pUcK in THE NET` in all lowercase letters. "
   ]
  },
  {
   "cell_type": "code",
   "execution_count": null,
   "id": "abb7c386",
   "metadata": {},
   "outputs": [],
   "source": [
    "### BEGIN SOLUTION \n",
    "\n",
    "def make_lowercase(input_string):\n",
    "    print(input_string.lower()) \n",
    "\n",
    "make_lowercase(input_string = 'Get THE pUcK in THE NET')\n",
    "\n",
    "### END SOLUTION "
   ]
  },
  {
   "cell_type": "markdown",
   "id": "70bee72e",
   "metadata": {},
   "source": [
    "<hr style=\"border:2px solid gray\"> </hr>\n",
    "\n",
    "## Bringing in some data \n",
    "\n",
    "Now that we remember the basic mechanics of user-defined functions in Python, let's bring in some data we can work with to explore further. \n",
    "\n",
    "We will read in the following csv files: \n",
    "        `artemi-panarin.csv`\n",
    "        `alex-ovetchkin.csv`\n",
    "        `pk-subban.csv`\n",
    "        \n",
    "Which contain career summaries by season for these three National Hockey League (NHL) players, obtained [here](https://moneypuck.com/data.htm). The format for all three files is the same. There is a huge number of columns, but we are only interested in these:\n",
    "\n",
    "- `season` - season year\n",
    "- `name` - player name\n",
    "- `team` - NHL team they played on for that season \n",
    "- `position` - player position on the ice\n",
    "- `situation`\t- in-game situation (e.g. 5 on 5 means 5 players from each team are facing off) \n",
    "- `games_played` - total number of games played that season \n",
    "- `icetime` - total amount of ice time (minutes) that season \n",
    "- `shifts` - number of 'shifts' the player took during the season - in other words the number of times the player got on the ice. Hockey players play in \"shifts\" that are only about a minute long, so they are taking on/off the ice very frequently in a single game. \n",
    "- `gameScore` - a statistic used to calculate how effective/productive a player was during a particular game \n",
    "    "
   ]
  },
  {
   "cell_type": "code",
   "execution_count": null,
   "id": "5c6e69da",
   "metadata": {},
   "outputs": [],
   "source": [
    "# import pandas to our workspace \n",
    "import pandas as pd \n",
    "\n",
    "# use read_csv to read in the files \n",
    "panarin = pd.read_csv('artemi-panarin.csv')\n",
    "subban = pd.read_csv('pk-subban.csv')\n",
    "ovechkin = pd.read_csv('alex-ovechkin.csv')"
   ]
  },
  {
   "cell_type": "code",
   "execution_count": null,
   "id": "66bd6105",
   "metadata": {},
   "outputs": [],
   "source": [
    "# print a preview of one dataframe \n",
    "panarin.head()"
   ]
  },
  {
   "cell_type": "markdown",
   "id": "cd725824",
   "metadata": {},
   "source": [
    "## Creating a function to clean up our dataframes \n",
    "\n",
    "You can see that there are a whopping 154 columns! But we only want to keep the few we listed above. Since we know the dataframes are all formatted the same way, we can create **one common function** that could be applied to any of the three dataframes (and by extension the data from any player obtained from MonkeyPuck!) \n",
    "\n",
    "Let's create a function that will take the input dataframe `input_df`, select only the desired columns which we will save in a list called `cols_to_keep`, and **return** a cleaned up version of the dataframe. We will name this function `clean_player_data`. \n",
    "\n",
    "Pandas syntax is such that a list of column names in square brackets will return *only* the columns with names in our list. "
   ]
  },
  {
   "cell_type": "code",
   "execution_count": null,
   "id": "024f4b6d",
   "metadata": {},
   "outputs": [],
   "source": [
    "# define our function \n",
    "def clean_player_data(input_df, cols_to_keep):\n",
    "    output_df = input_df[cols_to_keep]\n",
    "    return output_df "
   ]
  },
  {
   "cell_type": "code",
   "execution_count": null,
   "id": "7d992989",
   "metadata": {},
   "outputs": [],
   "source": [
    "# create our list of columns to keep \n",
    "cols_to_keep = ['season', 'name', 'team', 'position', \n",
    "                  'situation', 'games_played', 'icetime', 'shifts', 'gameScore']\n",
    "\n",
    "# run the funciton on a player's dataframe & save to a new dataframe \n",
    "panarin_clean = clean_player_data(input_df = panarin, cols_to_keep = cols_to_keep)\n",
    "panarin_clean.head()"
   ]
  },
  {
   "cell_type": "code",
   "execution_count": null,
   "id": "83bdecf0",
   "metadata": {},
   "outputs": [],
   "source": [
    "# now the apply the function to the other two players \n",
    "ovechkin_clean = clean_player_data(input_df = ovechkin, cols_to_keep = cols_to_keep)\n",
    "ovechkin_clean.head()"
   ]
  },
  {
   "cell_type": "code",
   "execution_count": null,
   "id": "e9dc5795",
   "metadata": {},
   "outputs": [],
   "source": [
    "subban_clean = clean_player_data(input_df = subban, cols_to_keep = cols_to_keep)\n",
    "subban_clean.head()"
   ]
  },
  {
   "cell_type": "markdown",
   "id": "384bba78",
   "metadata": {},
   "source": [
    "Great! We see this function works when we input any of our three dataframes. It takes our two input arguemnts and returns a new dataframe we save as a new variable. \n",
    "\n",
    "## Functions to help us filter our data\n",
    "\n",
    "We've used a function to clean up our dataframes, so let's now create some functions to do a bit of analysis! \n",
    "\n",
    "Let's create a function we can use to isolate data for different values in the `situation` column. The values in this column describe different situations in gameplay. Let's look at the unique values in the column first. "
   ]
  },
  {
   "cell_type": "code",
   "execution_count": null,
   "id": "422fac0b",
   "metadata": {},
   "outputs": [],
   "source": [
    "panarin.situation.unique()"
   ]
  },
  {
   "cell_type": "markdown",
   "id": "47b29902",
   "metadata": {},
   "source": [
    "For some context, a value of `5on5` is the typical gameplay situation. If it is `4on5` or `5on4`, it indicates a \"power play\" where players are removed due to a penalty, and as aresult one team has less players on the ice for a certain period of time. `all` is any situation, and `other` is any situation that doesn't fall into any of the categories. \n",
    "\n",
    "We will design a function `get_situation` where it isolates the `target_sitution` (any unique value from the `situation` column) from our `input_dataframe`. "
   ]
  },
  {
   "cell_type": "code",
   "execution_count": null,
   "id": "8c0c4518",
   "metadata": {},
   "outputs": [],
   "source": [
    "def get_situation(input_dataframe, target_situation):\n",
    "    output_dataframe = input_dataframe[input_dataframe['situation'] == target_situation]\n",
    "    return output_dataframe"
   ]
  },
  {
   "cell_type": "code",
   "execution_count": null,
   "id": "1bc0c9a0",
   "metadata": {},
   "outputs": [],
   "source": [
    "# test function \n",
    "get_situation(panarin_clean, '5on5')"
   ]
  },
  {
   "cell_type": "markdown",
   "id": "dd0d37e7",
   "metadata": {},
   "source": [
    "We can do something similar where we create another function that isolates a particular team from that player's history. Let's print out the possible options. "
   ]
  },
  {
   "cell_type": "code",
   "execution_count": null,
   "id": "1ef7ae0a",
   "metadata": {},
   "outputs": [],
   "source": [
    "print('Andrei Panarin has played for these teams: ' + str(panarin_clean.team.unique()))\n",
    "print('Alex Ovechkin  has played for these teams: ' + str(ovechkin_clean.team.unique()))\n",
    "print('P.K. Subban has played for these teams: ' + str(subban_clean.team.unique()))"
   ]
  },
  {
   "cell_type": "markdown",
   "id": "c14c4c21",
   "metadata": {},
   "source": [
    "And now let's design our function & test it. "
   ]
  },
  {
   "cell_type": "code",
   "execution_count": null,
   "id": "fe11b418",
   "metadata": {},
   "outputs": [],
   "source": [
    "def get_team(input_dataframe, target_team):\n",
    "    output_dataframe = input_dataframe[input_dataframe['team'] == target_team]\n",
    "    return output_dataframe"
   ]
  },
  {
   "cell_type": "code",
   "execution_count": null,
   "id": "d622130d",
   "metadata": {},
   "outputs": [],
   "source": [
    "# test it \n",
    "get_team(subban_clean, 'NJD')"
   ]
  },
  {
   "cell_type": "markdown",
   "id": "01c7c174",
   "metadata": {},
   "source": [
    "Hm we've found something odd! P.K. Subban was traded to the NJD (Jersey Devils) in 2019 but the function is only returning values from the 2021 season. What happened to 2019 and 2020's data? Is it possible our function doesn't work? Or is there an underlying problem in our dataframe? Let's check these years in our dataframe. \n",
    "\n",
    "We will do this by isolating when the season was 2019 OR (`|`) 2020. "
   ]
  },
  {
   "cell_type": "code",
   "execution_count": null,
   "id": "2da9c0bf",
   "metadata": {},
   "outputs": [],
   "source": [
    "subban_clean[(subban_clean['season'] == 2019) | (subban_clean['season'] == 2020)]"
   ]
  },
  {
   "cell_type": "markdown",
   "id": "ad0420a7",
   "metadata": {},
   "source": [
    "Interesting! P.K. Subban is shown to have played for 'N.J', but that's not a proper team abbreviation. The value *should be* 'NJD' - we just found a typo in our dataset! Let's replace this using pandas `.replace()` method. \n",
    "\n",
    "This method takes the value to be replaced, followed by the value to replace it with. We add `inplace = True` to indicate we want this change to be saved to our dataframe. "
   ]
  },
  {
   "cell_type": "code",
   "execution_count": null,
   "id": "094280d0",
   "metadata": {},
   "outputs": [],
   "source": [
    "subban_clean.replace('N.J', 'NJD', inplace = True)\n",
    "\n",
    "get_team(subban_clean, 'NJD')"
   ]
  },
  {
   "cell_type": "markdown",
   "id": "b3329dc7",
   "metadata": {},
   "source": [
    "Great! Now we fixed it & can use our function properly. This is an instance of **troubleshooting issues** during data analysis. Sometimes the issue is with the design/syntax within the function itself, and other times it is your function not being able to catch an issue in the underlying data as in this case. \n",
    "\n",
    "Oftentimes, we can get to the bottom of most problems by querying our dataframes and printing out the contents.\n",
    "\n",
    "<hr style=\"border:2px solid gray\"> </hr>\n",
    "\n",
    "### Now you try! \n",
    "\n",
    "Use `get_team` to isolate the data for years that Andrei Panarin played on the New York Rangers (NYR) and save this to a dataframe called `panarin_nyr`. Print out the unique years that Panarin played on the NYR. "
   ]
  },
  {
   "cell_type": "code",
   "execution_count": null,
   "id": "54549f34",
   "metadata": {},
   "outputs": [],
   "source": [
    "### BEGIN SOLUTION \n",
    "\n",
    "panarin_nyr = get_team(panarin_clean, 'NYR')\n",
    "panarin_nyr.season.unique()\n",
    "\n",
    "### GET SOLUTION "
   ]
  },
  {
   "cell_type": "markdown",
   "id": "82400244",
   "metadata": {},
   "source": [
    "<hr style=\"border:2px solid gray\"> </hr>\n",
    "\n",
    "## Nesting functions \n",
    "\n",
    "Each of these functions we created are helpful for querying our dataframes & returning filtered versions. This is a really useful step in analysis! But you will usually want to **actually do something** with the filtered data, not just return it. \n",
    "\n",
    "We can use the functions we've created **nested within** another function to complete some larger analysis task! \n",
    "\n",
    "Let's create a function called `plot_icetime`. In this function we will do a few things: \n",
    "- first use `get_situation` to isolate a particular situation \n",
    "- then use `get_team` to isolate when a player was on a particular team - this **must** be done using the output of `get_situation` so **both** filters are applied on the resulting dataframe!  \n",
    "- add a new column called `icetime_min` that contains the icetime in minutes (`icetime` is given in seconds, so divide this by 60 to get icetime in minutes). \n",
    "- create a variable named `plot_title` where we build a string based on the unique inputs for our plot title \n",
    "- create a bar plot with `season` on the x axis, and `icetime` on the y axis, where the height of each bar is the number of icetime in minutes "
   ]
  },
  {
   "cell_type": "code",
   "execution_count": null,
   "id": "aefe7bce",
   "metadata": {},
   "outputs": [],
   "source": [
    "def plot_icetime(input_dataframe, target_situation, target_team):\n",
    "    # apply first filter - situation \n",
    "    filter_df_first = get_situation(input_dataframe, target_situation) \n",
    "    # apply second filter - team (input is output of first filter)\n",
    "    filter_df_second = get_team(filter_df_first, target_team)\n",
    "    # get icetime in minutes \n",
    "    filter_df_second['icetime_min'] = filter_df_second['icetime']/60\n",
    "    # create a title for the plot using the unique inputs (player name, situation, team)\n",
    "    plot_title = str(filter_df_second.name.unique()[0]) + ' ' + target_situation + ' icetime on the ' + target_team\n",
    "    # create a bar plot \n",
    "    filter_df_second.plot.bar(x='season', y='icetime_min', title = plot_title, ylabel = 'icetime [minutes]')\n",
    "    # return the filtered df \n",
    "    return filter_df_second"
   ]
  },
  {
   "cell_type": "code",
   "execution_count": null,
   "id": "cda51cd9",
   "metadata": {},
   "outputs": [],
   "source": [
    "plot_icetime(panarin_clean, '5on5', 'NYR')"
   ]
  },
  {
   "cell_type": "markdown",
   "id": "98718e09",
   "metadata": {},
   "source": [
    "We see that our function works! It returns a new dataframe that contains Panarin's stats in 5-on-5 play situations while he played on the Rangers. We also have a bar plot showing icetime in minutes. \n",
    "\n",
    "We can use this function to analyze & plot any combination of players we have stats for, particular play situations, and when they were on a certain team. From this we learned Panarin had comprable amount of ice time in 2019 and 2021, but his icetime was nearly halved in 2020. \n",
    "\n",
    "<hr style=\"border:2px solid gray\"> </hr>\n",
    "\n",
    "### Now you try! \n",
    "\n",
    "We assume this function should work with any player, situation, and team combination. Use `plot_icetime` to create a bar plot that shows Alex Ovechkin's play time in `all` situations while on the Ottowa Senators (team abbreviation `OTT`). \n",
    "\n",
    "Does the function work? Why or why not?"
   ]
  },
  {
   "cell_type": "code",
   "execution_count": null,
   "id": "67a1fb0a",
   "metadata": {},
   "outputs": [],
   "source": [
    "### BEGIN SOLUTION \n",
    "\n",
    "plot_icetime(ovechkin_clean, 'all', 'OTT')\n",
    "\n",
    "# this function does not work because Ovechkin never played on OTT! \n",
    "# The function fails to build a plot title & plot because the filtered dataframe is empty. \n",
    "\n",
    "### END SOLUTION "
   ]
  },
  {
   "cell_type": "markdown",
   "id": "5ce7ea32",
   "metadata": {},
   "source": [
    "<hr style=\"border:2px solid gray\"> </hr>\n",
    "\n",
    "## Debugging functions \n",
    "\n",
    "Sometimes a function doesn't work and we have to figure out why. Previously we showed an example of a problem in the underlying dataframe, but most often it will be an issue with the function itself. Sometimes a function will not work alltgether or sometimes it will only work in particular situations. \n",
    "\n",
    "In cases such as this, we have to go in and figure out why our function is failing. Let's debug `plot_icetime`. The simplest way to do this is by **adding print statements** at different stages in the function to see what step in the function fails!\n",
    "\n",
    "We need to embed these print/return statements within the function as local function variables (such as `filter_df_first` do not exist in our global variable space. We can use `print` or return `return` to print our local function variables. \n",
    "\n",
    "Let's add `return filter_df_first` right after we define it in our function to check the output. "
   ]
  },
  {
   "cell_type": "code",
   "execution_count": null,
   "id": "8ded8671",
   "metadata": {},
   "outputs": [],
   "source": [
    "def plot_icetime(input_dataframe, target_situation, target_team):\n",
    "    # apply first filter - situation \n",
    "    filter_df_first = get_situation(input_dataframe, target_situation) \n",
    "    return filter_df_first\n",
    "    # apply second filter - team (input is output of first filter)\n",
    "    filter_df_second = get_team(filter_df_first, target_team)\n",
    "    # get icetime in minutes \n",
    "    filter_df_second['icetime_min'] = filter_df_second['icetime']/60\n",
    "    # create a title for the plot using the unique inputs (player name, situation, team)\n",
    "    plot_title = str(filter_df_second.name.unique()[0]) + ' ' + target_situation + ' icetime on the ' + target_team\n",
    "    # create a bar plot \n",
    "    filter_df_second.plot.bar(x='season', y='icetime_min', title = plot_title, ylabel = 'icetime [minutes]')\n",
    "    # return the filtered df \n",
    "    return filter_df_second\n",
    "    \n",
    "plot_icetime(ovechkin_clean, 'all', 'OTT')"
   ]
  },
  {
   "cell_type": "markdown",
   "id": "ef49f3f4",
   "metadata": {},
   "source": [
    "Okay, so far so good... the function is returning all values where the `situation` column equals `all`. The issue is not in this step. \n",
    "\n",
    "Let's remove that return statement, and add another to print `filter_df_second`. "
   ]
  },
  {
   "cell_type": "code",
   "execution_count": null,
   "id": "f339956b",
   "metadata": {},
   "outputs": [],
   "source": [
    "def plot_icetime(input_dataframe, target_situation, target_team):\n",
    "    # apply first filter - situation \n",
    "    filter_df_first = get_situation(input_dataframe, target_situation) \n",
    "    # apply second filter - team (input is output of first filter)\n",
    "    filter_df_second = get_team(filter_df_first, target_team)\n",
    "    return filter_df_second\n",
    "    # get icetime in minutes \n",
    "    filter_df_second['icetime_min'] = filter_df_second['icetime']/60\n",
    "    # create a title for the plot using the unique inputs (player name, situation, team)\n",
    "    plot_title = str(filter_df_second.name.unique()[0]) + ' ' + target_situation + ' icetime on the ' + target_team\n",
    "    # create a bar plot \n",
    "    filter_df_second.plot.bar(x='season', y='icetime_min', title = plot_title, ylabel = 'icetime [minutes]')\n",
    "    # return the filtered df \n",
    "    return filter_df_second\n",
    "    \n",
    "plot_icetime(ovechkin_clean, 'all', 'OTT')"
   ]
  },
  {
   "cell_type": "markdown",
   "id": "ee1b50dd",
   "metadata": {},
   "source": [
    "Uh oh! Here's the problem! `get_team` for the input target team `OTT` returns and **empty dataframe**! \n",
    "\n",
    "This is because Ovechkin never played for Ottowa! The nested `get_team` filter works properly, but its result causes our `plot_icetime` function to break at the step where we get the player's full name out of the dataframe, `filter_df_second.name.unique()[0]`.  The list is empty! \n",
    "\n",
    "## Building more resilient functions \n",
    "\n",
    "The function in it's current state fails given certain inputs. But we can make some simple changes to ensure that it doesn't fail, and if a problem arises we can be warned so we don't have to go hunting for the issue. \n",
    "\n",
    "We can use a combination of **conditionals** and **print statements** to build a more resillient function that won't break even if we feed it faulty inputs (within reason). \n",
    "\n",
    "We will add the following to `plot_icetime`: \n",
    "\n",
    "- a conditional to check if the output of `get_situation` is empty - if it is empty, use `return` to break the function and print a statement that lets us know what happened\n",
    "- a conditional to check if the output of `get_team` is empty - if it is empty, use `return` to break the function and print a statement that lets us know what happened"
   ]
  },
  {
   "cell_type": "code",
   "execution_count": null,
   "id": "ca0e53e1",
   "metadata": {},
   "outputs": [],
   "source": [
    "def plot_icetime(input_dataframe, target_situation, target_team):\n",
    "    # apply first filter - situation \n",
    "    filter_df_first = get_situation(input_dataframe, target_situation) \n",
    "    if len(filter_df_first) == 0:\n",
    "        print('The situation \"' + target_situation + '\" does not exist in the input dataframe!')\n",
    "        return \n",
    "    # apply second filter - team (input is output of first filter)\n",
    "    filter_df_second = get_team(filter_df_first, target_team)\n",
    "    if len(filter_df_second) == 0:\n",
    "        print('The team \"' + target_team + '\" does not exist in the input dataframe!')\n",
    "        return\n",
    "    # get icetime in minutes \n",
    "    filter_df_second['icetime_min'] = filter_df_second['icetime']/60\n",
    "    # create a title for the plot using the unique inputs (player name, situation, team)\n",
    "    plot_title = str(filter_df_second.name.unique()[0]) + ' ' + target_situation + ' icetime on the ' + target_team\n",
    "    # create a bar plot \n",
    "    filter_df_second.plot.bar(x='season', y='icetime_min', title = plot_title, ylabel = 'icetime [minutes]')\n",
    "    # return the filtered df \n",
    "    return filter_df_second\n",
    "    \n",
    "plot_icetime(ovechkin_clean, 'all', 'OTT')"
   ]
  },
  {
   "cell_type": "markdown",
   "id": "27b8c8f9",
   "metadata": {},
   "source": [
    "Now we have a resilient function that doesn't fail even if the user tries to query for something that doesn't exist, or makes a typo in the input arguments! "
   ]
  },
  {
   "cell_type": "code",
   "execution_count": null,
   "id": "f002296a",
   "metadata": {},
   "outputs": [],
   "source": [
    "plot_icetime(ovechkin_clean, 'one man on the ice', 'WSH')"
   ]
  },
  {
   "cell_type": "code",
   "execution_count": null,
   "id": "d693cdd4",
   "metadata": {},
   "outputs": [],
   "source": [
    "plot_icetime(subban_clean, '4on5', 'Pittsburg Penguins')"
   ]
  },
  {
   "cell_type": "markdown",
   "id": "564c31c1",
   "metadata": {},
   "source": [
    "<hr style=\"border:2px solid gray\"> </hr>\n",
    "\n",
    "# Practice on your own \n",
    "\n",
    "In this practice section you will work with data in the file `goalies.csv`, which contains stats on NHL goalies in the 2020 season. A file like this is produced at the end of every season, so we want to create a set of functions to be able to repeat this analysis every year. \n",
    "\n",
    "#### Exercise 1. Read in `goalies.csv` and take a look at the contents"
   ]
  },
  {
   "cell_type": "code",
   "execution_count": null,
   "id": "4400eb8f",
   "metadata": {},
   "outputs": [],
   "source": [
    "goalies = pd.read_csv('goalies.csv')\n",
    "goalies.head()"
   ]
  },
  {
   "cell_type": "markdown",
   "id": "1ea0fcae",
   "metadata": {},
   "source": [
    "#### Exercise 2. In general, it is pretty rare for a goalie to take a penalty. Create a function called `find_penalties` that isolates the goalies with non-zero values in the `penalties` column & returns their names in a variable called `goalies_with_penalties`. Then, print the names of the goalies with penalties, and print a statement that tells us the percentage of total goalies that took penalities. \n",
    "\n",
    "    percentage = (number of goalies with penalities / total number of goalies) * 100. "
   ]
  },
  {
   "cell_type": "code",
   "execution_count": null,
   "id": "3fe063ce",
   "metadata": {},
   "outputs": [],
   "source": [
    "### BEGIN SOLUTION \n",
    "\n",
    "# create function to find goalies with penalties\n",
    "def find_penalites(input_dataframe):\n",
    "    penalties_exist = input_dataframe[input_dataframe['penalties'] > 0]\n",
    "    goalie_names = penalties_exist.name.unique()\n",
    "    return goalie_names\n",
    "\n",
    "# run function \n",
    "goalies_with_penalties = find_penalites(goalies)\n",
    "\n",
    "# print goalie names \n",
    "print(goalies_with_penalties)\n",
    "\n",
    "# print \n",
    "print(str(round((len(goalies_with_penalties)/len(goalies)*100), 2)) + '% of goalies took penalties in 2020')\n",
    "\n",
    "### END SOLUTION "
   ]
  },
  {
   "cell_type": "markdown",
   "id": "a9e7e02c",
   "metadata": {},
   "source": [
    "#### Exercise 3. Create a function called `get_most_icetime` that finds and returns the 10 goalies with the most ice time when the situation is `all`. Feel free to re-use the `get_situation` function we used in the guided section above as it will also work on this dataframe. You can use[ `.sort_values` ](https://pandas.pydata.org/docs/reference/api/pandas.DataFrame.sort_values.html) to sort the goalies by the values in column `icetime` (remember the default is to sort in ascending order). "
   ]
  },
  {
   "cell_type": "code",
   "execution_count": null,
   "id": "fa7fd793",
   "metadata": {},
   "outputs": [],
   "source": [
    "def get_most_icetime(input_dataframe):\n",
    "    goalies_situation_all = get_situation(goalies, 'all')\n",
    "    goalies_sorted = goalies_situation_all.sort_values('icetime', ascending = False)\n",
    "    goalies_most_icetime = goalies_sorted.iloc[0:10].reset_index(drop = True)\n",
    "    return goalies_most_icetime\n",
    "\n",
    "get_most_icetime(goalies)"
   ]
  },
  {
   "cell_type": "markdown",
   "id": "09f6f22d",
   "metadata": {},
   "source": [
    "#### Exercise 4. Generalize the function you made in exercise 3 so it can find the goalies with the most ice time in any given `target_situation` (all, other, 5on5, ...). Make sure the `get_situation` function is properly nested in `get_most_icetime`. Use this function to find the 10 goalies with most ice time in `4on5` situations. "
   ]
  },
  {
   "cell_type": "code",
   "execution_count": null,
   "id": "9f2fb16f",
   "metadata": {},
   "outputs": [],
   "source": [
    "### BEGIN SOLUTION \n",
    "\n",
    "def get_most_icetime(input_dataframe, target_situation):\n",
    "    goalies_situation = get_situation(goalies, target_situation)\n",
    "    goalies_sorted = goalies_situation.sort_values('icetime', ascending = False)\n",
    "    goalies_most_icetime = goalies_sorted.iloc[0:10].reset_index(drop = True)\n",
    "    return goalies_most_icetime\n",
    "\n",
    "get_most_icetime(goalies, '4on5')\n",
    "\n",
    "### END SOLUTION "
   ]
  },
  {
   "cell_type": "markdown",
   "id": "86137c48",
   "metadata": {},
   "source": [
    "#### Exercise 5. You are given the following function & pickle file, but something is wrong. It is supposed to calculate the sum of each goal type (`lowDangerGoals`  + `mediumDangerGoals` + `highDangerGoals` ) and test if there is difference between this calculated sum and the given `goals` column. It should plot the deviations. If there are none (if our sum is a perfect match to the given goals column) then it will be a straight line at the zero value. \n",
    "\n",
    "#### Debug the function - identify why it is failing, fix it, and then run it with the correct result. "
   ]
  },
  {
   "cell_type": "code",
   "execution_count": null,
   "id": "3074e5ac",
   "metadata": {},
   "outputs": [],
   "source": [
    "# import the new goalies file \n",
    "goalies_pkl = pd.read_pickle('goalies.pkl')\n",
    "\n",
    "# define function \n",
    "def plot_total_shots(input_dataframe): \n",
    "    goalies_situation = get_situation(input_dataframe, 'all')\n",
    "    # resume function \n",
    "    goalies_situation['sum_of_goals'] = goalies_situation.lowDangerGoals + \\\n",
    "        goalies_situation.mediumDangerGoals + goalies_situation.highDangerGoals\n",
    "    goalies_situation['deviation_in_goal_count'] = goalies_situation['sum_of_goals'] - goalies_situation['goals']\n",
    "    goalies_situation.plot(x = 'goals', y = 'deviation_in_goal_count')\n",
    "    return goalies_situation \n",
    "\n",
    "# run the function \n",
    "plot_total_shots(goalies_pkl)\n"
   ]
  },
  {
   "cell_type": "code",
   "execution_count": null,
   "id": "118ce30a",
   "metadata": {},
   "outputs": [],
   "source": [
    "### BEGIN SOLUTION \n",
    "\n",
    "# define function \n",
    "def plot_total_shots(input_dataframe): \n",
    "    goalies_situation = get_situation(input_dataframe, 'all')\n",
    "    # print out the outcome of the first step & check the data types \n",
    "    return goalies_situation, goalies_situation.dtypes\n",
    "    # see that the values of the dataframe are all objects, not float/int/or any number type \n",
    "    # ADD THIS - change type of these dataframes to floats so pandas can treat them as numbers, not strings \n",
    "    goalies_situation = goalies_situation.astype({'lowDangerGoals': 'float',\n",
    "                                                  'mediumDangerGoals': 'float', \n",
    "                                                  'highDangerGoals': 'float', \n",
    "                                                  'goals': 'float', })\n",
    "    # resume \n",
    "    goalies_situation['sum_of_goals'] = goalies_situation.lowDangerGoals + \\\n",
    "        goalies_situation.mediumDangerGoals + goalies_situation.highDangerGoals\n",
    "    goalies_situation['deviation_in_goal_count'] = goalies_situation['sum_of_goals'] - goalies_situation['goals']\n",
    "    goalies_situation.plot(x = 'goals', y = 'deviation_in_goal_count')\n",
    "    return goalies_situation \n",
    "\n",
    "# run the function \n",
    "plot_total_shots(goalies_pkl)\n",
    "\n",
    "### END SOLUTION "
   ]
  }
 ],
 "metadata": {
  "kernelspec": {
   "display_name": "Python 3",
   "language": "python",
   "name": "python3"
  },
  "language_info": {
   "codemirror_mode": {
    "name": "ipython",
    "version": 3
   },
   "file_extension": ".py",
   "mimetype": "text/x-python",
   "name": "python",
   "nbconvert_exporter": "python",
   "pygments_lexer": "ipython3",
   "version": "3.8.8"
  }
 },
 "nbformat": 4,
 "nbformat_minor": 5
}
