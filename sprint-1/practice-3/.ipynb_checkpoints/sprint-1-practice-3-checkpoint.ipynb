{
 "cells": [
  {
   "cell_type": "markdown",
   "id": "e5a85a1d",
   "metadata": {},
   "source": [
    "# Packaging & sharing functions \n",
    "\n",
    "So you've created several functions to help you complete analysis on a dataset. But you know that you'll need to use these functions again in the future, and you know the work you've done will be helpful to other colleagues doing similar work. How can you package your functions up in a way that they 'stand alone'? We want them to be easily shareable, readable, and well commented so that any user can utilize them (including you, months from now when you've forgotten the details of the project). We can do this by utilizing **self documentation** in our code base! \n",
    "\n",
    "[This](https://realpython.com/documenting-python-code/) is a great article that goes into detail on the importance of documentation & different methods. We will go over some key strategies in this practice. \n",
    "\n",
    "Let's bring in some data, create some functions, and document & package them up. \n",
    "\n",
    "## Loading in our dataset \n",
    "\n",
    "We will read in `ikea.pkl`, which is a **dictionary** containing furniture item available at IKEA & corresponding attributes, edited & reformatted from [this source](https://www.kaggle.com/datasets/ahmedkallam/ikea-sa-furniture-web-scraping?resource=download).  \n",
    "\n",
    "Recall that a dictionary is a combination of key:value pairs. In this case our \"key\" is the name of each furniture item, and the \"value\" is a list containing a few attributes. The attributes are given in the following order: `'category', 'price', 'designer'`.\n",
    "\n",
    "Note that this is a .pkl file, or a **pickle** file, which allows us to save python data objects in their original formats (e.g. for example you could save a pandas dataframe as is, instead of having to convert it to a csv). To do so you need to import the `pickle` module, and read the data in with the following syntax: \n",
    "\n",
    "    ikea = pickle.load(open('ikea.pkl', \"rb\"))\n",
    "\n",
    "Where `ikea.pkl` is the file name, and `\"rb\"` indicates that we are reading a file from binary. \n",
    "\n",
    "Let's read in `ikea.pkl` and save it to a variable named `ikea_dict`, then take a peek at the contents."
   ]
  },
  {
   "cell_type": "code",
   "execution_count": null,
   "id": "13af57be",
   "metadata": {},
   "outputs": [],
   "source": [
    "# read data in \n",
    "import pickle\n",
    "ikea_dict = pickle.load(open('ikea.pkl', \"rb\"))\n",
    "\n",
    "# print \n",
    "ikea_dict"
   ]
  },
  {
   "cell_type": "markdown",
   "id": "640b20bc",
   "metadata": {},
   "source": [
    "We *cannot* use an index to call a particular item! A dictionary is inherently *un-ordered*. \n",
    "\n",
    "We can create a list of all the product names, the \"keys\", like so, so we have a list of items we may want to query. "
   ]
  },
  {
   "cell_type": "code",
   "execution_count": null,
   "id": "29ab1090",
   "metadata": {},
   "outputs": [],
   "source": [
    "ikea_names = list(ikea_dict.keys())\n",
    "\n",
    "#print first 10 keys \n",
    "print(ikea_names[:10])\n",
    "\n",
    "# use a key to get its value \n",
    "ikea_dict['PLATSA']"
   ]
  },
  {
   "cell_type": "markdown",
   "id": "8b968b93",
   "metadata": {},
   "source": [
    "## Creating a set of functions to work with our data\n",
    "\n",
    "Say we are working for an interior design firm and our client has requested we select cabinets for an upcoming remodeling project. \n",
    "\n",
    "Let's create a function we can use to isolate all items in our dictionary which are of the category 'Cabinets & cupboards'. Since the list attributes are given in order `['category', 'price', 'designer']`, we would want to use the first (0th) item of the list to help us filter. \n",
    "\n",
    "The following `find_items` function will help us navigate our dictionary given the input arguments `ikea_dict`, which is our dictionary, and `item_category`, which is the type of furniture we want to filter for. The goal is to return a list of IKEA product names that we can return to our client. We will accomplish this with a few steps: \n",
    "\n",
    "1. Create two empty lists we can fill with keys & values of items that meet our conditions \n",
    "2. Iterate through each key in `ikea_dict` to & finding the corresponding values \n",
    "3. Checking if 'Cabinets & cupboards' is in the first value which contains the category \n",
    "4. If true then append this to our `selected_keys` list & `selected_vals` list \n",
    "5. Use `zip` to combine the two lists & use `dict` to convert them (full explanation [here](https://appdividend.com/2022/03/10/python-zip-dictionary/). "
   ]
  },
  {
   "cell_type": "code",
   "execution_count": null,
   "id": "7432b635",
   "metadata": {},
   "outputs": [],
   "source": [
    "def find_products(catalog, product_type):\n",
    "    selected_keys = []\n",
    "    selected_vals = []\n",
    "    for key in catalog:\n",
    "        val = catalog[key]\n",
    "        if product_type in val[0]:\n",
    "            selected_keys.append(key)\n",
    "            selected_vals.append(val)\n",
    "    new_dict = dict(zip(selected_keys, selected_vals))\n",
    "    return new_dict"
   ]
  },
  {
   "cell_type": "code",
   "execution_count": null,
   "id": "93c2c138",
   "metadata": {},
   "outputs": [],
   "source": [
    "# use our function to find all keys whose values contain 'Cabinets & cupboards'\n",
    "selection = find_products(ikea_dict, 'Cabinets & cupboards')\n",
    "selection"
   ]
  },
  {
   "cell_type": "markdown",
   "id": "72e60df9",
   "metadata": {},
   "source": [
    "Now we have a dictionary of potential cabinets that fit our specifications! However, due to a dispute between the client and the Löwenhielm family, the client has requested that we not include any of Eva Lilja Löwenhielm's designs.  \n",
    "\n",
    "Let's use this information to narrow down our list. \n",
    "\n",
    "We don't want to modify our original funciton since we want to be able to use it for other queries, so let's nest it within a new function named `remove_designer`. We will use **dictionary comprehension** (which uses a very similar syntax to list comprehension) to keep all items in the new dictionary that do **not** contain Eva Lilja Löwenhielm's designs. "
   ]
  },
  {
   "cell_type": "code",
   "execution_count": null,
   "id": "ed64abe5",
   "metadata": {},
   "outputs": [],
   "source": [
    "def remove_designer(catalog, product_type, designer_to_exclude):\n",
    "    selection = find_products(catalog, product_type)\n",
    "    refined_selection = {key: val for key, val in selection.items() if designer_to_exclude not in val}\n",
    "    return refined_selection"
   ]
  },
  {
   "cell_type": "code",
   "execution_count": null,
   "id": "482a1c27",
   "metadata": {},
   "outputs": [],
   "source": [
    "refined_selection = remove_designer(ikea_dict, 'Cabinets & cupboards', 'Eva Lilja Löwenhielm')\n",
    "refined_selection"
   ]
  },
  {
   "cell_type": "markdown",
   "id": "1056aa82",
   "metadata": {},
   "source": [
    "Taking a look at our new dictionary shows that her designs are removed! We can double check this by computing length and making sure those two entries are gone. "
   ]
  },
  {
   "cell_type": "code",
   "execution_count": null,
   "id": "f3dbfac2",
   "metadata": {},
   "outputs": [],
   "source": [
    "print(len(selection))\n",
    "print(len(refined_selection))"
   ]
  },
  {
   "cell_type": "markdown",
   "id": "9def073d",
   "metadata": {},
   "source": [
    "<hr style=\"border:2px solid gray\"> </hr>\n",
    "\n",
    "### Now you try! \n",
    "\n",
    "What if the client wants to make sure the design was from a specific designer? Create a function named `select_designer` that takes input arguments `catalog`, `product_type`, and `designer_to_select`. Have it return a `refined_selection` that includes **only** designs from the input designer name. \n",
    "\n",
    "Use the function to print all `Cabinets & cupboards` designed in-house by `IKEA of Sweden`. "
   ]
  },
  {
   "cell_type": "code",
   "execution_count": null,
   "id": "f9e75207",
   "metadata": {},
   "outputs": [],
   "source": [
    "### BEGIN SOLUTION \n",
    "\n",
    "def select_designer(catalog, product_type, designer_to_select):\n",
    "    selection = find_products(catalog, product_type)\n",
    "    refined_selection = {key: val for key, val in selection.items() if designer_to_select in val}\n",
    "    return refined_selection\n",
    "\n",
    "select_designer(ikea_dict, 'Cabinets & cupboards', 'IKEA of Sweden')\n",
    "\n",
    "### END SOLUTION "
   ]
  },
  {
   "cell_type": "markdown",
   "id": "0fbbfca3",
   "metadata": {},
   "source": [
    "<hr style=\"border:2px solid gray\"> </hr>\n",
    "\n",
    "Finally, we want to be able to filter by pricepoint. Our client will let us know their budget so we want to be able to filter our `refined_selection` to account for this. We use a for loop to pass through each key in our list of keys, then use a conditional to see if the second value in the list (the price) is within the client's budget. If it is, add that to our `refined_selection` dictionary to be returned. "
   ]
  },
  {
   "cell_type": "code",
   "execution_count": null,
   "id": "95e90c93",
   "metadata": {},
   "outputs": [],
   "source": [
    "def filter_pricepoint(input_selection, max_price):\n",
    "    final_selection_keys = []\n",
    "    final_selection_vals = []\n",
    "    for key in list(input_selection.keys()):\n",
    "        val = input_selection[key]\n",
    "        if val[1] < max_price:\n",
    "            final_selection_keys.append(key)           \n",
    "            final_selection_vals.append(val)\n",
    "    final_selection = dict(zip(final_selection_keys, final_selection_vals))\n",
    "    return final_selection\n",
    "\n",
    "final_selection = filter_pricepoint(refined_selection, max_price = 600)\n",
    "final_selection"
   ]
  },
  {
   "cell_type": "markdown",
   "id": "769b81de",
   "metadata": {},
   "source": [
    "## Adding docstrings to our functions \n",
    "\n",
    "**Docstrings** are strings built into your functions that can be queried using the built in `help()` function. We can print the docstrings for one of python's built in functions, `enumerate`, like so:"
   ]
  },
  {
   "cell_type": "code",
   "execution_count": null,
   "id": "bb15f6c2",
   "metadata": {},
   "outputs": [],
   "source": [
    "help(enumerate)"
   ]
  },
  {
   "cell_type": "markdown",
   "id": "b8f6c063",
   "metadata": {},
   "source": [
    "You'll see a few key features such as a summary of the function's use case, describing the input type/description for the function to work properly, and describing the expected outputs. \n",
    "\n",
    "We can implement these docstrings in our user-defined functions as well, making sure to include the same key properties. This is done using a string in triple quotation marks `\"\"\"` in the first line of the function. Let's add docstrings to the 3 functions we made earlier. We will also add some comments within the function to indicate what is happening at each step. You don't need to comment every single line, but its a good idea to comment out blocks that accomplish certain sub-steps. "
   ]
  },
  {
   "cell_type": "code",
   "execution_count": null,
   "id": "72674fe5",
   "metadata": {},
   "outputs": [],
   "source": [
    "def find_products(catalog, product_type):\n",
    "    '''\n",
    "    | Help on user-defined function find_products:\n",
    "    |\n",
    "    | This function takes inputs: \n",
    "    | - catalog - dictionary containing ikea catalog items\n",
    "    | - product_type - string containing product types in catalog (first item in dict value)\n",
    "    | \n",
    "    | This function returns:\n",
    "    | - new_dict - a dictionary containing only catalog items that match the input product_type\n",
    "    '''\n",
    "    # empty list to fill with items \n",
    "    selected_keys = []\n",
    "    selected_vals = []\n",
    "    # loop through each key \n",
    "    for key in catalog:\n",
    "    # for each key, find the values \n",
    "        val = catalog[key]\n",
    "        # check if the item category is in the values\n",
    "        # if it is, add it to our selection list\n",
    "        if product_type in val[0]:\n",
    "            selected_keys.append(key)\n",
    "            selected_vals.append(val)\n",
    "    # make new dict to return \n",
    "    new_dict = dict(zip(selected_keys, selected_vals))\n",
    "    # return our list \n",
    "    return new_dict\n",
    "\n",
    "def remove_designer(catalog, product_type, designer_to_exclude):\n",
    "    '''\n",
    "    | Help on user-defined function remove_designer:\n",
    "    |\n",
    "    | This function takes inputs: \n",
    "    | - catalog - dictionary containing ikea catalog items\n",
    "    | - product_type - string containing product types in catalog (first item in dict value)\n",
    "    | - designer_to_exclude - string containing name of designer we want to remove from selection \n",
    "    | \n",
    "    | This function returns:\n",
    "    | - final_selection - a dictionary containing only catalog items that match the input product_type \n",
    "    | AND does NOT include designer_to_exclude\n",
    "    '''\n",
    "    # run find_products, nested function \n",
    "    selection = find_products(catalog, product_type)\n",
    "    # exclude designer in selection\n",
    "    refined_selection = {key: val for key, val in selection.items() if designer_to_exclude not in val}\n",
    "    return refined_selection\n",
    "\n",
    "def filter_pricepoint(input_selection, max_price):\n",
    "    '''\n",
    "    | Help on user-defined function filter_pricepoint:\n",
    "    |\n",
    "    | This function takes inputs: \n",
    "    | - input_selection - dictionary containing ikea catalog items. can be original catalog dictionary or\n",
    "    | filtered `refined_selection` dict from find_products, remove_designer, or other. \n",
    "    | - max_price - int or float indicating max budget. funciton will keep everything < this value. \n",
    "    | \n",
    "    | This function returns:\n",
    "    | - final_selection - a dictionary containing only catalog items that match the input product_type \n",
    "    | AND does NOT include designer_to_exclude\n",
    "    '''\n",
    "    # empty lists to fill with keys & vals we keep \n",
    "    final_selection_keys = []\n",
    "    final_selection_vals = []\n",
    "    # loop through keys, get vals \n",
    "    for key in list(input_selection.keys()):\n",
    "        val = input_selection[key]\n",
    "        # if within budget add keys & vals to list\n",
    "        if val[1] < max_price:\n",
    "            input_selection_keys.append(key)           \n",
    "            input_selection_vals.append(val)\n",
    "    # zip lists into a new dictionary \n",
    "    final_selection = dict(zip(final_selection_keys, final_selection_vals))\n",
    "    return final_selection"
   ]
  },
  {
   "cell_type": "code",
   "execution_count": null,
   "id": "81d3c63e",
   "metadata": {},
   "outputs": [],
   "source": [
    "help(find_products)"
   ]
  },
  {
   "cell_type": "code",
   "execution_count": null,
   "id": "a348fc6a",
   "metadata": {},
   "outputs": [],
   "source": [
    "help(remove_designer)"
   ]
  },
  {
   "cell_type": "code",
   "execution_count": null,
   "id": "924f0c80",
   "metadata": {},
   "outputs": [],
   "source": [
    "help(filter_pricepoint)"
   ]
  },
  {
   "cell_type": "markdown",
   "id": "1d2a1c7d",
   "metadata": {},
   "source": [
    "<hr style=\"border:2px solid gray\"> </hr>\n",
    "\n",
    "### Now you try! \n",
    "\n",
    "Add docstrings for the `select_designer` function you created earlier. Print the docstring using `help()`. "
   ]
  },
  {
   "cell_type": "code",
   "execution_count": null,
   "id": "1c6b030e",
   "metadata": {},
   "outputs": [],
   "source": [
    "### BEGIN SOLUTION \n",
    "\n",
    "def select_designer(catalog, product_type, designer_to_select):\n",
    "    '''    \n",
    "    | Help on user-defined function select_designer:\n",
    "    |\n",
    "    | This function takes inputs: \n",
    "    | - catalog - dictionary containing ikea catalog items\n",
    "    | - product_type - string containing product types in catalog (first item in dict value)\n",
    "    | - designer_to_select - string containing name of designer we want to keep (exclude every other designer)\n",
    "    | \n",
    "    | This function returns:\n",
    "    | - refined_selection - a dictionary containing only catalog items that match the input product_type \n",
    "    | AND is designed by designer_to_select\n",
    "    '''\n",
    "    selection = find_products(catalog, product_type)\n",
    "    refined_selection = {key: val for key, val in selection.items() if designer_to_select in val}\n",
    "    return refined_selection\n",
    "\n",
    "help(select_designer)\n",
    "\n",
    "### END SOLUTION "
   ]
  },
  {
   "cell_type": "markdown",
   "id": "cff2e793",
   "metadata": {},
   "source": [
    "<hr style=\"border:2px solid gray\"> </hr>\n",
    "\n",
    "## Packaging a set of functions into a module\n",
    "\n",
    "A **module** is a set of definitions/functions pacakged into a script that can be called into any workspace. This is simply a `.py` file that contains our function definitions. For example a module called `ikea_functions.py` could be called in using `import ikea_functions`. The syntax is the same as when we import other packages such as pandas or matplotlib. \n",
    "\n",
    "Let's create a module called `ikea_functions` that contains all the functions we defined. You can do this in a text editor where you simply name the file `ikea_functions.py` or you can use the method below to write a file directly from jupyter:"
   ]
  },
  {
   "cell_type": "code",
   "execution_count": null,
   "id": "0132b206",
   "metadata": {},
   "outputs": [],
   "source": [
    "%%writefile ikea_functions.py\n",
    "\n",
    "def find_products(catalog, product_type):\n",
    "    '''\n",
    "    | Help on user-defined function find_products:\n",
    "    |\n",
    "    | This function takes inputs: \n",
    "    | - catalog - dictionary containing ikea catalog items\n",
    "    | - product_type - string containing product types in catalog (first item in dict value)\n",
    "    | \n",
    "    | This function returns:\n",
    "    | - new_dict - a dictionary containing only catalog items that match the input product_type\n",
    "    '''\n",
    "    # empty list to fill with items \n",
    "    selected_keys = []\n",
    "    selected_vals = []\n",
    "    # loop through each key \n",
    "    for key in catalog:\n",
    "    # for each key, find the values \n",
    "        val = catalog[key]\n",
    "        # check if the item category is in the values\n",
    "        # if it is, add it to our selection list\n",
    "        if product_type in val[0]:\n",
    "            selected_keys.append(key)\n",
    "            selected_vals.append(val)\n",
    "    # make new dict to return \n",
    "    new_dict = dict(zip(selected_keys, selected_vals))\n",
    "    # return our list \n",
    "    return new_dict\n",
    "\n",
    "def remove_designer(catalog, product_type, designer_to_exclude):\n",
    "    '''\n",
    "    | Help on user-defined function remove_designer:\n",
    "    |\n",
    "    | This function takes inputs: \n",
    "    | - catalog - dictionary containing ikea catalog items\n",
    "    | - product_type - string containing product types in catalog (first item in dict value)\n",
    "    | - designer_to_exclude - string containing name of designer we want to remove from selection \n",
    "    | \n",
    "    | This function returns:\n",
    "    | - final_selection - a dictionary containing only catalog items that match the input product_type \n",
    "    | AND does NOT include designer_to_exclude\n",
    "    '''\n",
    "    # run find_products, nested function \n",
    "    selection = find_products(catalog, product_type)\n",
    "    # exclude designer in selection\n",
    "    refined_selection = {key: val for key, val in selection.items() if designer_to_exclude not in val}\n",
    "    return refined_selection\n",
    "\n",
    "def filter_pricepoint(input_selection, max_price):\n",
    "    '''\n",
    "    | Help on user-defined function filter_pricepoint:\n",
    "    |\n",
    "    | This function takes inputs: \n",
    "    | - input_selection - dictionary containing ikea catalog items. can be original catalog dictionary or\n",
    "    | filtered `refined_selection` dict from find_products, remove_designer, or other. \n",
    "    | - max_price - int or float indicating max budget. funciton will keep everything < this value. \n",
    "    | \n",
    "    | This function returns:\n",
    "    | - final_selection - a dictionary containing only catalog items that match the input product_type \n",
    "    | AND does NOT include designer_to_exclude\n",
    "    '''\n",
    "    # empty lists to fill with keys & vals we keep \n",
    "    final_selection_keys = []\n",
    "    final_selection_vals = []\n",
    "    # loop through keys, get vals \n",
    "    for key in list(input_selection.keys()):\n",
    "        val = input_selection[key]\n",
    "        # if within budget add keys & vals to list\n",
    "        if val[1] < max_price:\n",
    "            input_selection_keys.append(key)           \n",
    "            input_selection_vals.append(val)\n",
    "    # zip lists into a new dictionary \n",
    "    final_selection = dict(zip(final_selection_keys, final_selection_vals))\n",
    "    return final_selection\n",
    "\n",
    "def select_designer(catalog, product_type, designer_to_select):\n",
    "    '''    \n",
    "    | Help on user-defined function select_designer:\n",
    "    |\n",
    "    | This function takes inputs: \n",
    "    | - catalog - dictionary containing ikea catalog items\n",
    "    | - product_type - string containing product types in catalog (first item in dict value)\n",
    "    | - designer_to_select - string containing name of designer we want to keep (exclude every other designer)\n",
    "    | \n",
    "    | This function returns:\n",
    "    | - refined_selection - a dictionary containing only catalog items that match the input product_type \n",
    "    | AND is designed by designer_to_select\n",
    "    '''\n",
    "    selection = find_products(catalog, product_type)\n",
    "    refined_selection = {key: val for key, val in selection.items() if designer_to_select in val}\n",
    "    return refined_selection\n",
    "\n"
   ]
  },
  {
   "cell_type": "markdown",
   "id": "3bfa0ea8",
   "metadata": {},
   "source": [
    "Let's clear our variable space, import our module using `import ikea_functions` & re-load our ikea file to test this. "
   ]
  },
  {
   "cell_type": "code",
   "execution_count": null,
   "id": "347ba3c6",
   "metadata": {},
   "outputs": [],
   "source": [
    "# reset variables space \n",
    "# run this then type 'y' when prompted\n",
    "%reset"
   ]
  },
  {
   "cell_type": "code",
   "execution_count": null,
   "id": "522b3770",
   "metadata": {},
   "outputs": [],
   "source": [
    "# reload file\n",
    "import pickle\n",
    "ikea_dict = pickle.load(open('ikea.pkl', \"rb\"))\n",
    "\n",
    "# import the entire module \n",
    "import ikea_functions\n",
    "\n",
    "# and use dir to print all functions within the module \n",
    "dir(ikea_functions)"
   ]
  },
  {
   "cell_type": "markdown",
   "id": "2927cad2",
   "metadata": {},
   "source": [
    "You see above that our four functions are listed within the new `ikea_functions` we imported! We can access a particular function using dot notation like this: "
   ]
  },
  {
   "cell_type": "code",
   "execution_count": null,
   "id": "e305d71b",
   "metadata": {},
   "outputs": [],
   "source": [
    "ikea_functions.find_products(ikea_dict, 'Beds')"
   ]
  },
  {
   "cell_type": "markdown",
   "id": "94b4f12f",
   "metadata": {},
   "source": [
    "We could also import only a single function from the module & use it, like so: "
   ]
  },
  {
   "cell_type": "code",
   "execution_count": null,
   "id": "5c1fcf89",
   "metadata": {},
   "outputs": [],
   "source": [
    "from ikea_functions import find_products\n",
    "\n",
    "find_products(ikea_dict, 'Beds')"
   ]
  },
  {
   "cell_type": "markdown",
   "id": "3b0d1389",
   "metadata": {},
   "source": [
    "See that our docstrings can be printed too! "
   ]
  },
  {
   "cell_type": "code",
   "execution_count": null,
   "id": "38360e8f",
   "metadata": {},
   "outputs": [],
   "source": [
    "help(ikea_functions.remove_designer)"
   ]
  },
  {
   "cell_type": "markdown",
   "id": "88e6439e",
   "metadata": {},
   "source": [
    "Importing a module is a lot less cumbersome than redefining the function in every script you want to use it. This makes it easy to re-use functions in multiple scripts. If you make a change to a function in the module, it will carry through to every usage of the function thereafter, whereas if you were to have the function defined in multiple scripts it is likely you will forget to change every instance and the \"same\" function will behave differently in multiple scripts. \n",
    "\n",
    "It also makes it more easily shareable, as you can simply send one .py file to a colleage and they can import the functions you made. This way they will not have to hard code them themselves or copy/paste from a different script. The use of docstrings in your module functions allows you or a colleague to easily access documentation so you don't need to re-inspect the entire funtion to remember inputs, formats, etc. "
   ]
  },
  {
   "cell_type": "markdown",
   "id": "7763478f",
   "metadata": {},
   "source": [
    "<hr style=\"border:2px solid gray\"> </hr>\n",
    "\n",
    "### Now you try! \n",
    "\n",
    "Use the `remove_designer` function from our module (by importing the function directly or using dot notation) and find all 'Beds' NOT designed by 'IKEA of Sweden'"
   ]
  },
  {
   "cell_type": "code",
   "execution_count": null,
   "id": "48305adf",
   "metadata": {},
   "outputs": [],
   "source": [
    "### BEGIN SOLUTION \n",
    "\n",
    "ikea_functions.remove_designer(ikea_dict, 'Beds', 'IKEA of Sweden')\n",
    "\n",
    "### END SOLUTION"
   ]
  },
  {
   "cell_type": "markdown",
   "id": "525e4ff9",
   "metadata": {},
   "source": [
    "<hr style=\"border:2px solid gray\"> </hr>\n",
    "\n",
    "# Practice on your own \n",
    "\n",
    "In this practice section you will be working with video game data from IGN, a video game website, found [here](https://github.com/erilyth/DeepLearning-Challenges/blob/master/Sentiment_Analysis/ign.csv). \n",
    "\n",
    "Load in the first 500 rows of `ign.csv` like so:"
   ]
  },
  {
   "cell_type": "code",
   "execution_count": null,
   "id": "d662d51e",
   "metadata": {},
   "outputs": [],
   "source": [
    "import pandas as pd\n",
    "ign = pd.read_csv('ign.csv', nrows = 500)\n",
    "ign.head()\n",
    "ign.platform.unique()"
   ]
  },
  {
   "cell_type": "markdown",
   "id": "66f8a91f",
   "metadata": {},
   "source": [
    "#### Exercise 1. Create a function called `get_platform` that returns a dataframe containing only data from the platform listed in the input argument (iPad, Xbox 360, Playstation Vita, ...). Use this function to create a dataframe of games for the PlayStation Vita. Add useful docstrings to the function. \n",
    "\n",
    "#### Use this function to create a dataframe named `ps_vita` that contains all the games released on the 'Playstation Vita'. "
   ]
  },
  {
   "cell_type": "code",
   "execution_count": null,
   "id": "05770d2a",
   "metadata": {},
   "outputs": [],
   "source": [
    "### BEGIN SOLUTION \n",
    "\n",
    "def get_platform(games_df, target_platform):\n",
    "    \"\"\"\n",
    "    | Help on user-defined function get_platform:\n",
    "    |\n",
    "    | This function works on the ign dataframe & takes inputs: \n",
    "    | - games_df - dataframe of ign games \n",
    "    | - target_platform - a string naming the gaming platform the games were released on \n",
    "    |\n",
    "    | This function returns:\n",
    "    | - platform_only - a dataframe containing only games released on the input target_platform\n",
    "    \"\"\"\n",
    "    platform_only = games_df[games_df['platform'] == target_platform]\n",
    "    return platform_only\n",
    "\n",
    "ps_vita = get_platform(ign, 'PlayStation Vita')\n",
    "ps_vita.head()\n",
    "\n",
    "### END SOLUTION "
   ]
  },
  {
   "cell_type": "markdown",
   "id": "0152734a",
   "metadata": {},
   "source": [
    "#### Exercise 2. Create a function named `bar_plot_genres` that makes a bar plot out of the `genre` column for the data for a certain target platform. The function should take `target_platform` as an input argument, and return a bar plot where each bar measures the number of games in each category. You will need to create and add a new column, `primary_genre`, to the dataframe, which contains either the only genre listed or only the primary (first) one listed for each game. You do not need to return the altered dataframe. \n",
    "\n",
    "#### Add meaningful comments to the blocks of code within your function & add descriptive docstrings. \n",
    "\n",
    "#### Finally, use this function to plot the genres of PlayStation Vita games. "
   ]
  },
  {
   "cell_type": "code",
   "execution_count": null,
   "id": "7f9f83de",
   "metadata": {},
   "outputs": [],
   "source": [
    "### BEGIN SOLUTION \n",
    "\n",
    "def bar_plot_genres(games_df, target_platform):\n",
    "    \"\"\"\n",
    "    | Help on user-defined function bar_plot_genres:\n",
    "    |\n",
    "    | This function creates a bar plot of primary genres for games of a certain platform. \n",
    "    | Creates a new column called 'primary_genre' with first listed genre for each game. \n",
    "    |\n",
    "    | Takes the following inputs: \n",
    "    | - games_df - dataframe of ign games \n",
    "    | - target_platform - a string naming the gaming platform the games were released on\n",
    "    |\n",
    "    | This function returns:\n",
    "    | - platform_only - a dataframe containing only games released on the input target_platform\n",
    "    | - bar plot showing count of each primary genre for that gaming platform \n",
    "    \"\"\"\n",
    "    # get games from this platform \n",
    "    this_platform = get_platform(games_df, target_platform)\n",
    "    # if comma, then only keep text before comma (first entry in genre)\n",
    "    # add to empty list \n",
    "    primary_genres = []\n",
    "    for index, row in this_platform.iterrows():\n",
    "        comma_count = row.genre.count(',')\n",
    "        if comma_count == 0:\n",
    "            primary_genres.append(row.genre)\n",
    "        else:\n",
    "            primary_only = row.genre.split(', ')[0]\n",
    "            primary_genres.append(primary_only)\n",
    "    # add new column with primary genres only \n",
    "    this_platform['primary_genre'] = primary_genres\n",
    "    # plot \n",
    "    this_platform.primary_genre.value_counts().plot.bar(title = 'Genres of all ' + target_platform + ' games')\n",
    "\n",
    "bar_plot_genres(ign, 'PlayStation Vita')\n",
    "\n",
    "### END SOLUTION "
   ]
  },
  {
   "cell_type": "markdown",
   "id": "696be622",
   "metadata": {},
   "source": [
    "#### Exercise 3. Say you have found an old module in your code base, and you don't remember the details of what each function does. Using `get_platform` function you just made, demonstrate how would you go about accessing the documentation for a forgotten function. "
   ]
  },
  {
   "cell_type": "code",
   "execution_count": null,
   "id": "d4a780e6",
   "metadata": {},
   "outputs": [],
   "source": [
    "help(get_platform)"
   ]
  },
  {
   "cell_type": "markdown",
   "id": "0be1d593",
   "metadata": {},
   "source": [
    "#### Exercise 4. Create a module that packages together your `get_platform` and `bar_plot_genres` functions, named `ign_functions.py`. You can either use a text editor to create a .py file, or write the file directly from Jupyter Notebook. "
   ]
  },
  {
   "cell_type": "code",
   "execution_count": null,
   "id": "59228910",
   "metadata": {},
   "outputs": [],
   "source": [
    "### BEGIN SOLUTION \n",
    "\n",
    "%%writefile ign_functions.py # will not work if after commented line, line magic must be ONLY thing in cell\n",
    "\n",
    "def get_platform(games_df, target_platform):\n",
    "    \"\"\"\n",
    "    | Help on user-defined function get_platform:\n",
    "    |\n",
    "    | This function works on the ign dataframe & takes inputs: \n",
    "    | - games_df - dataframe of ign games \n",
    "    | - target_platform - a string naming the gaming platform the games were released on \n",
    "    |\n",
    "    | This function returns:\n",
    "    | - platform_only - a dataframe containing only games released on the input target_platform\n",
    "    \"\"\"\n",
    "    platform_only = games_df[games_df['platform'] == target_platform]\n",
    "    return platform_only\n",
    "\n",
    "def bar_plot_genres(games_df, target_platform):\n",
    "    \"\"\"\n",
    "    | Help on user-defined function bar_plot_genres:\n",
    "    |\n",
    "    | This function creates a bar plot of primary genres for games of a certain platform. \n",
    "    | Creates a new column called 'primary_genre' with first listed genre for each game. \n",
    "    |\n",
    "    | Takes the following inputs: \n",
    "    | - games_df - dataframe of ign games \n",
    "    | - target_platform - a string naming the gaming platform the games were released on\n",
    "    |\n",
    "    | This function returns:\n",
    "    | - platform_only - a dataframe containing only games released on the input target_platform\n",
    "    | - bar plot showing count of each primary genre for that gaming platform \n",
    "    \"\"\"\n",
    "    # get games from this platform \n",
    "    this_platform = get_platform(games_df, target_platform)\n",
    "    # if comma, then only keep text before comma (first entry in genre)\n",
    "    # add to empty list \n",
    "    primary_genres = []\n",
    "    for index, row in this_platform.iterrows():\n",
    "        comma_count = row.genre.count(',')\n",
    "        if comma_count == 0:\n",
    "            primary_genres.append(row.genre)\n",
    "        else:\n",
    "            primary_only = row.genre.split(', ')[0]\n",
    "            primary_genres.append(primary_only)\n",
    "    # add new column with primary genres only \n",
    "    this_platform['primary_genre'] = primary_genres\n",
    "    # plot \n",
    "    this_platform.primary_genre.value_counts().plot.bar(title = 'Genres of all ' + target_platform + ' games')\n",
    "\n",
    "### END SOLUTION "
   ]
  },
  {
   "cell_type": "markdown",
   "id": "3e721236",
   "metadata": {},
   "source": [
    "#### Exercise 5. Read in the functions from your new `ign_functions` module & print the docstrings for each. Use the appropriate function in the module to create a bar plot of genres of Nintendo DS games. "
   ]
  },
  {
   "cell_type": "code",
   "execution_count": null,
   "id": "f51bcb4a",
   "metadata": {},
   "outputs": [],
   "source": [
    "### BEGIN SOLUTION \n",
    "\n",
    "import ign_functions\n",
    "\n",
    "help(ign_functions.get_platform)\n",
    "help(ign_functions.bar_plot_genres)\n",
    "\n",
    "ign_functions.bar_plot_genres(ign, 'iPad')\n",
    "\n",
    "### END SOLUTION "
   ]
  }
 ],
 "metadata": {
  "kernelspec": {
   "display_name": "Python 3 (ipykernel)",
   "language": "python",
   "name": "python3"
  },
  "language_info": {
   "codemirror_mode": {
    "name": "ipython",
    "version": 3
   },
   "file_extension": ".py",
   "mimetype": "text/x-python",
   "name": "python",
   "nbconvert_exporter": "python",
   "pygments_lexer": "ipython3",
   "version": "3.10.4"
  }
 },
 "nbformat": 4,
 "nbformat_minor": 5
}
