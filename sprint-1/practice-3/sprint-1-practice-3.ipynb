{
 "cells": [
  {
   "cell_type": "code",
   "execution_count": null,
   "id": "5b72bd8a",
   "metadata": {},
   "outputs": [],
   "source": [
    "### DO NOT INCLUDE IN LAB \n",
    "ikea = pd.read_csv('ikea.csv')\n",
    "from sklearn.utils import shuffle\n",
    "ikea = shuffle(ikea)\n",
    "ikea.drop(columns = {'Unnamed: 0', 'short_description'}, inplace = True)\n",
    "ikea.to_csv('ikea_shuffled.csv')"
   ]
  },
  {
   "cell_type": "markdown",
   "id": "e5a85a1d",
   "metadata": {},
   "source": [
    "# Packaging & sharing functions \n",
    "\n",
    "So you've created several functions to help you complete analysis on a dataset. But you know that you'll need to use these functions again in the future, and you know the work you've done will be helpful to other colleagues doing similar work. How can you package your functions up in a way that they 'stand alone'? We want them to be easily shareable, readable, and well commented so that any user can utilize them (including you, months from now when you've forgotten the details of the project). We can do this by utilizing **self documentation** in our code base! \n",
    "\n",
    "[This](https://realpython.com/documenting-python-code/) is a great article that goes into detail on the importance of documentation & different methods. We will go over some key strategies in this practice. \n",
    "\n",
    "Let's bring in some data, create some functions, and document & package them up. \n",
    "\n",
    "## Loading in our dataset \n",
    "\n",
    "We will read in `ikea.csv`, which is a spreadsheet containing furniture items available at IKEA & corresponding attributes, from [this source](https://www.kaggle.com/datasets/ahmedkallam/ikea-sa-furniture-web-scraping?resource=download).  \n",
    "\n",
    "Let's read in `ikea.csv` and take a peek at the contents."
   ]
  },
  {
   "cell_type": "code",
   "execution_count": null,
   "id": "13af57be",
   "metadata": {},
   "outputs": [],
   "source": [
    "# read data in \n",
    "import pandas as pd \n",
    "ikea = pd.read_csv('ikea_shuffled.csv', nrows = 200)\n",
    "ikea.drop(columns = 'Unnamed: 0', inplace = True)\n",
    "\n",
    "# print \n",
    "ikea.head()"
   ]
  },
  {
   "cell_type": "markdown",
   "id": "8b968b93",
   "metadata": {},
   "source": [
    "## Creating a set of functions to work with our data\n",
    "\n",
    "Say we are working for an interior design firm and our client has requested we select cabinets for an upcoming remodeling project. \n",
    "\n",
    "Let's create a function we can use to isolate all items in our dataframe which are of the category 'Cabinets & cupboards'. This `find_products` function will take input arguments `ikea_df`, which is our catalog dataframe, and `item_category`, which is a string containing the name of furniture we want to filter for. The goal is to return a list of IKEA product names that we can return to our client. \n"
   ]
  },
  {
   "cell_type": "code",
   "execution_count": null,
   "id": "7432b635",
   "metadata": {},
   "outputs": [],
   "source": [
    "def find_products(ikea_df, item_category):\n",
    "    selected_category = ikea_df[(ikea_df['category'] == item_category)]\n",
    "    return selected_category"
   ]
  },
  {
   "cell_type": "code",
   "execution_count": null,
   "id": "93c2c138",
   "metadata": {},
   "outputs": [],
   "source": [
    "# use our function to find all keys whose values contain 'Cabinets & cupboards'\n",
    "selection = find_products(ikea, 'Cabinets & cupboards')\n",
    "selection.head()"
   ]
  },
  {
   "cell_type": "markdown",
   "id": "72e60df9",
   "metadata": {},
   "source": [
    "Now we have a dataframe of potential cabinets that fit our specifications! However, due to a dispute between the client and the Lundgren family, the client has requested that we not include any of Gillis Lundgren's designs.  \n",
    "Let's use this information to narrow down our list. \n",
    "\n",
    "We don't want to modify our original funciton since we want to be able to use it for other queries, so let's nest it within a new function named `remove_designer`. This function will contain `find_products` nested within, so we need to make sure we include those input arguments too. "
   ]
  },
  {
   "cell_type": "code",
   "execution_count": null,
   "id": "ed64abe5",
   "metadata": {},
   "outputs": [],
   "source": [
    "def find_products_remove_designer(ikea_df, item_category, designer_to_exclude):\n",
    "    selected_category = find_products(ikea_df, item_category)\n",
    "    refined_selection = selected_category[selected_category['designer'] != designer_to_exclude]\n",
    "    return refined_selection"
   ]
  },
  {
   "cell_type": "code",
   "execution_count": null,
   "id": "482a1c27",
   "metadata": {},
   "outputs": [],
   "source": [
    "refined_selection = find_products_remove_designer(ikea, 'Cabinets & cupboards', 'Gillis Lundgren')\n",
    "refined_selection.head()"
   ]
  },
  {
   "cell_type": "markdown",
   "id": "1056aa82",
   "metadata": {},
   "source": [
    "Taking a look at our new dictionary shows that his designs are removed! We can double check this by computing length"
   ]
  },
  {
   "cell_type": "code",
   "execution_count": null,
   "id": "f3dbfac2",
   "metadata": {},
   "outputs": [],
   "source": [
    "print(len(selection))\n",
    "print(len(refined_selection))"
   ]
  },
  {
   "cell_type": "markdown",
   "id": "4fb5280a",
   "metadata": {},
   "source": [
    "Or using a conditional"
   ]
  },
  {
   "cell_type": "code",
   "execution_count": null,
   "id": "1dd7ae59",
   "metadata": {},
   "outputs": [],
   "source": [
    "'Gillis Lundgren' in refined_selection['designer']"
   ]
  },
  {
   "cell_type": "markdown",
   "id": "9def073d",
   "metadata": {},
   "source": [
    "<hr style=\"border:2px solid gray\"> </hr>\n",
    "\n",
    "### Now you try! \n",
    "\n",
    "What if the client wants to make sure the design was from a specific designer? Create a function named `select_designer` that takes input arguments `ikea_df`, `item_category`, and `designer_to_select`. Have it return a `refined_selection` that includes **only** designs from the input designer name. \n",
    "\n",
    "Use the function to print all `Cabinets & cupboards` designed in-house by `IKEA of Sweden`. "
   ]
  },
  {
   "cell_type": "code",
   "execution_count": null,
   "id": "f9e75207",
   "metadata": {},
   "outputs": [],
   "source": [
    "### BEGIN SOLUTION \n",
    "\n",
    "def find_products_select_designer(ikea_df, item_category, designer_to_select):\n",
    "    selected_category = find_products(ikea_df, item_category)\n",
    "    refined_selection = selected_category[selected_category['designer'] == designer_to_select]\n",
    "    return refined_selection\n",
    "\n",
    "find_prodcuts_select_designer(ikea, 'Cabinets & cupboards', 'IKEA of Sweden')\n",
    "\n",
    "### END SOLUTION "
   ]
  },
  {
   "cell_type": "markdown",
   "id": "0fbbfca3",
   "metadata": {},
   "source": [
    "<hr style=\"border:2px solid gray\"> </hr>\n",
    "\n",
    "Finally, we want to be able to filter by pricepoint. Our client will let us know their budget so we want to be able to filter our `refined_selection` to account for this. The input argument will be our `input_selection` which can be either the original `ikea` dataframe, one filtered for a particular product, or one filtered for a product/designer combination. It will also take `min_price` and `max_price` to define the budget range. \n",
    "\n",
    "Say the client wants to spend betwen 400-600 on cabinets designed by anyone besides Gillis Lundgren, so we can use our `refined_selection` as the `input_selection` argument. "
   ]
  },
  {
   "cell_type": "code",
   "execution_count": null,
   "id": "95e90c93",
   "metadata": {},
   "outputs": [],
   "source": [
    "def filter_pricepoint(input_selection, min_price, max_price):\n",
    "    final_selection = input_selection[(input_selection['price'] <= max_price) & \n",
    "                                      (input_selection['price'] > min_price)]\n",
    "    return final_selection\n",
    "\n",
    "final_selection = filter_pricepoint(refined_selection, 400, 600)\n",
    "final_selection"
   ]
  },
  {
   "cell_type": "markdown",
   "id": "769b81de",
   "metadata": {},
   "source": [
    "## Adding docstrings to our functions \n",
    "\n",
    "**Docstrings** are strings built into your functions that can be queried using the built in `help()` function. We can print the docstrings for one of python's built in functions, `enumerate`, like so:"
   ]
  },
  {
   "cell_type": "code",
   "execution_count": null,
   "id": "bb15f6c2",
   "metadata": {},
   "outputs": [],
   "source": [
    "help(enumerate)"
   ]
  },
  {
   "cell_type": "markdown",
   "id": "b8f6c063",
   "metadata": {},
   "source": [
    "You'll see a few key features such as a summary of the function's use case, describing the input type/description for the function to work properly, and describing the expected outputs. \n",
    "\n",
    "We can implement these docstrings in our user-defined functions as well, making sure to include the same key properties. This is done using a string in triple quotation marks `\"\"\"` in the first line of the function. Let's add docstrings to the 3 functions we made earlier. We will also add some comments within the function to indicate what is happening at each step. You don't need to comment every single line, but its a good idea to comment out blocks that accomplish certain sub-steps. "
   ]
  },
  {
   "cell_type": "code",
   "execution_count": null,
   "id": "72674fe5",
   "metadata": {},
   "outputs": [],
   "source": [
    "def find_products(ikea_df, item_category):\n",
    "    '''\n",
    "    | Help on user-defined function find_products:\n",
    "    |\n",
    "    | This function takes inputs: \n",
    "    | - ikea_df - dataframe containing ikea catalog items\n",
    "    | - item_category - string containing product types in catalog \n",
    "    | \n",
    "    | This function returns:\n",
    "    | - selected_category - a dataframe containing only catalog items that match the input product_type\n",
    "    '''\n",
    "    selected_category = ikea_df[(ikea_df['category'] == item_category)]\n",
    "    return selected_category\n",
    "\n",
    "def find_products_remove_designer(ikea_df, item_category, designer_to_exclude):\n",
    "    '''\n",
    "    | Help on user-defined function remove_designer:\n",
    "    |\n",
    "    | This function takes inputs: \n",
    "    | - ikea_df - dataframe containing ikea catalog items\n",
    "    | - item_category - string containing product types in catalog \n",
    "    | - designer_to_exclude - string containing name of designer we want to remove from selection \n",
    "    | \n",
    "    | This function returns:\n",
    "    | - selected_category - a dataframe containing only catalog items that match the input product_type\n",
    "    | AND does NOT include designer_to_exclude\n",
    "    '''\n",
    "    # first get category\n",
    "    selected_category = find_products(ikea_df, item_category)\n",
    "    # then filter to remove designer\n",
    "    refined_selection = selected_category[selected_category['designer'] != designer_to_exclude]\n",
    "    return refined_selection\n",
    "\n",
    "def filter_pricepoint(input_selection, min_price, max_price):\n",
    "    '''\n",
    "    | Help on user-defined function filter_pricepoint:\n",
    "    |\n",
    "    | This function takes inputs: \n",
    "    | - input_selection - dataframe containing ikea catalog items. can be original or filtered.\n",
    "    | - min_price - int or float indicating min budget. function will keep everything <= this value. \n",
    "    | - max_price - int or float indicating max budget. function will keep everything > this value. \n",
    "    | \n",
    "    | This function returns:\n",
    "    | - final_selection - a dataframe containing only catalog items within budget range \n",
    "    '''\n",
    "    final_selection = input_selection[(input_selection['price'] <= max_price) & \n",
    "                                      (input_selection['price'] > min_price)]\n",
    "    return final_selection"
   ]
  },
  {
   "cell_type": "code",
   "execution_count": null,
   "id": "81d3c63e",
   "metadata": {},
   "outputs": [],
   "source": [
    "help(find_products)"
   ]
  },
  {
   "cell_type": "code",
   "execution_count": null,
   "id": "a348fc6a",
   "metadata": {},
   "outputs": [],
   "source": [
    "help(find_products_remove_designer)"
   ]
  },
  {
   "cell_type": "code",
   "execution_count": null,
   "id": "924f0c80",
   "metadata": {},
   "outputs": [],
   "source": [
    "help(filter_pricepoint)"
   ]
  },
  {
   "cell_type": "markdown",
   "id": "1d2a1c7d",
   "metadata": {},
   "source": [
    "<hr style=\"border:2px solid gray\"> </hr>\n",
    "\n",
    "### Now you try! \n",
    "\n",
    "Add docstrings for the `select_designer` function you created earlier. Print the docstring using `help()`. "
   ]
  },
  {
   "cell_type": "code",
   "execution_count": null,
   "id": "1c6b030e",
   "metadata": {},
   "outputs": [],
   "source": [
    "### BEGIN SOLUTION \n",
    "\n",
    "def find_products_select_designer(ikea_df, item_category, designer_to_select):\n",
    "    '''\n",
    "    | Help on user-defined function remove_designer:\n",
    "    |\n",
    "    | This function takes inputs: \n",
    "    | - ikea_df - dataframe containing ikea catalog items\n",
    "    | - item_category - string containing product types in catalog \n",
    "    | - designer_to_select - string containing name of designer we want to remove from selection \n",
    "    | \n",
    "    | This function returns:\n",
    "    | - selected_category - a dataframe containing only catalog items that match the input product_type\n",
    "    | AND includes only designer_to_select\n",
    "    '''\n",
    "    # first get category\n",
    "    selected_category = find_products(ikea_df, item_category)\n",
    "    # then filter to remove designer\n",
    "    refined_selection = selected_category[selected_category['designer'] == designer_to_select]\n",
    "    return refined_selection\n",
    "\n",
    "help(find_products_select_designer)\n",
    "\n",
    "### END SOLUTION "
   ]
  },
  {
   "cell_type": "markdown",
   "id": "cff2e793",
   "metadata": {},
   "source": [
    "<hr style=\"border:2px solid gray\"> </hr>\n",
    "\n",
    "## Packaging a set of functions into a module\n",
    "\n",
    "A **module** is a set of definitions/functions packaged into a script that can be called into any workspace. This is simply a `.py` file that contains our function definitions. For example a module called `ikea_functions.py` could be called in using `import ikea_functions`. The syntax is the same as when we import other packages such as pandas or matplotlib. \n",
    "\n",
    "Let's create a module called `ikea_functions` that contains all the functions we defined. You can do this in a text editor where you simply name the file `ikea_functions.py` or you can use the method below to write a file directly from jupyter:"
   ]
  },
  {
   "cell_type": "code",
   "execution_count": null,
   "id": "0132b206",
   "metadata": {},
   "outputs": [],
   "source": [
    "%%writefile ikea_functions.py\n",
    "\n",
    "def find_products(ikea_df, item_category):\n",
    "    '''\n",
    "    | Help on user-defined function find_products:\n",
    "    |\n",
    "    | This function takes inputs: \n",
    "    | - ikea_df - dataframe containing ikea catalog items\n",
    "    | - item_category - string containing product types in catalog \n",
    "    | \n",
    "    | This function returns:\n",
    "    | - selected_category - a dataframe containing only catalog items that match the input product_type\n",
    "    '''\n",
    "    selected_category = ikea_df[(ikea_df['category'] == item_category)]\n",
    "    return selected_category\n",
    "\n",
    "def find_products_remove_designer(ikea_df, item_category, designer_to_exclude):\n",
    "    '''\n",
    "    | Help on user-defined function remove_designer:\n",
    "    |\n",
    "    | This function takes inputs: \n",
    "    | - ikea_df - dataframe containing ikea catalog items\n",
    "    | - item_category - string containing product types in catalog \n",
    "    | - designer_to_exclude - string containing name of designer we want to remove from selection \n",
    "    | \n",
    "    | This function returns:\n",
    "    | - selected_category - a dataframe containing only catalog items that match the input product_type\n",
    "    | AND does NOT include designer_to_exclude\n",
    "    '''\n",
    "    # first get category\n",
    "    selected_category = find_products(ikea_df, item_category)\n",
    "    # then filter to remove designer\n",
    "    refined_selection = selected_category[selected_category['designer'] != designer_to_exclude]\n",
    "    return refined_selection\n",
    "\n",
    "def filter_pricepoint(input_selection, min_price, max_price):\n",
    "    '''\n",
    "    | Help on user-defined function filter_pricepoint:\n",
    "    |\n",
    "    | This function takes inputs: \n",
    "    | - input_selection - dataframe containing ikea catalog items. can be original or filtered.\n",
    "    | - min_price - int or float indicating min budget. function will keep everything <= this value. \n",
    "    | - max_price - int or float indicating max budget. function will keep everything > this value. \n",
    "    | \n",
    "    | This function returns:\n",
    "    | - final_selection - a dataframe containing only catalog items within budget range \n",
    "    '''\n",
    "    final_selection = input_selection[(input_selection['price'] <= max_price) & \n",
    "                                      (input_selection['price'] > min_price)]\n",
    "    return final_selection"
   ]
  },
  {
   "cell_type": "markdown",
   "id": "3bfa0ea8",
   "metadata": {},
   "source": [
    "Let's clear our variable space, import our module using `import ikea_functions` & re-load our ikea file to test this. "
   ]
  },
  {
   "cell_type": "code",
   "execution_count": null,
   "id": "347ba3c6",
   "metadata": {},
   "outputs": [],
   "source": [
    "# reset variables space \n",
    "# run this then type 'y' when prompted\n",
    "%reset"
   ]
  },
  {
   "cell_type": "markdown",
   "id": "73078e56",
   "metadata": {},
   "source": [
    "Make sure our functions are gone"
   ]
  },
  {
   "cell_type": "code",
   "execution_count": null,
   "id": "34394ccc",
   "metadata": {},
   "outputs": [],
   "source": [
    "help(find_prodcuts)"
   ]
  },
  {
   "cell_type": "code",
   "execution_count": null,
   "id": "522b3770",
   "metadata": {},
   "outputs": [],
   "source": [
    "# read data in \n",
    "import pandas as pd \n",
    "ikea = pd.read_csv('ikea_shuffled.csv', nrows = 200)\n",
    "ikea.drop(columns = 'Unnamed: 0', inplace = True)\n",
    "\n",
    "import ikea_functions\n",
    "\n",
    "# and use dir to print all functions within the module \n",
    "dir(ikea_functions)"
   ]
  },
  {
   "cell_type": "markdown",
   "id": "2927cad2",
   "metadata": {},
   "source": [
    "You see above that our four functions are listed within the new `ikea_functions` we imported! We can access a particular function using dot notation like this: "
   ]
  },
  {
   "cell_type": "code",
   "execution_count": null,
   "id": "e305d71b",
   "metadata": {},
   "outputs": [],
   "source": [
    "ikea_functions.find_products(ikea, 'Beds').head()"
   ]
  },
  {
   "cell_type": "markdown",
   "id": "94b4f12f",
   "metadata": {},
   "source": [
    "We could also import only a single function from the module & use it, like so: "
   ]
  },
  {
   "cell_type": "code",
   "execution_count": null,
   "id": "5c1fcf89",
   "metadata": {},
   "outputs": [],
   "source": [
    "from ikea_functions import find_products\n",
    "\n",
    "find_products(ikea, 'Beds').head()"
   ]
  },
  {
   "cell_type": "markdown",
   "id": "3b0d1389",
   "metadata": {},
   "source": [
    "See that our docstrings can be printed too! "
   ]
  },
  {
   "cell_type": "code",
   "execution_count": null,
   "id": "38360e8f",
   "metadata": {},
   "outputs": [],
   "source": [
    "help(ikea_functions.find_products_remove_designer)"
   ]
  },
  {
   "cell_type": "markdown",
   "id": "88e6439e",
   "metadata": {},
   "source": [
    "Importing a module is a lot less cumbersome than redefining the function in every script you want to use it. This makes it easy to re-use functions in multiple scripts. If you make a change to a function in the module, it will carry through to every usage of the function thereafter, whereas if you were to have the function defined in multiple scripts it is likely you will forget to change every instance and the \"same\" function will behave differently in multiple scripts. \n",
    "\n",
    "It also makes it more easily shareable, as you can simply send one .py file to a colleage and they can import the functions you made. This way they will not have to hard code them themselves or copy/paste from a different script. The use of docstrings in your module functions allows you or a colleague to easily access documentation so you don't need to re-inspect the entire funtion to remember inputs, formats, etc. "
   ]
  },
  {
   "cell_type": "markdown",
   "id": "7763478f",
   "metadata": {},
   "source": [
    "<hr style=\"border:2px solid gray\"> </hr>\n",
    "\n",
    "### Now you try! \n",
    "\n",
    "Use the `find_products_remove_designer` function from our module (by importing the function directly or using dot notation) and find all 'Beds' NOT designed by 'IKEA of Sweden'"
   ]
  },
  {
   "cell_type": "code",
   "execution_count": null,
   "id": "48305adf",
   "metadata": {},
   "outputs": [],
   "source": [
    "### BEGIN SOLUTION \n",
    "\n",
    "ikea_functions.find_products_remove_designer(ikea, 'Beds', 'IKEA of Sweden').head()\n",
    "\n",
    "### END SOLUTION"
   ]
  },
  {
   "cell_type": "markdown",
   "id": "525e4ff9",
   "metadata": {},
   "source": [
    "<hr style=\"border:2px solid gray\"> </hr>\n",
    "\n",
    "# Practice on your own \n",
    "\n",
    "In this practice section you will be working with video game data from IGN, a video game website, found [here](https://github.com/erilyth/DeepLearning-Challenges/blob/master/Sentiment_Analysis/ign.csv). \n",
    "\n",
    "Load in the first 500 rows of `ign.csv` like so:"
   ]
  },
  {
   "cell_type": "code",
   "execution_count": null,
   "id": "0129e5a8",
   "metadata": {},
   "outputs": [],
   "source": [
    "### DO NOT INCLUDE \n",
    "import pandas as pd\n",
    "ign = pd.read_csv('ign.csv', nrows = 500)\n",
    "ign.drop(columns = 'Unnamed: 0', inplace = True)\n",
    "ign.head()\n",
    "ign_genres = ign['genre'].str.split(',', expand=True)\n",
    "ign_genres.rename(columns = {0: 'primary_genre', 1: 'secondary_genre'}, inplace = True)\n",
    "ign.drop(columns = 'genre', inplace = True)\n",
    "ign = pd.merge(ign, ign_genres, left_index=True, right_index=True)\n",
    "ign.to_csv('ign_edit.csv')"
   ]
  },
  {
   "cell_type": "code",
   "execution_count": 1,
   "id": "d662d51e",
   "metadata": {},
   "outputs": [
    {
     "data": {
      "text/html": [
       "<div>\n",
       "<style scoped>\n",
       "    .dataframe tbody tr th:only-of-type {\n",
       "        vertical-align: middle;\n",
       "    }\n",
       "\n",
       "    .dataframe tbody tr th {\n",
       "        vertical-align: top;\n",
       "    }\n",
       "\n",
       "    .dataframe thead th {\n",
       "        text-align: right;\n",
       "    }\n",
       "</style>\n",
       "<table border=\"1\" class=\"dataframe\">\n",
       "  <thead>\n",
       "    <tr style=\"text-align: right;\">\n",
       "      <th></th>\n",
       "      <th>score_phrase</th>\n",
       "      <th>title</th>\n",
       "      <th>url</th>\n",
       "      <th>platform</th>\n",
       "      <th>score</th>\n",
       "      <th>editors_choice</th>\n",
       "      <th>release_year</th>\n",
       "      <th>release_month</th>\n",
       "      <th>release_day</th>\n",
       "      <th>primary_genre</th>\n",
       "      <th>secondary_genre</th>\n",
       "    </tr>\n",
       "  </thead>\n",
       "  <tbody>\n",
       "    <tr>\n",
       "      <th>0</th>\n",
       "      <td>Amazing</td>\n",
       "      <td>LittleBigPlanet PS Vita</td>\n",
       "      <td>/games/littlebigplanet-vita/vita-98907</td>\n",
       "      <td>PlayStation Vita</td>\n",
       "      <td>9.0</td>\n",
       "      <td>Y</td>\n",
       "      <td>2012</td>\n",
       "      <td>9</td>\n",
       "      <td>12</td>\n",
       "      <td>Platformer</td>\n",
       "      <td>NaN</td>\n",
       "    </tr>\n",
       "    <tr>\n",
       "      <th>1</th>\n",
       "      <td>Amazing</td>\n",
       "      <td>LittleBigPlanet PS Vita -- Marvel Super Hero E...</td>\n",
       "      <td>/games/littlebigplanet-ps-vita-marvel-super-he...</td>\n",
       "      <td>PlayStation Vita</td>\n",
       "      <td>9.0</td>\n",
       "      <td>Y</td>\n",
       "      <td>2012</td>\n",
       "      <td>9</td>\n",
       "      <td>12</td>\n",
       "      <td>Platformer</td>\n",
       "      <td>NaN</td>\n",
       "    </tr>\n",
       "    <tr>\n",
       "      <th>2</th>\n",
       "      <td>Great</td>\n",
       "      <td>Splice: Tree of Life</td>\n",
       "      <td>/games/splice/ipad-141070</td>\n",
       "      <td>iPad</td>\n",
       "      <td>8.5</td>\n",
       "      <td>N</td>\n",
       "      <td>2012</td>\n",
       "      <td>9</td>\n",
       "      <td>12</td>\n",
       "      <td>Puzzle</td>\n",
       "      <td>NaN</td>\n",
       "    </tr>\n",
       "    <tr>\n",
       "      <th>3</th>\n",
       "      <td>Great</td>\n",
       "      <td>NHL 13</td>\n",
       "      <td>/games/nhl-13/xbox-360-128182</td>\n",
       "      <td>Xbox 360</td>\n",
       "      <td>8.5</td>\n",
       "      <td>N</td>\n",
       "      <td>2012</td>\n",
       "      <td>9</td>\n",
       "      <td>11</td>\n",
       "      <td>Sports</td>\n",
       "      <td>NaN</td>\n",
       "    </tr>\n",
       "    <tr>\n",
       "      <th>4</th>\n",
       "      <td>Great</td>\n",
       "      <td>NHL 13</td>\n",
       "      <td>/games/nhl-13/ps3-128181</td>\n",
       "      <td>PlayStation 3</td>\n",
       "      <td>8.5</td>\n",
       "      <td>N</td>\n",
       "      <td>2012</td>\n",
       "      <td>9</td>\n",
       "      <td>11</td>\n",
       "      <td>Sports</td>\n",
       "      <td>NaN</td>\n",
       "    </tr>\n",
       "  </tbody>\n",
       "</table>\n",
       "</div>"
      ],
      "text/plain": [
       "  score_phrase                                              title  \\\n",
       "0      Amazing                            LittleBigPlanet PS Vita   \n",
       "1      Amazing  LittleBigPlanet PS Vita -- Marvel Super Hero E...   \n",
       "2        Great                               Splice: Tree of Life   \n",
       "3        Great                                             NHL 13   \n",
       "4        Great                                             NHL 13   \n",
       "\n",
       "                                                 url          platform  score  \\\n",
       "0             /games/littlebigplanet-vita/vita-98907  PlayStation Vita    9.0   \n",
       "1  /games/littlebigplanet-ps-vita-marvel-super-he...  PlayStation Vita    9.0   \n",
       "2                          /games/splice/ipad-141070              iPad    8.5   \n",
       "3                      /games/nhl-13/xbox-360-128182          Xbox 360    8.5   \n",
       "4                           /games/nhl-13/ps3-128181     PlayStation 3    8.5   \n",
       "\n",
       "  editors_choice  release_year  release_month  release_day primary_genre  \\\n",
       "0              Y          2012              9           12    Platformer   \n",
       "1              Y          2012              9           12    Platformer   \n",
       "2              N          2012              9           12        Puzzle   \n",
       "3              N          2012              9           11        Sports   \n",
       "4              N          2012              9           11        Sports   \n",
       "\n",
       "  secondary_genre  \n",
       "0             NaN  \n",
       "1             NaN  \n",
       "2             NaN  \n",
       "3             NaN  \n",
       "4             NaN  "
      ]
     },
     "execution_count": 1,
     "metadata": {},
     "output_type": "execute_result"
    }
   ],
   "source": [
    "import pandas as pd\n",
    "ign = pd.read_csv('ign_edit.csv', nrows = 500)\n",
    "ign.drop(columns = 'Unnamed: 0', inplace = True)\n",
    "ign.head()"
   ]
  },
  {
   "cell_type": "markdown",
   "id": "66f8a91f",
   "metadata": {},
   "source": [
    "#### Exercise 1. Create a function called `get_platform` that returns a dataframe containing only data from the platform listed in the input argument (iPad, Xbox 360, Playstation Vita, ...). Use this function to create a dataframe of games for the PlayStation Vita. Add useful docstrings to the function. \n",
    "\n",
    "#### Use this function to create a dataframe named `ps_vita` that contains all the games released on the 'Playstation Vita'. "
   ]
  },
  {
   "cell_type": "code",
   "execution_count": 2,
   "id": "05770d2a",
   "metadata": {},
   "outputs": [
    {
     "data": {
      "text/html": [
       "<div>\n",
       "<style scoped>\n",
       "    .dataframe tbody tr th:only-of-type {\n",
       "        vertical-align: middle;\n",
       "    }\n",
       "\n",
       "    .dataframe tbody tr th {\n",
       "        vertical-align: top;\n",
       "    }\n",
       "\n",
       "    .dataframe thead th {\n",
       "        text-align: right;\n",
       "    }\n",
       "</style>\n",
       "<table border=\"1\" class=\"dataframe\">\n",
       "  <thead>\n",
       "    <tr style=\"text-align: right;\">\n",
       "      <th></th>\n",
       "      <th>score_phrase</th>\n",
       "      <th>title</th>\n",
       "      <th>url</th>\n",
       "      <th>platform</th>\n",
       "      <th>score</th>\n",
       "      <th>editors_choice</th>\n",
       "      <th>release_year</th>\n",
       "      <th>release_month</th>\n",
       "      <th>release_day</th>\n",
       "      <th>primary_genre</th>\n",
       "      <th>secondary_genre</th>\n",
       "    </tr>\n",
       "  </thead>\n",
       "  <tbody>\n",
       "    <tr>\n",
       "      <th>0</th>\n",
       "      <td>Amazing</td>\n",
       "      <td>LittleBigPlanet PS Vita</td>\n",
       "      <td>/games/littlebigplanet-vita/vita-98907</td>\n",
       "      <td>PlayStation Vita</td>\n",
       "      <td>9.0</td>\n",
       "      <td>Y</td>\n",
       "      <td>2012</td>\n",
       "      <td>9</td>\n",
       "      <td>12</td>\n",
       "      <td>Platformer</td>\n",
       "      <td>NaN</td>\n",
       "    </tr>\n",
       "    <tr>\n",
       "      <th>1</th>\n",
       "      <td>Amazing</td>\n",
       "      <td>LittleBigPlanet PS Vita -- Marvel Super Hero E...</td>\n",
       "      <td>/games/littlebigplanet-ps-vita-marvel-super-he...</td>\n",
       "      <td>PlayStation Vita</td>\n",
       "      <td>9.0</td>\n",
       "      <td>Y</td>\n",
       "      <td>2012</td>\n",
       "      <td>9</td>\n",
       "      <td>12</td>\n",
       "      <td>Platformer</td>\n",
       "      <td>NaN</td>\n",
       "    </tr>\n",
       "    <tr>\n",
       "      <th>56</th>\n",
       "      <td>Okay</td>\n",
       "      <td>Madden NFL 13</td>\n",
       "      <td>/games/madden-nfl-2013/vita-128100</td>\n",
       "      <td>PlayStation Vita</td>\n",
       "      <td>6.0</td>\n",
       "      <td>N</td>\n",
       "      <td>2012</td>\n",
       "      <td>8</td>\n",
       "      <td>24</td>\n",
       "      <td>Sports</td>\n",
       "      <td>NaN</td>\n",
       "    </tr>\n",
       "    <tr>\n",
       "      <th>88</th>\n",
       "      <td>Bad</td>\n",
       "      <td>FIFA Soccer 13</td>\n",
       "      <td>/games/fifa-2013/vita-115689</td>\n",
       "      <td>PlayStation Vita</td>\n",
       "      <td>4.0</td>\n",
       "      <td>N</td>\n",
       "      <td>2012</td>\n",
       "      <td>10</td>\n",
       "      <td>12</td>\n",
       "      <td>Sports</td>\n",
       "      <td>NaN</td>\n",
       "    </tr>\n",
       "    <tr>\n",
       "      <th>91</th>\n",
       "      <td>Mediocre</td>\n",
       "      <td>New Little King's Story</td>\n",
       "      <td>/games/new-kings-story/vita-116369</td>\n",
       "      <td>PlayStation Vita</td>\n",
       "      <td>5.8</td>\n",
       "      <td>N</td>\n",
       "      <td>2012</td>\n",
       "      <td>10</td>\n",
       "      <td>11</td>\n",
       "      <td>RPG</td>\n",
       "      <td>NaN</td>\n",
       "    </tr>\n",
       "  </tbody>\n",
       "</table>\n",
       "</div>"
      ],
      "text/plain": [
       "   score_phrase                                              title  \\\n",
       "0       Amazing                            LittleBigPlanet PS Vita   \n",
       "1       Amazing  LittleBigPlanet PS Vita -- Marvel Super Hero E...   \n",
       "56         Okay                                      Madden NFL 13   \n",
       "88          Bad                                     FIFA Soccer 13   \n",
       "91     Mediocre                            New Little King's Story   \n",
       "\n",
       "                                                  url          platform  \\\n",
       "0              /games/littlebigplanet-vita/vita-98907  PlayStation Vita   \n",
       "1   /games/littlebigplanet-ps-vita-marvel-super-he...  PlayStation Vita   \n",
       "56                 /games/madden-nfl-2013/vita-128100  PlayStation Vita   \n",
       "88                       /games/fifa-2013/vita-115689  PlayStation Vita   \n",
       "91                 /games/new-kings-story/vita-116369  PlayStation Vita   \n",
       "\n",
       "    score editors_choice  release_year  release_month  release_day  \\\n",
       "0     9.0              Y          2012              9           12   \n",
       "1     9.0              Y          2012              9           12   \n",
       "56    6.0              N          2012              8           24   \n",
       "88    4.0              N          2012             10           12   \n",
       "91    5.8              N          2012             10           11   \n",
       "\n",
       "   primary_genre secondary_genre  \n",
       "0     Platformer             NaN  \n",
       "1     Platformer             NaN  \n",
       "56        Sports             NaN  \n",
       "88        Sports             NaN  \n",
       "91           RPG             NaN  "
      ]
     },
     "execution_count": 2,
     "metadata": {},
     "output_type": "execute_result"
    }
   ],
   "source": [
    "### BEGIN SOLUTION \n",
    "\n",
    "def get_platform(games_df, target_platform):\n",
    "    \"\"\"\n",
    "    | Help on user-defined function get_platform:\n",
    "    |\n",
    "    | This function works on the ign dataframe & takes inputs: \n",
    "    | - games_df - dataframe of ign games \n",
    "    | - target_platform - a string naming the gaming platform the games were released on \n",
    "    |\n",
    "    | This function returns:\n",
    "    | - platform_only - a dataframe containing only games released on the input target_platform\n",
    "    \"\"\"\n",
    "    platform_only = games_df[games_df['platform'] == target_platform]\n",
    "    return platform_only\n",
    "\n",
    "ps_vita = get_platform(ign, 'PlayStation Vita')\n",
    "ps_vita.head()\n",
    "\n",
    "### END SOLUTION "
   ]
  },
  {
   "cell_type": "markdown",
   "id": "0152734a",
   "metadata": {},
   "source": [
    "#### Exercise 2. Create a function named `bar_plot_genres` that makes a bar plot out of the `genre` column for the data for a certain target platform. The function should take `target_platform` as an input argument, and return a bar plot where each bar measures the number of games in each category. You will need to create and add a new column, `primary_genre`, to the dataframe, which contains either the only genre listed or only the primary (first) one listed for each game. You do not need to return the altered dataframe. \n",
    "\n",
    "#### Add meaningful comments to the blocks of code within your function & add descriptive docstrings. \n",
    "\n",
    "#### Finally, use this function to plot the genres of PlayStation Vita games. "
   ]
  },
  {
   "cell_type": "code",
   "execution_count": 4,
   "id": "7f9f83de",
   "metadata": {},
   "outputs": [
    {
     "data": {
      "image/png": "[encoded data removed]",
      "text/plain": [
       "<Figure size 432x288 with 1 Axes>"
      ]
     },
     "metadata": {
      "needs_background": "light"
     },
     "output_type": "display_data"
    }
   ],
   "source": [
    "### BEGIN SOLUTION \n",
    "\n",
    "def bar_plot_genres(games_df, target_platform):\n",
    "    \"\"\"\n",
    "    | Help on user-defined function bar_plot_genres:\n",
    "    |\n",
    "    | This function creates a bar plot of primary genres for games of a certain platform. \n",
    "    |\n",
    "    | Takes the following inputs: \n",
    "    | - games_df - dataframe of ign games \n",
    "    | - target_platform - a string naming the gaming platform the games were released on\n",
    "    |\n",
    "    | This function returns:\n",
    "    | - bar plot showing count of each primary genre for that gaming platform \n",
    "    \"\"\"\n",
    "    # get games from this platform \n",
    "    this_platform = get_platform(games_df, target_platform)\n",
    "    # plot primary genre\n",
    "    this_platform.primary_genre.value_counts().plot.bar(title = 'Genres of all ' + target_platform + ' games')\n",
    "\n",
    "bar_plot_genres(ign, 'PlayStation Vita')\n",
    "\n",
    "### END SOLUTION "
   ]
  },
  {
   "cell_type": "markdown",
   "id": "696be622",
   "metadata": {},
   "source": [
    "#### Exercise 3. Say you have found an old module in your code base, and you don't remember the details of what each function does. Using `get_platform` function you just made, demonstrate how would you go about accessing the documentation for a forgotten function. "
   ]
  },
  {
   "cell_type": "code",
   "execution_count": 5,
   "id": "d4a780e6",
   "metadata": {},
   "outputs": [
    {
     "name": "stdout",
     "output_type": "stream",
     "text": [
      "Help on function get_platform in module __main__:\n",
      "\n",
      "get_platform(games_df, target_platform)\n",
      "    | Help on user-defined function get_platform:\n",
      "    |\n",
      "    | This function works on the ign dataframe & takes inputs: \n",
      "    | - games_df - dataframe of ign games \n",
      "    | - target_platform - a string naming the gaming platform the games were released on \n",
      "    |\n",
      "    | This function returns:\n",
      "    | - platform_only - a dataframe containing only games released on the input target_platform\n",
      "\n"
     ]
    }
   ],
   "source": [
    "help(get_platform)"
   ]
  },
  {
   "cell_type": "markdown",
   "id": "0be1d593",
   "metadata": {},
   "source": [
    "#### Exercise 4. Create a module that packages together your `get_platform` and `bar_plot_genres` functions, named `ign_functions.py`. You can either use a text editor to create a .py file, or write the file directly from Jupyter Notebook. "
   ]
  },
  {
   "cell_type": "code",
   "execution_count": null,
   "id": "59228910",
   "metadata": {},
   "outputs": [],
   "source": [
    "### BEGIN SOLUTION \n",
    "\n",
    "%%writefile ign_functions.py # will not work if after commented line, line magic must be ONLY thing in cell\n",
    "\n",
    "def get_platform(games_df, target_platform):\n",
    "    \"\"\"\n",
    "    | Help on user-defined function get_platform:\n",
    "    |\n",
    "    | This function works on the ign dataframe & takes inputs: \n",
    "    | - games_df - dataframe of ign games \n",
    "    | - target_platform - a string naming the gaming platform the games were released on \n",
    "    |\n",
    "    | This function returns:\n",
    "    | - platform_only - a dataframe containing only games released on the input target_platform\n",
    "    \"\"\"\n",
    "    platform_only = games_df[games_df['platform'] == target_platform]\n",
    "    return platform_only\n",
    "\n",
    "def bar_plot_genres(games_df, target_platform):\n",
    "    \"\"\"\n",
    "    | Help on user-defined function bar_plot_genres:\n",
    "    |\n",
    "    | This function creates a bar plot of primary genres for games of a certain platform. \n",
    "    |\n",
    "    | Takes the following inputs: \n",
    "    | - games_df - dataframe of ign games \n",
    "    | - target_platform - a string naming the gaming platform the games were released on\n",
    "    |\n",
    "    | This function returns:\n",
    "    | - bar plot showing count of each primary genre for that gaming platform \n",
    "    \"\"\"\n",
    "    # get games from this platform \n",
    "    this_platform = get_platform(games_df, target_platform)\n",
    "    # plot primary genre\n",
    "    this_platform.primary_genre.value_counts().plot.bar(title = 'Genres of all ' + target_platform + ' games')\n",
    "    \n",
    "### END SOLUTION \n"
   ]
  },
  {
   "cell_type": "markdown",
   "id": "3e721236",
   "metadata": {},
   "source": [
    "#### Exercise 5. Read in the functions from your new `ign_functions` module & print the docstrings for each. Use the appropriate function in the module to create a bar plot of genres of Nintendo DS games. "
   ]
  },
  {
   "cell_type": "code",
   "execution_count": 6,
   "id": "f51bcb4a",
   "metadata": {},
   "outputs": [
    {
     "name": "stdout",
     "output_type": "stream",
     "text": [
      "Help on function get_platform in module ign_functions:\n",
      "\n",
      "get_platform(games_df, target_platform)\n",
      "    | Help on user-defined function get_platform:\n",
      "    |\n",
      "    | This function works on the ign dataframe & takes inputs: \n",
      "    | - games_df - dataframe of ign games \n",
      "    | - target_platform - a string naming the gaming platform the games were released on \n",
      "    |\n",
      "    | This function returns:\n",
      "    | - platform_only - a dataframe containing only games released on the input target_platform\n",
      "\n",
      "Help on function bar_plot_genres in module ign_functions:\n",
      "\n",
      "bar_plot_genres(games_df, target_platform)\n",
      "    | Help on user-defined function bar_plot_genres:\n",
      "    |\n",
      "    | This function creates a bar plot of primary genres for games of a certain platform. \n",
      "    |\n",
      "    | Takes the following inputs: \n",
      "    | - games_df - dataframe of ign games \n",
      "    | - target_platform - a string naming the gaming platform the games were released on\n",
      "    |\n",
      "    | This function returns:\n",
      "    | - bar plot showing count of each primary genre for that gaming platform\n",
      "\n"
     ]
    },
    {
     "data": {
      "image/png": "[encoded data removed]",
      "text/plain": [
       "<Figure size 432x288 with 1 Axes>"
      ]
     },
     "metadata": {
      "needs_background": "light"
     },
     "output_type": "display_data"
    }
   ],
   "source": [
    "### BEGIN SOLUTION \n",
    "\n",
    "import ign_functions\n",
    "\n",
    "help(ign_functions.get_platform)\n",
    "help(ign_functions.bar_plot_genres)\n",
    "\n",
    "ign_functions.bar_plot_genres(ign, 'iPad')\n",
    "\n",
    "### END SOLUTION "
   ]
  }
 ],
 "metadata": {
  "kernelspec": {
   "display_name": "Python 3",
   "language": "python",
   "name": "python3"
  },
  "language_info": {
   "codemirror_mode": {
    "name": "ipython",
    "version": 3
   },
   "file_extension": ".py",
   "mimetype": "text/x-python",
   "name": "python",
   "nbconvert_exporter": "python",
   "pygments_lexer": "ipython3",
   "version": "3.8.8"
  }
 },
 "nbformat": 4,
 "nbformat_minor": 5
}
