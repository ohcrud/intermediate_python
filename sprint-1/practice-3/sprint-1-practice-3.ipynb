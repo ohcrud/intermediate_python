{
 "cells": [
  {
   "cell_type": "markdown",
   "id": "788dd8ff",
   "metadata": {},
   "source": [
    "# Packaging & sharing functions \n",
    "\n",
    "So you've created several functions to help you complete analysis on a dataset. But you know that you'll need to use these functions again in the future, and you know the work you've done will be helpful to other colleagues doing similar work. How can you package your functions up in a way that they 'stand alone'? We want them to be easily shareable, readable, and well commented so that any user can utilize them (including you, months from now when you've forgotten the details of the project). We can do this by utilizing **self documentation** in our code base! \n",
    "\n",
    "[This](https://realpython.com/documenting-python-code/) is a great article that goes into detail on the importance of documentation & different methods. We will go over some key strategies in this practice. \n",
    "\n",
    "Let's bring in some data, create some functions, and document & package them up. \n",
    "\n",
    "## Loading in our dataset \n",
    "\n",
    "We will read in `ikea.pkl`, which is a **dictionary** containing furniture item available at IKEA & corresponding attributes, edited & reformatted from [this source](https://www.kaggle.com/datasets/ahmedkallam/ikea-sa-furniture-web-scraping?resource=download).  \n",
    "\n",
    "Recall that a dictionary is a combination of key:value pairs. In this case our \"key\" is the name of each furniture item, and the \"value\" is a list containing a few attributes. The attributes are given in the following order: `'category', 'price', 'designer'`.\n",
    "\n",
    "Note that this is a .pkl file, or a **pickle** file, which allows us to save python data objects in their original formats (e.g. for example you could save a pandas dataframe as is, instead of having to convert it to a csv). To do so you need to import the `pickle` module, and read the data in with the following syntax: \n",
    "\n",
    "    ikea = pickle.load(open('ikea.pkl', \"rb\"))\n",
    "\n",
    "Where `ikea.pkl` is the file name, and `\"rb\"` indicates that we are reading a file from binary. \n",
    "\n",
    "Let's read in `ikea.pkl` and save it to a variable named `ikea_dict`, then take a peek at the contents."
   ]
  },
  {
   "cell_type": "code",
   "execution_count": null,
   "id": "a1c71e03",
   "metadata": {},
   "outputs": [],
   "source": [
    "# read data in \n",
    "import pickle\n",
    "ikea_dict = pickle.load(open('ikea.pkl', \"rb\"))\n",
    "\n",
    "# print \n",
    "ikea_dict"
   ]
  },
  {
   "cell_type": "markdown",
   "id": "ffc73b29",
   "metadata": {},
   "source": [
    "We *cannot* use an index to call a particular item! A dictionary is inherently *un-ordered*. \n",
    "\n",
    "We can create a list of all the product names, the \"keys\", like so, so we have a list of items we may want to query. "
   ]
  },
  {
   "cell_type": "code",
   "execution_count": null,
   "id": "d31dcade",
   "metadata": {},
   "outputs": [],
   "source": [
    "ikea_names = list(ikea_dict.keys())\n",
    "\n",
    "#print first 10 keys \n",
    "print(ikea_names[:10])\n",
    "\n",
    "# use a key to get its value \n",
    "ikea_dict['PLATSA']"
   ]
  },
  {
   "cell_type": "markdown",
   "id": "b4289835",
   "metadata": {},
   "source": [
    "## Creating a set of functions to work with our data\n",
    "\n",
    "Say we are working for an interior design firm and our client has requested we select cabinets for an upcoming remodeling project. \n",
    "\n",
    "Let's create a function we can use to isolate all items in our dictionary which are of the category 'Cabinets & cupboards'. Since the list attributes are given in order `['category', 'price', 'designer']`, we would want to use the first (0th) item of the list to help us filter. \n",
    "\n",
    "The following `find_items` function will help us navigate our dictionary given the input arguments `ikea_dict`, which is our dictionary, and `item_category`, which is the type of furniture we want to filter for. The goal is to return a list of IKEA product names that we can return to our client. We will accomplish this with a few steps: \n",
    "\n",
    "1. Create two empty lists we can fill with keys & values of items that meet our conditions \n",
    "2. Iterate through each key in `ikea_dict` to & finding the corresponding values \n",
    "3. Checking if 'Cabinets & cupboards' is in the first value which contains the category \n",
    "4. If true then append this to our `selected_keys` list & `selected_vals` list \n",
    "5. Use `zip` to combine the two lists & use `dict` to convert them (full explanation [here](https://appdividend.com/2022/03/10/python-zip-dictionary/). "
   ]
  },
  {
   "cell_type": "code",
   "execution_count": null,
   "id": "74122274",
   "metadata": {},
   "outputs": [],
   "source": [
    "def find_products(catalog, product_type):\n",
    "    selected_keys = []\n",
    "    selected_vals = []\n",
    "    for key in catalog:\n",
    "        val = catalog[key]\n",
    "        if product_type in val[0]:\n",
    "            selected_keys.append(key)\n",
    "            selected_vals.append(val)\n",
    "    new_dict = dict(zip(selected_keys, selected_vals))\n",
    "    return new_dict"
   ]
  },
  {
   "cell_type": "code",
   "execution_count": null,
   "id": "cd3c0d7f",
   "metadata": {},
   "outputs": [],
   "source": [
    "# use our function to find all keys whose values contain 'Cabinets & cupboards'\n",
    "selection = find_products(ikea_dict, 'Cabinets & cupboards')\n",
    "selection"
   ]
  },
  {
   "cell_type": "markdown",
   "id": "d8ca7ecc",
   "metadata": {},
   "source": [
    "Now we have a dictionary of potential cabinets that fit our specifications! However, due to a dispute between the client and the Löwenhielm family, the client has requested that we not include any of Eva Lilja Löwenhielm's designs.  \n",
    "\n",
    "Let's use this information to narrow down our list. \n",
    "\n",
    "We don't want to modify our original funciton since we want to be able to use it for other queries, so let's nest it within a new function named `remove_designer`. We will use **dictionary comprehension** (which uses a very similar syntax to list comprehension) to keep all items in the new dictionary that do **not** contain Eva Lilja Löwenhielm's designs. "
   ]
  },
  {
   "cell_type": "code",
   "execution_count": null,
   "id": "97a5dc8a",
   "metadata": {},
   "outputs": [],
   "source": [
    "def remove_designer(catalog, product_type, designer_to_exclude):\n",
    "    selection = find_products(catalog, product_type)\n",
    "    refined_selection = {key: val for key, val in selection.items() if designer_to_exclude not in val}\n",
    "    return refined_selection"
   ]
  },
  {
   "cell_type": "code",
   "execution_count": null,
   "id": "58f62b28",
   "metadata": {},
   "outputs": [],
   "source": [
    "refined_selection = remove_designer(ikea_dict, 'Cabinets & cupboards', 'Eva Lilja Löwenhielm')\n",
    "refined_selection"
   ]
  },
  {
   "cell_type": "markdown",
   "id": "fc950495",
   "metadata": {},
   "source": [
    "Taking a look at our new dictionary shows that her designs are removed! We can double check this by computing length and making sure those two entries are gone. "
   ]
  },
  {
   "cell_type": "code",
   "execution_count": null,
   "id": "4e6f80eb",
   "metadata": {},
   "outputs": [],
   "source": [
    "print(len(selection))\n",
    "print(len(refined_selection))"
   ]
  },
  {
   "cell_type": "markdown",
   "id": "ab03a353",
   "metadata": {},
   "source": [
    "<hr style=\"border:2px solid gray\"> </hr>\n",
    "\n",
    "### Now you try! \n",
    "\n",
    "What if the client wants to make sure the design was from a specific designer? Create a function named `select_designer` that takes input arguments `catalog`, `product_type`, and `designer_to_select`. Have it return a `refined_selection` that includes **only** designs from the input designer name. \n",
    "\n",
    "Use the function to print all `Cabinets & cupboards` designed in-house by `IKEA of Sweden`. "
   ]
  },
  {
   "cell_type": "code",
   "execution_count": null,
   "id": "80449a36",
   "metadata": {},
   "outputs": [],
   "source": [
    "### BEGIN SOLUTION \n",
    "\n",
    "def select_designer(catalog, product_type, designer_to_select):\n",
    "    selection = find_products(catalog, product_type)\n",
    "    refined_selection = {key: val for key, val in selection.items() if designer_to_select in val}\n",
    "    return refined_selection\n",
    "\n",
    "select_designer(ikea_dict, 'Cabinets & cupboards', 'IKEA of Sweden')\n",
    "\n",
    "### END SOLUTION "
   ]
  },
  {
   "cell_type": "markdown",
   "id": "9369aef1",
   "metadata": {},
   "source": [
    "<hr style=\"border:2px solid gray\"> </hr>\n",
    "\n",
    "Finally, we want to be able to filter by pricepoint. Our client will let us know their budget so we want to be able to filter our `refined_selection` to account for this. We use a for loop to pass through each key in our list of keys, then use a conditional to see if the second value in the list (the price) is within the client's budget. If it is, add that to our `refined_selection` dictionary to be returned. "
   ]
  },
  {
   "cell_type": "code",
   "execution_count": null,
   "id": "7e5e7858",
   "metadata": {},
   "outputs": [],
   "source": [
    "def filter_pricepoint(input_selection, max_price):\n",
    "    final_selection_keys = []\n",
    "    final_selection_vals = []\n",
    "    for key in list(input_selection.keys()):\n",
    "        val = input_selection[key]\n",
    "        if val[1] < max_price:\n",
    "            final_selection_keys.append(key)           \n",
    "            final_selection_vals.append(val)\n",
    "    final_selection = dict(zip(final_selection_keys, final_selection_vals))\n",
    "    return final_selection\n",
    "\n",
    "final_selection = filter_pricepoint(refined_selection, max_price = 600)\n",
    "final_selection"
   ]
  },
  {
   "cell_type": "markdown",
   "id": "1de08f6d",
   "metadata": {},
   "source": [
    "## Adding docstrings to our functions \n",
    "\n",
    "**Docstrings** are strings built into your functions that can be queried using the built in `help()` function. We can print the docstrings for one of python's built in functions, `enumerate`, like so:"
   ]
  },
  {
   "cell_type": "code",
   "execution_count": null,
   "id": "5e52143d",
   "metadata": {},
   "outputs": [],
   "source": [
    "help(enumerate)"
   ]
  },
  {
   "cell_type": "markdown",
   "id": "02fd0e02",
   "metadata": {},
   "source": [
    "You'll see a few key features such as a summary of the function's use case, describing the input type/description for the function to work properly, and describing the expected outputs. \n",
    "\n",
    "We can implement these docstrings in our user-defined functions as well, making sure to include the same key properties. This is done using a string in triple quotation marks `\"\"\"` in the first line of the function. Let's add docstrings to the 3 functions we made earlier. We will also add some comments within the function to indicate what is happening at each step. You don't need to comment every single line, but its a good idea to comment out blocks that accomplish certain sub-steps. "
   ]
  },
  {
   "cell_type": "code",
   "execution_count": null,
   "id": "100e4efb",
   "metadata": {},
   "outputs": [],
   "source": [
    "def find_products(catalog, product_type):\n",
    "    '''\n",
    "    | Help on user-defined function find_products:\n",
    "    |\n",
    "    | This function takes inputs: \n",
    "    | - catalog - dictionary containing ikea catalog items\n",
    "    | - product_type - string containing product types in catalog (first item in dict value)\n",
    "    | \n",
    "    | This function returns:\n",
    "    | - new_dict - a dictionary containing only catalog items that match the input product_type\n",
    "    '''\n",
    "    # empty list to fill with items \n",
    "    selected_keys = []\n",
    "    selected_vals = []\n",
    "    # loop through each key \n",
    "    for key in catalog:\n",
    "    # for each key, find the values \n",
    "        val = catalog[key]\n",
    "        # check if the item category is in the values\n",
    "        # if it is, add it to our selection list\n",
    "        if product_type in val[0]:\n",
    "            selected_keys.append(key)\n",
    "            selected_vals.append(val)\n",
    "    # make new dict to return \n",
    "    new_dict = dict(zip(selected_keys, selected_vals))\n",
    "    # return our list \n",
    "    return new_dict\n",
    "\n",
    "def remove_designer(catalog, product_type, designer_to_exclude):\n",
    "    '''\n",
    "    | Help on user-defined function remove_designer:\n",
    "    |\n",
    "    | This function takes inputs: \n",
    "    | - catalog - dictionary containing ikea catalog items\n",
    "    | - product_type - string containing product types in catalog (first item in dict value)\n",
    "    | - designer_to_exclude - string containing name of designer we want to remove from selection \n",
    "    | \n",
    "    | This function returns:\n",
    "    | - final_selection - a dictionary containing only catalog items that match the input product_type \n",
    "    | AND does NOT include designer_to_exclude\n",
    "    '''\n",
    "    # run find_products, nested function \n",
    "    selection = find_products(catalog, product_type)\n",
    "    # exclude designer in selection\n",
    "    refined_selection = {key: val for key, val in selection.items() if designer_to_exclude not in val}\n",
    "    return refined_selection\n",
    "\n",
    "def filter_pricepoint(input_selection, max_price):\n",
    "    '''\n",
    "    | Help on user-defined function filter_pricepoint:\n",
    "    |\n",
    "    | This function takes inputs: \n",
    "    | - input_selection - dictionary containing ikea catalog items. can be original catalog dictionary or\n",
    "    | filtered `refined_selection` dict from find_products, remove_designer, or other. \n",
    "    | - max_price - int or float indicating max budget. funciton will keep everything < this value. \n",
    "    | \n",
    "    | This function returns:\n",
    "    | - final_selection - a dictionary containing only catalog items that match the input product_type \n",
    "    | AND does NOT include designer_to_exclude\n",
    "    '''\n",
    "    # empty lists to fill with keys & vals we keep \n",
    "    final_selection_keys = []\n",
    "    final_selection_vals = []\n",
    "    # loop through keys, get vals \n",
    "    for key in list(input_selection.keys()):\n",
    "        val = input_selection[key]\n",
    "        # if within budget add keys & vals to list\n",
    "        if val[1] < max_price:\n",
    "            input_selection_keys.append(key)           \n",
    "            input_selection_vals.append(val)\n",
    "    # zip lists into a new dictionary \n",
    "    final_selection = dict(zip(final_selection_keys, final_selection_vals))\n",
    "    return final_selection"
   ]
  },
  {
   "cell_type": "code",
   "execution_count": null,
   "id": "77b563bf",
   "metadata": {},
   "outputs": [],
   "source": [
    "help(find_products)"
   ]
  },
  {
   "cell_type": "code",
   "execution_count": null,
   "id": "99933d47",
   "metadata": {},
   "outputs": [],
   "source": [
    "help(remove_designer)"
   ]
  },
  {
   "cell_type": "code",
   "execution_count": null,
   "id": "0d9b2b59",
   "metadata": {},
   "outputs": [],
   "source": [
    "help(filter_pricepoint)"
   ]
  },
  {
   "cell_type": "markdown",
   "id": "188eed08",
   "metadata": {},
   "source": [
    "<hr style=\"border:2px solid gray\"> </hr>\n",
    "\n",
    "### Now you try! \n",
    "\n",
    "Add docstrings for the `select_designer` function you created earlier. Print the docstring using `help()`. "
   ]
  },
  {
   "cell_type": "code",
   "execution_count": null,
   "id": "bc58ccac",
   "metadata": {},
   "outputs": [],
   "source": [
    "### BEGIN SOLUTION \n",
    "\n",
    "def select_designer(catalog, product_type, designer_to_select):\n",
    "    '''    \n",
    "    | Help on user-defined function select_designer:\n",
    "    |\n",
    "    | This function takes inputs: \n",
    "    | - catalog - dictionary containing ikea catalog items\n",
    "    | - product_type - string containing product types in catalog (first item in dict value)\n",
    "    | - designer_to_select - string containing name of designer we want to keep (exclude every other designer)\n",
    "    | \n",
    "    | This function returns:\n",
    "    | - refined_selection - a dictionary containing only catalog items that match the input product_type \n",
    "    | AND is designed by designer_to_select\n",
    "    '''\n",
    "    selection = find_products(catalog, product_type)\n",
    "    refined_selection = {key: val for key, val in selection.items() if designer_to_select in val}\n",
    "    return refined_selection\n",
    "\n",
    "help(select_designer)\n",
    "\n",
    "### END SOLUTION "
   ]
  },
  {
   "cell_type": "markdown",
   "id": "8f69f30f",
   "metadata": {},
   "source": [
    "<hr style=\"border:2px solid gray\"> </hr>\n",
    "\n",
    "## Packaging a set of functions into a module\n",
    "\n",
    "A **module** is a set of definitions/functions pacakged into a script that can be called into any workspace. This is simply a `.py` file that contains our function definitions. For example a module called `ikea_functions.py` could be called in using `import ikea_functions`. The syntax is the same as when we import other packages such as pandas or matplotlib. \n",
    "\n",
    "Let's create a module called `ikea_functions` that contains all the functions we defined. You can do this in a text editor where you simply name the file `ikea_functions.py` or you can use the method below to write a file directly from jupyter:"
   ]
  },
  {
   "cell_type": "code",
   "execution_count": null,
   "id": "ad768b1b",
   "metadata": {},
   "outputs": [],
   "source": [
    "%%writefile ikea_functions.py\n",
    "\n",
    "def find_products(catalog, product_type):\n",
    "    '''\n",
    "    | Help on user-defined function find_products:\n",
    "    |\n",
    "    | This function takes inputs: \n",
    "    | - catalog - dictionary containing ikea catalog items\n",
    "    | - product_type - string containing product types in catalog (first item in dict value)\n",
    "    | \n",
    "    | This function returns:\n",
    "    | - new_dict - a dictionary containing only catalog items that match the input product_type\n",
    "    '''\n",
    "    # empty list to fill with items \n",
    "    selected_keys = []\n",
    "    selected_vals = []\n",
    "    # loop through each key \n",
    "    for key in catalog:\n",
    "    # for each key, find the values \n",
    "        val = catalog[key]\n",
    "        # check if the item category is in the values\n",
    "        # if it is, add it to our selection list\n",
    "        if product_type in val[0]:\n",
    "            selected_keys.append(key)\n",
    "            selected_vals.append(val)\n",
    "    # make new dict to return \n",
    "    new_dict = dict(zip(selected_keys, selected_vals))\n",
    "    # return our list \n",
    "    return new_dict\n",
    "\n",
    "def remove_designer(catalog, product_type, designer_to_exclude):\n",
    "    '''\n",
    "    | Help on user-defined function remove_designer:\n",
    "    |\n",
    "    | This function takes inputs: \n",
    "    | - catalog - dictionary containing ikea catalog items\n",
    "    | - product_type - string containing product types in catalog (first item in dict value)\n",
    "    | - designer_to_exclude - string containing name of designer we want to remove from selection \n",
    "    | \n",
    "    | This function returns:\n",
    "    | - final_selection - a dictionary containing only catalog items that match the input product_type \n",
    "    | AND does NOT include designer_to_exclude\n",
    "    '''\n",
    "    # run find_products, nested function \n",
    "    selection = find_products(catalog, product_type)\n",
    "    # exclude designer in selection\n",
    "    refined_selection = {key: val for key, val in selection.items() if designer_to_exclude not in val}\n",
    "    return refined_selection\n",
    "\n",
    "def filter_pricepoint(input_selection, max_price):\n",
    "    '''\n",
    "    | Help on user-defined function filter_pricepoint:\n",
    "    |\n",
    "    | This function takes inputs: \n",
    "    | - input_selection - dictionary containing ikea catalog items. can be original catalog dictionary or\n",
    "    | filtered `refined_selection` dict from find_products, remove_designer, or other. \n",
    "    | - max_price - int or float indicating max budget. funciton will keep everything < this value. \n",
    "    | \n",
    "    | This function returns:\n",
    "    | - final_selection - a dictionary containing only catalog items that match the input product_type \n",
    "    | AND does NOT include designer_to_exclude\n",
    "    '''\n",
    "    # empty lists to fill with keys & vals we keep \n",
    "    final_selection_keys = []\n",
    "    final_selection_vals = []\n",
    "    # loop through keys, get vals \n",
    "    for key in list(input_selection.keys()):\n",
    "        val = input_selection[key]\n",
    "        # if within budget add keys & vals to list\n",
    "        if val[1] < max_price:\n",
    "            input_selection_keys.append(key)           \n",
    "            input_selection_vals.append(val)\n",
    "    # zip lists into a new dictionary \n",
    "    final_selection = dict(zip(final_selection_keys, final_selection_vals))\n",
    "    return final_selection\n",
    "\n",
    "def select_designer(catalog, product_type, designer_to_select):\n",
    "    '''    \n",
    "    | Help on user-defined function select_designer:\n",
    "    |\n",
    "    | This function takes inputs: \n",
    "    | - catalog - dictionary containing ikea catalog items\n",
    "    | - product_type - string containing product types in catalog (first item in dict value)\n",
    "    | - designer_to_select - string containing name of designer we want to keep (exclude every other designer)\n",
    "    | \n",
    "    | This function returns:\n",
    "    | - refined_selection - a dictionary containing only catalog items that match the input product_type \n",
    "    | AND is designed by designer_to_select\n",
    "    '''\n",
    "    selection = find_products(catalog, product_type)\n",
    "    refined_selection = {key: val for key, val in selection.items() if designer_to_select in val}\n",
    "    return refined_selection\n",
    "\n"
   ]
  },
  {
   "cell_type": "markdown",
   "id": "d52fd811",
   "metadata": {},
   "source": [
    "Let's clear our variable space, import our module using `import ikea_functions` & re-load our ikea file to test this. "
   ]
  },
  {
   "cell_type": "code",
   "execution_count": null,
   "id": "35b851e3",
   "metadata": {},
   "outputs": [],
   "source": [
    "# reset variables space \n",
    "# run this then type 'y' when prompted\n",
    "%reset"
   ]
  },
  {
   "cell_type": "code",
   "execution_count": null,
   "id": "16237faf",
   "metadata": {},
   "outputs": [],
   "source": [
    "# reload file\n",
    "import pickle\n",
    "ikea_dict = pickle.load(open('ikea.pkl', \"rb\"))\n",
    "\n",
    "# import the entire module \n",
    "import ikea_functions\n",
    "\n",
    "# and use dir to print all functions within the module \n",
    "dir(ikea_functions)"
   ]
  },
  {
   "cell_type": "markdown",
   "id": "7e645652",
   "metadata": {},
   "source": [
    "You see above that our four functions are listed within the new `ikea_functions` we imported! We can access a particular function using dot notation like this: "
   ]
  },
  {
   "cell_type": "code",
   "execution_count": null,
   "id": "2f7fe264",
   "metadata": {},
   "outputs": [],
   "source": [
    "ikea_functions.find_products(ikea_dict, 'Beds')"
   ]
  },
  {
   "cell_type": "markdown",
   "id": "540b700f",
   "metadata": {},
   "source": [
    "We could also import only a single function from the module & use it, like so: "
   ]
  },
  {
   "cell_type": "code",
   "execution_count": null,
   "id": "2d640ce9",
   "metadata": {},
   "outputs": [],
   "source": [
    "from ikea_functions import find_products\n",
    "\n",
    "find_products(ikea_dict, 'Beds')"
   ]
  },
  {
   "cell_type": "markdown",
   "id": "6bcfcbca",
   "metadata": {},
   "source": [
    "See that our docstrings can be printed too! "
   ]
  },
  {
   "cell_type": "code",
   "execution_count": null,
   "id": "34fdff7f",
   "metadata": {},
   "outputs": [],
   "source": [
    "help(ikea_functions.remove_designer)"
   ]
  },
  {
   "cell_type": "markdown",
   "id": "5864b04e",
   "metadata": {},
   "source": [
    "Importing a module is a lot less cumbersome than redefining the function in every script you want to use it. This makes it easy to re-use functions in multiple scripts. If you make a change to a function in the module, it will carry through to every usage of the function thereafter, whereas if you were to have the function defined in multiple scripts it is likely you will forget to change every instance and the \"same\" function will behave differently in multiple scripts. \n",
    "\n",
    "It also makes it more easily shareable, as you can simply send one .py file to a colleage and they can import the functions you made. This way they will not have to hard code them themselves or copy/paste from a different script. The use of docstrings in your module functions allows you or a colleague to easily access documentation so you don't need to re-inspect the entire funtion to remember inputs, formats, etc. "
   ]
  },
  {
   "cell_type": "markdown",
   "id": "c44412c0",
   "metadata": {},
   "source": [
    "<hr style=\"border:2px solid gray\"> </hr>\n",
    "\n",
    "### Now you try! \n",
    "\n",
    "Use the `remove_designer` function from our module (by importing the function directly or using dot notation) and find all 'Beds' NOT designed by 'IKEA of Sweden'"
   ]
  },
  {
   "cell_type": "code",
   "execution_count": null,
   "id": "57919dcb",
   "metadata": {},
   "outputs": [],
   "source": [
    "### BEGIN SOLUTION \n",
    "\n",
    "ikea_functions.remove_designer(ikea_dict, 'Beds', 'IKEA of Sweden')\n",
    "\n",
    "### END SOLUTION"
   ]
  },
  {
   "cell_type": "markdown",
   "id": "6de28028",
   "metadata": {},
   "source": [
    "<hr style=\"border:2px solid gray\"> </hr>\n",
    "\n",
    "# Practice on your own \n",
    "\n",
    "In this practice section you will be working with video game data from IGN, a video game website, found [here](https://github.com/erilyth/DeepLearning-Challenges/blob/master/Sentiment_Analysis/ign.csv). \n",
    "\n",
    "Load in the first 500 rows of `ign.csv` like so:"
   ]
  },
  {
   "cell_type": "code",
   "execution_count": 1,
   "id": "3befb66b",
   "metadata": {},
   "outputs": [
    {
     "data": {
      "text/plain": [
       "array(['PlayStation Vita', 'iPad', 'Xbox 360', 'PlayStation 3',\n",
       "       'Macintosh', 'PC', 'iPhone', 'Nintendo DS', 'Nintendo 3DS',\n",
       "       'Android', 'Wii', 'PlayStation 4', 'Wii U', 'Linux',\n",
       "       'PlayStation Portable', 'PlayStation', 'Nintendo 64', 'Saturn'],\n",
       "      dtype=object)"
      ]
     },
     "execution_count": 1,
     "metadata": {},
     "output_type": "execute_result"
    }
   ],
   "source": [
    "import pandas as pd\n",
    "ign = pd.read_csv('ign.csv', nrows = 500)\n",
    "ign.head()\n",
    "ign.platform.unique()"
   ]
  },
  {
   "cell_type": "markdown",
   "id": "f6aebbdc",
   "metadata": {},
   "source": [
    "#### Exercise 1. Create a function called `get_platform` that returns a dataframe containing only data from the platform listed in the input argument (iPad, Xbox 360, Playstation Vita, ...). Use this function to create a dataframe of games for the PlayStation Vita. Add useful docstrings to the function. \n",
    "\n",
    "#### Use this function to create a dataframe named `ps_vita` that contains all the games released on the 'Playstation Vita'. "
   ]
  },
  {
   "cell_type": "code",
   "execution_count": 2,
   "id": "8a3b20b2",
   "metadata": {},
   "outputs": [
    {
     "data": {
      "text/html": [
       "<div>\n",
       "<style scoped>\n",
       "    .dataframe tbody tr th:only-of-type {\n",
       "        vertical-align: middle;\n",
       "    }\n",
       "\n",
       "    .dataframe tbody tr th {\n",
       "        vertical-align: top;\n",
       "    }\n",
       "\n",
       "    .dataframe thead th {\n",
       "        text-align: right;\n",
       "    }\n",
       "</style>\n",
       "<table border=\"1\" class=\"dataframe\">\n",
       "  <thead>\n",
       "    <tr style=\"text-align: right;\">\n",
       "      <th></th>\n",
       "      <th>Unnamed: 0</th>\n",
       "      <th>score_phrase</th>\n",
       "      <th>title</th>\n",
       "      <th>url</th>\n",
       "      <th>platform</th>\n",
       "      <th>score</th>\n",
       "      <th>genre</th>\n",
       "      <th>editors_choice</th>\n",
       "      <th>release_year</th>\n",
       "      <th>release_month</th>\n",
       "      <th>release_day</th>\n",
       "    </tr>\n",
       "  </thead>\n",
       "  <tbody>\n",
       "    <tr>\n",
       "      <th>0</th>\n",
       "      <td>0</td>\n",
       "      <td>Amazing</td>\n",
       "      <td>LittleBigPlanet PS Vita</td>\n",
       "      <td>/games/littlebigplanet-vita/vita-98907</td>\n",
       "      <td>PlayStation Vita</td>\n",
       "      <td>9.0</td>\n",
       "      <td>Platformer</td>\n",
       "      <td>Y</td>\n",
       "      <td>2012</td>\n",
       "      <td>9</td>\n",
       "      <td>12</td>\n",
       "    </tr>\n",
       "    <tr>\n",
       "      <th>1</th>\n",
       "      <td>1</td>\n",
       "      <td>Amazing</td>\n",
       "      <td>LittleBigPlanet PS Vita -- Marvel Super Hero E...</td>\n",
       "      <td>/games/littlebigplanet-ps-vita-marvel-super-he...</td>\n",
       "      <td>PlayStation Vita</td>\n",
       "      <td>9.0</td>\n",
       "      <td>Platformer</td>\n",
       "      <td>Y</td>\n",
       "      <td>2012</td>\n",
       "      <td>9</td>\n",
       "      <td>12</td>\n",
       "    </tr>\n",
       "    <tr>\n",
       "      <th>56</th>\n",
       "      <td>56</td>\n",
       "      <td>Okay</td>\n",
       "      <td>Madden NFL 13</td>\n",
       "      <td>/games/madden-nfl-2013/vita-128100</td>\n",
       "      <td>PlayStation Vita</td>\n",
       "      <td>6.0</td>\n",
       "      <td>Sports</td>\n",
       "      <td>N</td>\n",
       "      <td>2012</td>\n",
       "      <td>8</td>\n",
       "      <td>24</td>\n",
       "    </tr>\n",
       "    <tr>\n",
       "      <th>88</th>\n",
       "      <td>88</td>\n",
       "      <td>Bad</td>\n",
       "      <td>FIFA Soccer 13</td>\n",
       "      <td>/games/fifa-2013/vita-115689</td>\n",
       "      <td>PlayStation Vita</td>\n",
       "      <td>4.0</td>\n",
       "      <td>Sports</td>\n",
       "      <td>N</td>\n",
       "      <td>2012</td>\n",
       "      <td>10</td>\n",
       "      <td>12</td>\n",
       "    </tr>\n",
       "    <tr>\n",
       "      <th>91</th>\n",
       "      <td>91</td>\n",
       "      <td>Mediocre</td>\n",
       "      <td>New Little King's Story</td>\n",
       "      <td>/games/new-kings-story/vita-116369</td>\n",
       "      <td>PlayStation Vita</td>\n",
       "      <td>5.8</td>\n",
       "      <td>RPG</td>\n",
       "      <td>N</td>\n",
       "      <td>2012</td>\n",
       "      <td>10</td>\n",
       "      <td>11</td>\n",
       "    </tr>\n",
       "  </tbody>\n",
       "</table>\n",
       "</div>"
      ],
      "text/plain": [
       "    Unnamed: 0 score_phrase  \\\n",
       "0            0      Amazing   \n",
       "1            1      Amazing   \n",
       "56          56         Okay   \n",
       "88          88          Bad   \n",
       "91          91     Mediocre   \n",
       "\n",
       "                                                title  \\\n",
       "0                             LittleBigPlanet PS Vita   \n",
       "1   LittleBigPlanet PS Vita -- Marvel Super Hero E...   \n",
       "56                                      Madden NFL 13   \n",
       "88                                     FIFA Soccer 13   \n",
       "91                            New Little King's Story   \n",
       "\n",
       "                                                  url          platform  \\\n",
       "0              /games/littlebigplanet-vita/vita-98907  PlayStation Vita   \n",
       "1   /games/littlebigplanet-ps-vita-marvel-super-he...  PlayStation Vita   \n",
       "56                 /games/madden-nfl-2013/vita-128100  PlayStation Vita   \n",
       "88                       /games/fifa-2013/vita-115689  PlayStation Vita   \n",
       "91                 /games/new-kings-story/vita-116369  PlayStation Vita   \n",
       "\n",
       "    score       genre editors_choice  release_year  release_month  release_day  \n",
       "0     9.0  Platformer              Y          2012              9           12  \n",
       "1     9.0  Platformer              Y          2012              9           12  \n",
       "56    6.0      Sports              N          2012              8           24  \n",
       "88    4.0      Sports              N          2012             10           12  \n",
       "91    5.8         RPG              N          2012             10           11  "
      ]
     },
     "execution_count": 2,
     "metadata": {},
     "output_type": "execute_result"
    }
   ],
   "source": [
    "### BEGIN SOLUTION \n",
    "\n",
    "def get_platform(games_df, target_platform):\n",
    "    \"\"\"\n",
    "    | Help on user-defined function get_platform:\n",
    "    |\n",
    "    | This function works on the ign dataframe & takes inputs: \n",
    "    | - games_df - dataframe of ign games \n",
    "    | - target_platform - a string naming the gaming platform the games were released on \n",
    "    |\n",
    "    | This function returns:\n",
    "    | - platform_only - a dataframe containing only games released on the input target_platform\n",
    "    \"\"\"\n",
    "    platform_only = games_df[games_df['platform'] == target_platform]\n",
    "    return platform_only\n",
    "\n",
    "ps_vita = get_platform(ign, 'PlayStation Vita')\n",
    "ps_vita.head()\n",
    "\n",
    "### END SOLUTION "
   ]
  },
  {
   "cell_type": "markdown",
   "id": "54def84c",
   "metadata": {},
   "source": [
    "#### Exercise 2. Create a function named `bar_plot_genres` that makes a bar plot out of the `genre` column for the data for a certain target platform. The function should take `target_platform` as an input argument, and return a bar plot where each bar measures the number of games in each category. You will need to create and add a new column, `primary_genre`, to the dataframe, which contains either the only genre listed or only the primary (first) one listed for each game. You do not need to return the altered dataframe. \n",
    "\n",
    "#### Add meaningful comments to the blocks of code within your function & add descriptive docstrings. \n",
    "\n",
    "#### Finally, use this function to plot the genres of PlayStation Vita games. "
   ]
  },
  {
   "cell_type": "code",
   "execution_count": 3,
   "id": "0121cd73",
   "metadata": {},
   "outputs": [
    {
     "name": "stderr",
     "output_type": "stream",
     "text": [
      "<ipython-input-3-628a1c355930>:31: SettingWithCopyWarning: \n",
      "A value is trying to be set on a copy of a slice from a DataFrame.\n",
      "Try using .loc[row_indexer,col_indexer] = value instead\n",
      "\n",
      "See the caveats in the documentation: https://pandas.pydata.org/pandas-docs/stable/user_guide/indexing.html#returning-a-view-versus-a-copy\n",
      "  this_platform['primary_genre'] = primary_genres\n"
     ]
    },
    {
     "data": {
      "image/png": "[encoded data removed]",
      "text/plain": [
       "<Figure size 432x288 with 1 Axes>"
      ]
     },
     "metadata": {
      "needs_background": "light"
     },
     "output_type": "display_data"
    }
   ],
   "source": [
    "### BEGIN SOLUTION \n",
    "\n",
    "def bar_plot_genres(games_df, target_platform):\n",
    "    \"\"\"\n",
    "    | Help on user-defined function bar_plot_genres:\n",
    "    |\n",
    "    | This function creates a bar plot of primary genres for games of a certain platform. \n",
    "    | Creates a new column called 'primary_genre' with first listed genre for each game. \n",
    "    |\n",
    "    | Takes the following inputs: \n",
    "    | - games_df - dataframe of ign games \n",
    "    | - target_platform - a string naming the gaming platform the games were released on\n",
    "    |\n",
    "    | This function returns:\n",
    "    | - platform_only - a dataframe containing only games released on the input target_platform\n",
    "    | - bar plot showing count of each primary genre for that gaming platform \n",
    "    \"\"\"\n",
    "    # get games from this platform \n",
    "    this_platform = get_platform(games_df, target_platform)\n",
    "    # if comma, then only keep text before comma (first entry in genre)\n",
    "    # add to empty list \n",
    "    primary_genres = []\n",
    "    for index, row in this_platform.iterrows():\n",
    "        comma_count = row.genre.count(',')\n",
    "        if comma_count == 0:\n",
    "            primary_genres.append(row.genre)\n",
    "        else:\n",
    "            primary_only = row.genre.split(', ')[0]\n",
    "            primary_genres.append(primary_only)\n",
    "    # add new column with primary genres only \n",
    "    this_platform['primary_genre'] = primary_genres\n",
    "    # plot \n",
    "    this_platform.primary_genre.value_counts().plot.bar(title = 'Genres of all ' + target_platform + ' games')\n",
    "\n",
    "bar_plot_genres(ign, 'PlayStation Vita')\n",
    "\n",
    "### END SOLUTION "
   ]
  },
  {
   "cell_type": "markdown",
   "id": "21ed15bc",
   "metadata": {},
   "source": [
    "#### Exercise 3. Say you have found an old module in your code base, and you don't remember the details of what each function does. Using `get_platform` function you just made, demonstrate how would you go about accessing the documentation for a forgotten function. "
   ]
  },
  {
   "cell_type": "code",
   "execution_count": 4,
   "id": "53a00acc",
   "metadata": {},
   "outputs": [
    {
     "name": "stdout",
     "output_type": "stream",
     "text": [
      "Help on function get_platform in module __main__:\n",
      "\n",
      "get_platform(games_df, target_platform)\n",
      "    | Help on user-defined function get_platform:\n",
      "    |\n",
      "    | This function works on the ign dataframe & takes inputs: \n",
      "    | - games_df - dataframe of ign games \n",
      "    | - target_platform - a string naming the gaming platform the games were released on \n",
      "    |\n",
      "    | This function returns:\n",
      "    | - platform_only - a dataframe containing only games released on the input target_platform\n",
      "\n"
     ]
    }
   ],
   "source": [
    "help(get_platform)"
   ]
  },
  {
   "cell_type": "markdown",
   "id": "52c0171f",
   "metadata": {},
   "source": [
    "#### Exercise 4. Create a module that packages together your `get_platform` and `bar_plot_genres` functions, named `ign_functions.py`. You can either use a text editor to create a .py file, or write the file directly from Jupyter Notebook. "
   ]
  },
  {
   "cell_type": "code",
   "execution_count": 9,
   "id": "9923334d",
   "metadata": {},
   "outputs": [
    {
     "name": "stderr",
     "output_type": "stream",
     "text": [
      "UsageError: Line magic function `%%writefile` not found.\n"
     ]
    }
   ],
   "source": [
    "### BEGIN SOLUTION \n",
    "\n",
    "%%writefile ign_functions.py # will not work if after commented line, line magic must be ONLY thing in cell\n",
    "\n",
    "def get_platform(games_df, target_platform):\n",
    "    \"\"\"\n",
    "    | Help on user-defined function get_platform:\n",
    "    |\n",
    "    | This function works on the ign dataframe & takes inputs: \n",
    "    | - games_df - dataframe of ign games \n",
    "    | - target_platform - a string naming the gaming platform the games were released on \n",
    "    |\n",
    "    | This function returns:\n",
    "    | - platform_only - a dataframe containing only games released on the input target_platform\n",
    "    \"\"\"\n",
    "    platform_only = games_df[games_df['platform'] == target_platform]\n",
    "    return platform_only\n",
    "\n",
    "def bar_plot_genres(games_df, target_platform):\n",
    "    \"\"\"\n",
    "    | Help on user-defined function bar_plot_genres:\n",
    "    |\n",
    "    | This function creates a bar plot of primary genres for games of a certain platform. \n",
    "    | Creates a new column called 'primary_genre' with first listed genre for each game. \n",
    "    |\n",
    "    | Takes the following inputs: \n",
    "    | - games_df - dataframe of ign games \n",
    "    | - target_platform - a string naming the gaming platform the games were released on\n",
    "    |\n",
    "    | This function returns:\n",
    "    | - platform_only - a dataframe containing only games released on the input target_platform\n",
    "    | - bar plot showing count of each primary genre for that gaming platform \n",
    "    \"\"\"\n",
    "    # get games from this platform \n",
    "    this_platform = get_platform(games_df, target_platform)\n",
    "    # if comma, then only keep text before comma (first entry in genre)\n",
    "    # add to empty list \n",
    "    primary_genres = []\n",
    "    for index, row in this_platform.iterrows():\n",
    "        comma_count = row.genre.count(',')\n",
    "        if comma_count == 0:\n",
    "            primary_genres.append(row.genre)\n",
    "        else:\n",
    "            primary_only = row.genre.split(', ')[0]\n",
    "            primary_genres.append(primary_only)\n",
    "    # add new column with primary genres only \n",
    "    this_platform['primary_genre'] = primary_genres\n",
    "    # plot \n",
    "    this_platform.primary_genre.value_counts().plot.bar(title = 'Genres of all ' + target_platform + ' games')\n",
    "\n",
    "### END SOLUTION "
   ]
  },
  {
   "cell_type": "markdown",
   "id": "2ef42230",
   "metadata": {},
   "source": [
    "#### Exercise 5. Read in the functions from your new `ign_functions` module & print the docstrings for each. Use the appropriate function in the module to create a bar plot of genres of Nintendo DS games. "
   ]
  },
  {
   "cell_type": "code",
   "execution_count": 7,
   "id": "9786d855",
   "metadata": {},
   "outputs": [
    {
     "name": "stdout",
     "output_type": "stream",
     "text": [
      "Help on function get_platform in module ign_functions:\n",
      "\n",
      "get_platform(games_df, target_platform)\n",
      "    | Help on user-defined function get_platform:\n",
      "    |\n",
      "    | This function works on the ign dataframe & takes inputs: \n",
      "    | - games_df - dataframe of ign games \n",
      "    | - target_platform - a string naming the gaming platform the games were released on \n",
      "    |\n",
      "    | This function returns:\n",
      "    | - platform_only - a dataframe containing only games released on the input target_platform\n",
      "\n",
      "Help on function bar_plot_genres in module ign_functions:\n",
      "\n",
      "bar_plot_genres(games_df, target_platform)\n",
      "    | Help on user-defined function bar_plot_genres:\n",
      "    |\n",
      "    | This function creates a bar plot of primary genres for games of a certain platform. \n",
      "    | Creates a new column called 'primary_genre' with first listed genre for each game. \n",
      "    |\n",
      "    | Takes the following inputs: \n",
      "    | - games_df - dataframe of ign games \n",
      "    | - target_platform - a string naming the gaming platform the games were released on\n",
      "    |\n",
      "    | This function returns:\n",
      "    | - platform_only - a dataframe containing only games released on the input target_platform\n",
      "    | - bar plot showing count of each primary genre for that gaming platform\n",
      "\n"
     ]
    },
    {
     "name": "stderr",
     "output_type": "stream",
     "text": [
      "/Users/sofiarocco/Documents/upwork/modal/intermediate-python/sprint-1/practice-3/ign_functions.py:44: SettingWithCopyWarning: \n",
      "A value is trying to be set on a copy of a slice from a DataFrame.\n",
      "Try using .loc[row_indexer,col_indexer] = value instead\n",
      "\n",
      "See the caveats in the documentation: https://pandas.pydata.org/pandas-docs/stable/user_guide/indexing.html#returning-a-view-versus-a-copy\n",
      "  this_platform['primary_genre'] = primary_genres\n"
     ]
    },
    {
     "data": {
      "image/png": "[encoded data removed]",
      "text/plain": [
       "<Figure size 432x288 with 1 Axes>"
      ]
     },
     "metadata": {
      "needs_background": "light"
     },
     "output_type": "display_data"
    }
   ],
   "source": [
    "### BEGIN SOLUTION \n",
    "\n",
    "import ign_functions\n",
    "\n",
    "help(ign_functions.get_platform)\n",
    "help(ign_functions.bar_plot_genres)\n",
    "\n",
    "ign_functions.bar_plot_genres(ign, 'iPad')\n",
    "\n",
    "### END SOLUTION "
   ]
  }
 ],
 "metadata": {
  "kernelspec": {
   "display_name": "Python 3",
   "language": "python",
   "name": "python3"
  },
  "language_info": {
   "codemirror_mode": {
    "name": "ipython",
    "version": 3
   },
   "file_extension": ".py",
   "mimetype": "text/x-python",
   "name": "python",
   "nbconvert_exporter": "python",
   "pygments_lexer": "ipython3",
   "version": "3.8.8"
  }
 },
 "nbformat": 4,
 "nbformat_minor": 5
}
