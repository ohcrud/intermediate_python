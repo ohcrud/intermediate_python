{
 "cells": [
  {
   "cell_type": "markdown",
   "id": "798ffeaa",
   "metadata": {},
   "source": [
    "# Packaging & sharing functions \n",
    "\n",
    "So you've created several functions to help you complete analysis on a dataset. But you know that you'll need to use these functions again in the future, and you know the work you've done will be helpful to other colleagues doing similar work. How can you package your functions up in a way that they 'stand alone'? We want them to be easily shareable, readable, and well commented so that any user can utilize them (including you, months from now when you've forgotten the details of the project). We can do this by utilizing **self documentation** in our code base! \n",
    "\n",
    "[This](https://realpython.com/documenting-python-code/) is a great article that goes into detail on the importance of documentation & different methods. We will go over some key strategies in this practice. \n",
    "\n",
    "Let's bring in some data, create some functions, and document & package them up. \n",
    "\n",
    "## Loading in our dataset \n",
    "\n",
    "We will read in `ikea.pkl`, which is a **dictionary** containing furniture item available at IKEA & corresponding attributes, edited & reformatted from [this source](https://www.kaggle.com/datasets/ahmedkallam/ikea-sa-furniture-web-scraping?resource=download).  \n",
    "\n",
    "Recall that a dictionary is a combination of key:value pairs. In this case our \"key\" is the name of each furniture item, and the \"value\" is a list containing a few attributes. The attributes are given in the following order: `'category', 'price', 'designer'`.\n",
    "\n",
    "Note that this is a .pkl file, or a **pickle** file, which allows us to save python data objects in their original formats (e.g. for example you could save a pandas dataframe as is, instead of having to convert it to a csv). To do so you need to import the `pickle` module, and read the data in with the following syntax: \n",
    "\n",
    "    ikea = pickle.load(open('ikea.pkl', \"rb\"))\n",
    "\n",
    "Where `ikea.pkl` is the file name, and `\"rb\"` indicates that we are reading a file from binary. \n",
    "\n",
    "Let's read in `ikea.pkl` and save it to a variable named `ikea_dict`, then take a peek at the contents."
   ]
  },
  {
   "cell_type": "code",
   "execution_count": 1,
   "id": "6a098a70",
   "metadata": {},
   "outputs": [
    {
     "data": {
      "text/plain": [
       "{'LIXHULT': ['Cabinets & cupboards', 145.0, 'Jon Karlsson'],\n",
       " 'PLATSA': ['Beds', 2163.5, 'IKEA of Sweden'],\n",
       " 'BAGGANÄS': ['Bookcases & shelving units', 27.0, 'H Preutz/A Fredriksson'],\n",
       " 'BESTÅ': ['Bookcases & shelving units', 150.0, 'IKEA of Sweden'],\n",
       " 'BRENNÅSEN': ['Beds', 30.0, 'Ola Wihlborg'],\n",
       " 'FANBYN': ['Chairs', 295.0, 'IKEA of Sweden'],\n",
       " 'BILLY': ['Bookcases & shelving units',\n",
       "  795.0,\n",
       "  'IKEA of Sweden/Gillis Lundgren'],\n",
       " 'FRANKLIN': ['Bar furniture', 129.0, 'K Hagberg/M Hagberg'],\n",
       " 'LAUVIK': ['Beds', 2425.0, 'Synnöve Mork/Ola Wihlborg/IKEA of Sweden'],\n",
       " 'MALM': ['Beds', 1595.0, 'Eva Lilja Löwenhielm'],\n",
       " 'ALGOT': ['Bookcases & shelving units', 388.6, 'Francis Cayouette'],\n",
       " 'BRUSALI': ['Cabinets & cupboards', 595.0, 'IKEA of Sweden'],\n",
       " 'BLECKBERGET': ['Chairs', 250.0, 'Francis Cayouette'],\n",
       " 'EDVALLA': ['Cabinets & cupboards', 25.0, 'Francis Cayouette'],\n",
       " 'BILLY / OXBERG': ['Cabinets & cupboards', 915.0, 'Gillis Lundgren'],\n",
       " 'GALANT': ['Cabinets & cupboards', 945.0, 'Eva Lilja Löwenhielm'],\n",
       " 'BROR': ['Bookcases & shelving units', 515.0, 'IKEA of Sweden'],\n",
       " 'DETOLF': ['Cabinets & cupboards', 295.0, 'IKEA of Sweden'],\n",
       " 'OLAUS': ['Bookcases & shelving units', 772.0, 'IKEA of Sweden'],\n",
       " 'UPPLEVA': ['Cabinets & cupboards', 145.0, 'IKEA of Sweden'],\n",
       " 'NORDVIKEN': ['Bar furniture', 275.0, 'Francis Cayouette'],\n",
       " 'ROTHULT': ['Cabinets & cupboards', 95.0, 'IKEA of Sweden'],\n",
       " 'BRIMNES': ['Cabinets & cupboards', 952.0, 'K Hagberg/M Hagberg'],\n",
       " 'GLASSVIK': ['Bookcases & shelving units', 175.0, 'IKEA of Sweden'],\n",
       " 'BERNHARD': ['Bar furniture', 745.0, 'Ola Wihlborg'],\n",
       " 'LYCKSELE HÅVET': ['Beds', 795.0, 'IKEA of Sweden'],\n",
       " 'SULTAN': ['Beds', 50.0, 'IKEA of Sweden'],\n",
       " 'EKET': ['Bookcases & shelving units', 268.0, 'IKEA of Sweden/Jon Karlsson'],\n",
       " 'MELLTORP / ADDE': ['Chairs', 359.0, 'Marcus Arvonen/Lisa Norinder'],\n",
       " 'HAVSTA': ['Cabinets & cupboards', 4770.0, 'IKEA of Sweden'],\n",
       " 'ENERYDA': ['Bookcases & shelving units', 22.0, 'Francis Cayouette'],\n",
       " 'NISSE': ['Chairs', 49.0, 'IKEA of Sweden'],\n",
       " 'IVAR': ['Bookcases & shelving units', 49.0, 'IKEA of Sweden'],\n",
       " 'KALLAX': ['Bookcases & shelving units', 695.0, 'Tord Björklund'],\n",
       " 'LIATORP': ['Bookcases & shelving units', 3435.0, 'Carina Bengs'],\n",
       " 'DELAKTIG': ['Beds', 200.0, 'Tom Dixon'],\n",
       " 'VITVAL': ['Beds', 295.0, 'Tord Björklund'],\n",
       " 'KOLBJÖRN': ['Bookcases & shelving units', 225.0, 'IKEA of Sweden'],\n",
       " 'HEMNES': ['Bookcases & shelving units', 556.0, 'Carina Bengs'],\n",
       " 'STENSELE / RÖNNINGE': ['Café furniture', 1140.0, 'Maja Ganszyniec'],\n",
       " 'LIDHULT': ['Beds', 5553.0, 'IKEA of Sweden/Henrik Preutz'],\n",
       " 'BILLY / BOTTNA': ['Bookcases & shelving units',\n",
       "  245.0,\n",
       "  'Gillis Lundgren/K Hagberg/M Hagberg'],\n",
       " 'TUFFING': ['Beds', 645.0, 'IKEA of Sweden'],\n",
       " 'SINDVIK': ['Cabinets & cupboards', 125.0, 'Marcus Arvonen'],\n",
       " 'VITTSJÖ': ['Bookcases & shelving units', 640.0, 'Johan Kroon'],\n",
       " 'VIKARE': ['Beds', 95.0, 'IKEA of Sweden'],\n",
       " 'HÄLLAN': ['Cabinets & cupboards', 1400.0, 'Jon Karlsson'],\n",
       " 'GULLIVER': ['Beds', 595.0, 'IKEA of Sweden'],\n",
       " 'JONAXEL': ['Bookcases & shelving units', 20.0, 'IKEA of Sweden'],\n",
       " 'BEKANT': ['Cabinets & cupboards', 944.0, 'Eva Lilja Löwenhielm'],\n",
       " 'HACKÅS': ['Cabinets & cupboards', 50.0, 'J Löfgren/J Pettersson'],\n",
       " 'BUSKBO': ['Chairs',\n",
       "  675.0,\n",
       "  'IKEA of Sweden/A Fredriksson/J Hultqvist/W Chong']}"
      ]
     },
     "execution_count": 1,
     "metadata": {},
     "output_type": "execute_result"
    }
   ],
   "source": [
    "# read data in \n",
    "import pickle\n",
    "ikea_dict = pickle.load(open('ikea.pkl', \"rb\"))\n",
    "\n",
    "# print \n",
    "ikea_dict"
   ]
  },
  {
   "cell_type": "markdown",
   "id": "cebd30a5",
   "metadata": {},
   "source": [
    "We *cannot* use an index to call a particular item! A dictionary is inherently *un-ordered*. \n",
    "\n",
    "We can create a list of all the product names, the \"keys\", like so, so we have a list of items we may want to query. "
   ]
  },
  {
   "cell_type": "code",
   "execution_count": 2,
   "id": "29288aa4",
   "metadata": {},
   "outputs": [
    {
     "name": "stdout",
     "output_type": "stream",
     "text": [
      "['LIXHULT', 'PLATSA', 'BAGGANÄS', 'BESTÅ', 'BRENNÅSEN', 'FANBYN', 'BILLY', 'FRANKLIN', 'LAUVIK', 'MALM']\n"
     ]
    },
    {
     "data": {
      "text/plain": [
       "['Beds', 2163.5, 'IKEA of Sweden']"
      ]
     },
     "execution_count": 2,
     "metadata": {},
     "output_type": "execute_result"
    }
   ],
   "source": [
    "ikea_names = list(ikea_dict.keys())\n",
    "\n",
    "#print first 10 keys \n",
    "print(ikea_names[:10])\n",
    "\n",
    "# use a key to get its value \n",
    "ikea_dict['PLATSA']"
   ]
  },
  {
   "cell_type": "markdown",
   "id": "668b35bd",
   "metadata": {},
   "source": [
    "## Creating a set of functions to work with our data\n",
    "\n",
    "Say we are working for an interior design firm and our client has requested we select cabinets for an upcoming remodeling project. \n",
    "\n",
    "Let's create a function we can use to isolate all items in our dictionary which are of the category 'Cabinets & cupboards'. Since the list attributes are given in order `['category', 'price', 'designer']`, we would want to use the first (0th) item of the list to help us filter. \n",
    "\n",
    "The following `find_items` function will help us navigate our dictionary given the input arguments `ikea_dict`, which is our dictionary, and `item_category`, which is the type of furniture we want to filter for. The goal is to return a list of IKEA product names that we can return to our client. We will accomplish this with a few steps: \n",
    "\n",
    "1. Create two empty lists we can fill with keys & values of items that meet our conditions \n",
    "2. Iterate through each key in `ikea_dict` to & finding the corresponding values \n",
    "3. Checking if 'Cabinets & cupboards' is in the first value which contains the category \n",
    "4. If true then append this to our `selected_keys` list & `selected_vals` list \n",
    "5. Use `zip` to combine the two lists & use `dict` to convert them (full explanation [here](https://appdividend.com/2022/03/10/python-zip-dictionary/). "
   ]
  },
  {
   "cell_type": "code",
   "execution_count": 3,
   "id": "87e3400f",
   "metadata": {},
   "outputs": [],
   "source": [
    "def find_products(catalog, product_type):\n",
    "    selected_keys = []\n",
    "    selected_vals = []\n",
    "    for key in catalog:\n",
    "        val = catalog[key]\n",
    "        if product_type in val[0]:\n",
    "            selected_keys.append(key)\n",
    "            selected_vals.append(val)\n",
    "    new_dict = dict(zip(selected_keys, selected_vals))\n",
    "    return new_dict"
   ]
  },
  {
   "cell_type": "code",
   "execution_count": 4,
   "id": "cee3de7e",
   "metadata": {},
   "outputs": [
    {
     "data": {
      "text/plain": [
       "{'LIXHULT': ['Cabinets & cupboards', 145.0, 'Jon Karlsson'],\n",
       " 'BRUSALI': ['Cabinets & cupboards', 595.0, 'IKEA of Sweden'],\n",
       " 'EDVALLA': ['Cabinets & cupboards', 25.0, 'Francis Cayouette'],\n",
       " 'BILLY / OXBERG': ['Cabinets & cupboards', 915.0, 'Gillis Lundgren'],\n",
       " 'GALANT': ['Cabinets & cupboards', 945.0, 'Eva Lilja Löwenhielm'],\n",
       " 'DETOLF': ['Cabinets & cupboards', 295.0, 'IKEA of Sweden'],\n",
       " 'UPPLEVA': ['Cabinets & cupboards', 145.0, 'IKEA of Sweden'],\n",
       " 'ROTHULT': ['Cabinets & cupboards', 95.0, 'IKEA of Sweden'],\n",
       " 'BRIMNES': ['Cabinets & cupboards', 952.0, 'K Hagberg/M Hagberg'],\n",
       " 'HAVSTA': ['Cabinets & cupboards', 4770.0, 'IKEA of Sweden'],\n",
       " 'SINDVIK': ['Cabinets & cupboards', 125.0, 'Marcus Arvonen'],\n",
       " 'HÄLLAN': ['Cabinets & cupboards', 1400.0, 'Jon Karlsson'],\n",
       " 'BEKANT': ['Cabinets & cupboards', 944.0, 'Eva Lilja Löwenhielm'],\n",
       " 'HACKÅS': ['Cabinets & cupboards', 50.0, 'J Löfgren/J Pettersson']}"
      ]
     },
     "execution_count": 4,
     "metadata": {},
     "output_type": "execute_result"
    }
   ],
   "source": [
    "# use our function to find all keys whose values contain 'Cabinets & cupboards'\n",
    "selection = find_products(ikea_dict, 'Cabinets & cupboards')\n",
    "selection"
   ]
  },
  {
   "cell_type": "markdown",
   "id": "7191b468",
   "metadata": {},
   "source": [
    "Now we have a dictionary of potential cabinets that fit our specifications! However, due to a dispute between the client and the Löwenhielm family, the client has requested that we not include any of Eva Lilja Löwenhielm's designs.  \n",
    "\n",
    "Let's use this information to narrow down our list. \n",
    "\n",
    "We don't want to modify our original funciton since we want to be able to use it for other queries, so let's nest it within a new function named `remove_designer`. We will use **dictionary comprehension** (which uses a very similar syntax to list comprehension) to keep all items in the new dictionary that do **not** contain Eva Lilja Löwenhielm's designs. "
   ]
  },
  {
   "cell_type": "code",
   "execution_count": 5,
   "id": "a397c677",
   "metadata": {},
   "outputs": [],
   "source": [
    "def remove_designer(catalog, product_type, designer_to_exclude):\n",
    "    selection = find_products(catalog, product_type)\n",
    "    refined_selection = {key: val for key, val in selection.items() if designer_to_exclude not in val}\n",
    "    return refined_selection"
   ]
  },
  {
   "cell_type": "code",
   "execution_count": 6,
   "id": "f6f0444f",
   "metadata": {},
   "outputs": [
    {
     "data": {
      "text/plain": [
       "{'LIXHULT': ['Cabinets & cupboards', 145.0, 'Jon Karlsson'],\n",
       " 'BRUSALI': ['Cabinets & cupboards', 595.0, 'IKEA of Sweden'],\n",
       " 'EDVALLA': ['Cabinets & cupboards', 25.0, 'Francis Cayouette'],\n",
       " 'BILLY / OXBERG': ['Cabinets & cupboards', 915.0, 'Gillis Lundgren'],\n",
       " 'DETOLF': ['Cabinets & cupboards', 295.0, 'IKEA of Sweden'],\n",
       " 'UPPLEVA': ['Cabinets & cupboards', 145.0, 'IKEA of Sweden'],\n",
       " 'ROTHULT': ['Cabinets & cupboards', 95.0, 'IKEA of Sweden'],\n",
       " 'BRIMNES': ['Cabinets & cupboards', 952.0, 'K Hagberg/M Hagberg'],\n",
       " 'HAVSTA': ['Cabinets & cupboards', 4770.0, 'IKEA of Sweden'],\n",
       " 'SINDVIK': ['Cabinets & cupboards', 125.0, 'Marcus Arvonen'],\n",
       " 'HÄLLAN': ['Cabinets & cupboards', 1400.0, 'Jon Karlsson'],\n",
       " 'HACKÅS': ['Cabinets & cupboards', 50.0, 'J Löfgren/J Pettersson']}"
      ]
     },
     "execution_count": 6,
     "metadata": {},
     "output_type": "execute_result"
    }
   ],
   "source": [
    "refined_selection = remove_designer(ikea_dict, 'Cabinets & cupboards', 'Eva Lilja Löwenhielm')\n",
    "refined_selection"
   ]
  },
  {
   "cell_type": "markdown",
   "id": "f257a53d",
   "metadata": {},
   "source": [
    "Taking a look at our new dictionary shows that her designs are removed! We can double check this by computing length and making sure those two entries are gone. "
   ]
  },
  {
   "cell_type": "code",
   "execution_count": 7,
   "id": "e129064e",
   "metadata": {},
   "outputs": [
    {
     "name": "stdout",
     "output_type": "stream",
     "text": [
      "14\n",
      "12\n"
     ]
    }
   ],
   "source": [
    "print(len(selection))\n",
    "print(len(refined_selection))"
   ]
  },
  {
   "cell_type": "markdown",
   "id": "3c86a5f2",
   "metadata": {},
   "source": [
    "<hr style=\"border:2px solid gray\"> </hr>\n",
    "\n",
    "### Now you try! \n",
    "\n",
    "What if the client wants to make sure the design was from a specific designer? Create a function named `select_designer` that takes input arguments `catalog`, `product_type`, and `designer_to_select`. Have it return a `refined_selection` that includes **only** designs from the input designer name. \n",
    "\n",
    "Use the function to print all `Cabinets & cupboards` designed in-house by `IKEA of Sweden`. "
   ]
  },
  {
   "cell_type": "code",
   "execution_count": 8,
   "id": "a023eb2b",
   "metadata": {},
   "outputs": [
    {
     "data": {
      "text/plain": [
       "{'BRUSALI': ['Cabinets & cupboards', 595.0, 'IKEA of Sweden'],\n",
       " 'DETOLF': ['Cabinets & cupboards', 295.0, 'IKEA of Sweden'],\n",
       " 'UPPLEVA': ['Cabinets & cupboards', 145.0, 'IKEA of Sweden'],\n",
       " 'ROTHULT': ['Cabinets & cupboards', 95.0, 'IKEA of Sweden'],\n",
       " 'HAVSTA': ['Cabinets & cupboards', 4770.0, 'IKEA of Sweden']}"
      ]
     },
     "execution_count": 8,
     "metadata": {},
     "output_type": "execute_result"
    }
   ],
   "source": [
    "### BEGIN SOLUTION \n",
    "\n",
    "def select_designer(catalog, product_type, designer_to_select):\n",
    "    selection = find_products(catalog, product_type)\n",
    "    refined_selection = {key: val for key, val in selection.items() if designer_to_select in val}\n",
    "    return refined_selection\n",
    "\n",
    "select_designer(ikea_dict, 'Cabinets & cupboards', 'IKEA of Sweden')\n",
    "\n",
    "### END SOLUTION "
   ]
  },
  {
   "cell_type": "markdown",
   "id": "2979b3ad",
   "metadata": {},
   "source": [
    "<hr style=\"border:2px solid gray\"> </hr>\n",
    "\n",
    "Finally, we want to be able to filter by pricepoint. Our client will let us know their budget so we want to be able to filter our `refined_selection` to account for this. We use a for loop to pass through each key in our list of keys, then use a conditional to see if the second value in the list (the price) is within the client's budget. If it is, add that to our `refined_selection` dictionary to be returned. "
   ]
  },
  {
   "cell_type": "code",
   "execution_count": 18,
   "id": "d4e254f5",
   "metadata": {},
   "outputs": [
    {
     "data": {
      "text/plain": [
       "{'LIXHULT': ['Cabinets & cupboards', 145.0, 'Jon Karlsson'],\n",
       " 'BRUSALI': ['Cabinets & cupboards', 595.0, 'IKEA of Sweden'],\n",
       " 'EDVALLA': ['Cabinets & cupboards', 25.0, 'Francis Cayouette'],\n",
       " 'DETOLF': ['Cabinets & cupboards', 295.0, 'IKEA of Sweden'],\n",
       " 'UPPLEVA': ['Cabinets & cupboards', 145.0, 'IKEA of Sweden'],\n",
       " 'ROTHULT': ['Cabinets & cupboards', 95.0, 'IKEA of Sweden'],\n",
       " 'SINDVIK': ['Cabinets & cupboards', 125.0, 'Marcus Arvonen'],\n",
       " 'HACKÅS': ['Cabinets & cupboards', 50.0, 'J Löfgren/J Pettersson']}"
      ]
     },
     "execution_count": 18,
     "metadata": {},
     "output_type": "execute_result"
    }
   ],
   "source": [
    "def filter_pricepoint(input_selection, max_price):\n",
    "    final_selection_keys = []\n",
    "    final_selection_vals = []\n",
    "    for key in list(input_selection.keys()):\n",
    "        val = input_selection[key]\n",
    "        if val[1] < max_price:\n",
    "            final_selection_keys.append(key)           \n",
    "            final_selection_vals.append(val)\n",
    "    final_selection = dict(zip(final_selection_keys, final_selection_vals))\n",
    "    return final_selection\n",
    "\n",
    "final_selection = filter_pricepoint(refined_selection, max_price = 600)\n",
    "final_selection"
   ]
  },
  {
   "cell_type": "markdown",
   "id": "8780544c",
   "metadata": {},
   "source": [
    "## Adding docstrings to our functions \n",
    "\n",
    "**Docstrings** are strings built into your functions that can be queried using the built in `help()` function. We can print the docstrings for one of python's built in functions, `enumerate`, like so:"
   ]
  },
  {
   "cell_type": "code",
   "execution_count": null,
   "id": "e4246b29",
   "metadata": {},
   "outputs": [],
   "source": [
    "help(enumerate)"
   ]
  },
  {
   "cell_type": "markdown",
   "id": "f85aecde",
   "metadata": {},
   "source": [
    "You'll see a few key features such as a summary of the function's use case, describing the input type/description for the function to work properly, and describing the expected outputs. \n",
    "\n",
    "We can implement these docstrings in our user-defined functions as well, making sure to include the same key properties. This is done using a string in triple quotation marks `\"\"\"` in the first line of the function. Let's add docstrings to the 3 functions we made earlier. We will also add some comments within the function to indicate what is happening at each step. You don't need to comment every single line, but its a good idea to comment out blocks that accomplish certain sub-steps. "
   ]
  },
  {
   "cell_type": "code",
   "execution_count": 23,
   "id": "15831fac",
   "metadata": {},
   "outputs": [],
   "source": [
    "def find_products(catalog, product_type):\n",
    "    '''\n",
    "    | Help on user-defined function find_products:\n",
    "    |\n",
    "    | This function takes inputs: \n",
    "    | - catalog - dictionary containing ikea catalog items\n",
    "    | - product_type - string containing product types in catalog (first item in dict value)\n",
    "    | \n",
    "    | This function returns:\n",
    "    | - new_dict - a dictionary containing only catalog items that match the input product_type\n",
    "    '''\n",
    "    # empty list to fill with items \n",
    "    selected_keys = []\n",
    "    selected_vals = []\n",
    "    # loop through each key \n",
    "    for key in catalog:\n",
    "    # for each key, find the values \n",
    "        val = catalog[key]\n",
    "        # check if the item category is in the values\n",
    "        # if it is, add it to our selection list\n",
    "        if product_type in val[0]:\n",
    "            selected_keys.append(key)\n",
    "            selected_vals.append(val)\n",
    "    # make new dict to return \n",
    "    new_dict = dict(zip(selected_keys, selected_vals))\n",
    "    # return our list \n",
    "    return new_dict\n",
    "\n",
    "def remove_designer(catalog, product_type, designer_to_exclude):\n",
    "    '''\n",
    "    | Help on user-defined function remove_designer:\n",
    "    |\n",
    "    | This function takes inputs: \n",
    "    | - catalog - dictionary containing ikea catalog items\n",
    "    | - product_type - string containing product types in catalog (first item in dict value)\n",
    "    | - designer_to_exclude - string containing name of designer we want to remove from selection \n",
    "    | \n",
    "    | This function returns:\n",
    "    | - final_selection - a dictionary containing only catalog items that match the input product_type \n",
    "    | AND does NOT include designer_to_exclude\n",
    "    '''\n",
    "    # run find_products, nested function \n",
    "    selection = find_products(catalog, product_type)\n",
    "    # exclude designer in selection\n",
    "    refined_selection = {key: val for key, val in selection.items() if designer_to_exclude not in val}\n",
    "    return refined_selection\n",
    "\n",
    "def filter_pricepoint(input_selection, max_price):\n",
    "    '''\n",
    "    | Help on user-defined function filter_pricepoint:\n",
    "    |\n",
    "    | This function takes inputs: \n",
    "    | - input_selection - dictionary containing ikea catalog items. can be original catalog dictionary or\n",
    "    | filtered `refined_selection` dict from find_products, remove_designer, or other. \n",
    "    | - max_price - int or float indicating max budget. funciton will keep everything < this value. \n",
    "    | \n",
    "    | This function returns:\n",
    "    | - final_selection - a dictionary containing only catalog items that match the input product_type \n",
    "    | AND does NOT include designer_to_exclude\n",
    "    '''\n",
    "    # empty lists to fill with keys & vals we keep \n",
    "    final_selection_keys = []\n",
    "    final_selection_vals = []\n",
    "    # loop through keys, get vals \n",
    "    for key in list(input_selection.keys()):\n",
    "        val = input_selection[key]\n",
    "        # if within budget add keys & vals to list\n",
    "        if val[1] < max_price:\n",
    "            input_selection_keys.append(key)           \n",
    "            input_selection_vals.append(val)\n",
    "    # zip lists into a new dictionary \n",
    "    final_selection = dict(zip(final_selection_keys, final_selection_vals))\n",
    "    return final_selection"
   ]
  },
  {
   "cell_type": "code",
   "execution_count": 24,
   "id": "fd91acce",
   "metadata": {},
   "outputs": [
    {
     "name": "stdout",
     "output_type": "stream",
     "text": [
      "Help on function find_products in module __main__:\n",
      "\n",
      "find_products(catalog, product_type)\n",
      "    | Help on user-defined function find_products:\n",
      "    |\n",
      "    | This function takes inputs: \n",
      "    | - catalog - dictionary containing ikea catalog items\n",
      "    | - product_type - string containing product types in catalog (first item in dict value)\n",
      "    | \n",
      "    | This function returns:\n",
      "    | - new_dict - a dictionary containing only catalog items that match the input product_type\n",
      "\n"
     ]
    }
   ],
   "source": [
    "help(find_products)"
   ]
  },
  {
   "cell_type": "code",
   "execution_count": 25,
   "id": "e2acd434",
   "metadata": {},
   "outputs": [
    {
     "name": "stdout",
     "output_type": "stream",
     "text": [
      "Help on function remove_designer in module __main__:\n",
      "\n",
      "remove_designer(catalog, product_type, designer_to_exclude)\n",
      "    | Help on user-defined function remove_designer:\n",
      "    |\n",
      "    | This function takes inputs: \n",
      "    | - catalog - dictionary containing ikea catalog items\n",
      "    | - product_type - string containing product types in catalog (first item in dict value)\n",
      "    | - designer_to_exclude - string containing name of designer we want to remove from selection \n",
      "    | \n",
      "    | This function returns:\n",
      "    | - final_selection - a dictionary containing only catalog items that match the input product_type \n",
      "    | AND does NOT include designer_to_exclude\n",
      "\n"
     ]
    }
   ],
   "source": [
    "help(remove_designer)"
   ]
  },
  {
   "cell_type": "code",
   "execution_count": 26,
   "id": "a87eb2ad",
   "metadata": {},
   "outputs": [
    {
     "name": "stdout",
     "output_type": "stream",
     "text": [
      "Help on function filter_pricepoint in module __main__:\n",
      "\n",
      "filter_pricepoint(input_selection, max_price)\n",
      "    | Help on user-defined function filter_pricepoint:\n",
      "    |\n",
      "    | This function takes inputs: \n",
      "    | - input_selection - dictionary containing ikea catalog items. can be original catalog dictionary or\n",
      "    | filtered `refined_selection` dict from find_products, remove_designer, or other. \n",
      "    | - max_price - int or float indicating max budget. funciton will keep everything < this value. \n",
      "    | \n",
      "    | This function returns:\n",
      "    | - final_selection - a dictionary containing only catalog items that match the input product_type \n",
      "    | AND does NOT include designer_to_exclude\n",
      "\n"
     ]
    }
   ],
   "source": [
    "help(filter_pricepoint)"
   ]
  },
  {
   "cell_type": "markdown",
   "id": "a2aa136a",
   "metadata": {},
   "source": [
    "<hr style=\"border:2px solid gray\"> </hr>\n",
    "\n",
    "### Now you try! \n",
    "\n",
    "Add docstrings for the `select_designer` function you created earlier. Print the docstring using `help()`. "
   ]
  },
  {
   "cell_type": "code",
   "execution_count": 30,
   "id": "8c660a6f",
   "metadata": {},
   "outputs": [
    {
     "name": "stdout",
     "output_type": "stream",
     "text": [
      "Help on function select_designer in module __main__:\n",
      "\n",
      "select_designer(catalog, product_type, designer_to_select)\n",
      "    | Help on user-defined function select_designer:\n",
      "    |\n",
      "    | This function takes inputs: \n",
      "    | - catalog - dictionary containing ikea catalog items\n",
      "    | - product_type - string containing product types in catalog (first item in dict value)\n",
      "    | - designer_to_select - string containing name of designer we want to keep (exclude every other designer)\n",
      "    | \n",
      "    | This function returns:\n",
      "    | - refined_selection - a dictionary containing only catalog items that match the input product_type \n",
      "    | AND is designed by designer_to_select\n",
      "\n"
     ]
    }
   ],
   "source": [
    "### BEGIN SOLUTION \n",
    "\n",
    "def select_designer(catalog, product_type, designer_to_select):\n",
    "    '''    \n",
    "    | Help on user-defined function select_designer:\n",
    "    |\n",
    "    | This function takes inputs: \n",
    "    | - catalog - dictionary containing ikea catalog items\n",
    "    | - product_type - string containing product types in catalog (first item in dict value)\n",
    "    | - designer_to_select - string containing name of designer we want to keep (exclude every other designer)\n",
    "    | \n",
    "    | This function returns:\n",
    "    | - refined_selection - a dictionary containing only catalog items that match the input product_type \n",
    "    | AND is designed by designer_to_select\n",
    "    '''\n",
    "    selection = find_products(catalog, product_type)\n",
    "    refined_selection = {key: val for key, val in selection.items() if designer_to_select in val}\n",
    "    return refined_selection\n",
    "\n",
    "help(select_designer)\n",
    "\n",
    "### END SOLUTION "
   ]
  },
  {
   "cell_type": "markdown",
   "id": "df5fd4ad",
   "metadata": {},
   "source": [
    "<hr style=\"border:2px solid gray\"> </hr>\n",
    "\n",
    "## Packaging a set of functions into a module\n",
    "\n",
    "A **module** is a set of definitions/functions pacakged into a script that can be called into any workspace. This is simply a `.py` file that contains our function definitions. For example a module called `ikea_functions.py` could be called in using `import ikea_functions`. The syntax is the same as when we import other packages such as pandas or matplotlib. \n",
    "\n",
    "Let's create a module called `ikea_functions` that contains all the functions we defined. You can do this in a text editor where you simply name the file `ikea_functions.py` or you can use the method below to write a file directly from jupyter:"
   ]
  },
  {
   "cell_type": "code",
   "execution_count": 42,
   "id": "b2cd55ef",
   "metadata": {},
   "outputs": [
    {
     "name": "stdout",
     "output_type": "stream",
     "text": [
      "Overwriting ikea_functions.py\n"
     ]
    }
   ],
   "source": [
    "%%writefile ikea_functions.py\n",
    "\n",
    "def find_products(catalog, product_type):\n",
    "    '''\n",
    "    | Help on user-defined function find_products:\n",
    "    |\n",
    "    | This function takes inputs: \n",
    "    | - catalog - dictionary containing ikea catalog items\n",
    "    | - product_type - string containing product types in catalog (first item in dict value)\n",
    "    | \n",
    "    | This function returns:\n",
    "    | - new_dict - a dictionary containing only catalog items that match the input product_type\n",
    "    '''\n",
    "    # empty list to fill with items \n",
    "    selected_keys = []\n",
    "    selected_vals = []\n",
    "    # loop through each key \n",
    "    for key in catalog:\n",
    "    # for each key, find the values \n",
    "        val = catalog[key]\n",
    "        # check if the item category is in the values\n",
    "        # if it is, add it to our selection list\n",
    "        if product_type in val[0]:\n",
    "            selected_keys.append(key)\n",
    "            selected_vals.append(val)\n",
    "    # make new dict to return \n",
    "    new_dict = dict(zip(selected_keys, selected_vals))\n",
    "    # return our list \n",
    "    return new_dict\n",
    "\n",
    "def remove_designer(catalog, product_type, designer_to_exclude):\n",
    "    '''\n",
    "    | Help on user-defined function remove_designer:\n",
    "    |\n",
    "    | This function takes inputs: \n",
    "    | - catalog - dictionary containing ikea catalog items\n",
    "    | - product_type - string containing product types in catalog (first item in dict value)\n",
    "    | - designer_to_exclude - string containing name of designer we want to remove from selection \n",
    "    | \n",
    "    | This function returns:\n",
    "    | - final_selection - a dictionary containing only catalog items that match the input product_type \n",
    "    | AND does NOT include designer_to_exclude\n",
    "    '''\n",
    "    # run find_products, nested function \n",
    "    selection = find_products(catalog, product_type)\n",
    "    # exclude designer in selection\n",
    "    refined_selection = {key: val for key, val in selection.items() if designer_to_exclude not in val}\n",
    "    return refined_selection\n",
    "\n",
    "def filter_pricepoint(input_selection, max_price):\n",
    "    '''\n",
    "    | Help on user-defined function filter_pricepoint:\n",
    "    |\n",
    "    | This function takes inputs: \n",
    "    | - input_selection - dictionary containing ikea catalog items. can be original catalog dictionary or\n",
    "    | filtered `refined_selection` dict from find_products, remove_designer, or other. \n",
    "    | - max_price - int or float indicating max budget. funciton will keep everything < this value. \n",
    "    | \n",
    "    | This function returns:\n",
    "    | - final_selection - a dictionary containing only catalog items that match the input product_type \n",
    "    | AND does NOT include designer_to_exclude\n",
    "    '''\n",
    "    # empty lists to fill with keys & vals we keep \n",
    "    final_selection_keys = []\n",
    "    final_selection_vals = []\n",
    "    # loop through keys, get vals \n",
    "    for key in list(input_selection.keys()):\n",
    "        val = input_selection[key]\n",
    "        # if within budget add keys & vals to list\n",
    "        if val[1] < max_price:\n",
    "            input_selection_keys.append(key)           \n",
    "            input_selection_vals.append(val)\n",
    "    # zip lists into a new dictionary \n",
    "    final_selection = dict(zip(final_selection_keys, final_selection_vals))\n",
    "    return final_selection\n",
    "\n",
    "def select_designer(catalog, product_type, designer_to_select):\n",
    "    '''    \n",
    "    | Help on user-defined function select_designer:\n",
    "    |\n",
    "    | This function takes inputs: \n",
    "    | - catalog - dictionary containing ikea catalog items\n",
    "    | - product_type - string containing product types in catalog (first item in dict value)\n",
    "    | - designer_to_select - string containing name of designer we want to keep (exclude every other designer)\n",
    "    | \n",
    "    | This function returns:\n",
    "    | - refined_selection - a dictionary containing only catalog items that match the input product_type \n",
    "    | AND is designed by designer_to_select\n",
    "    '''\n",
    "    selection = find_products(catalog, product_type)\n",
    "    refined_selection = {key: val for key, val in selection.items() if designer_to_select in val}\n",
    "    return refined_selection\n",
    "\n"
   ]
  },
  {
   "cell_type": "markdown",
   "id": "0384fbbc",
   "metadata": {},
   "source": [
    "Let's clear our variable space, import our module using `import ikea_functions` & re-load our ikea file to test this. "
   ]
  },
  {
   "cell_type": "code",
   "execution_count": 55,
   "id": "229b2b22",
   "metadata": {},
   "outputs": [
    {
     "name": "stdout",
     "output_type": "stream",
     "text": [
      "Once deleted, variables cannot be recovered. Proceed (y/[n])? y\n"
     ]
    }
   ],
   "source": [
    "# reset variables space \n",
    "# run this then type 'y' when prompted\n",
    "%reset"
   ]
  },
  {
   "cell_type": "code",
   "execution_count": 59,
   "id": "160e6123",
   "metadata": {},
   "outputs": [
    {
     "data": {
      "text/plain": [
       "['__builtins__',\n",
       " '__cached__',\n",
       " '__doc__',\n",
       " '__file__',\n",
       " '__loader__',\n",
       " '__name__',\n",
       " '__package__',\n",
       " '__spec__',\n",
       " 'filter_pricepoint',\n",
       " 'find_products',\n",
       " 'remove_designer',\n",
       " 'select_designer']"
      ]
     },
     "execution_count": 59,
     "metadata": {},
     "output_type": "execute_result"
    }
   ],
   "source": [
    "# reload file\n",
    "import pickle\n",
    "ikea_dict = pickle.load(open('ikea.pkl', \"rb\"))\n",
    "\n",
    "# import the entire module \n",
    "import ikea_functions\n",
    "\n",
    "# and use dir to print all functions within the module \n",
    "dir(ikea_functions)"
   ]
  },
  {
   "cell_type": "markdown",
   "id": "bd054fd0",
   "metadata": {},
   "source": [
    "You see above that our four functions are listed within the new `ikea_functions` we imported! We can access a particular function using dot notation like this: "
   ]
  },
  {
   "cell_type": "code",
   "execution_count": 60,
   "id": "c261a114",
   "metadata": {},
   "outputs": [
    {
     "data": {
      "text/plain": [
       "{'PLATSA': ['Beds', 2163.5, 'IKEA of Sweden'],\n",
       " 'BRENNÅSEN': ['Beds', 30.0, 'Ola Wihlborg'],\n",
       " 'LAUVIK': ['Beds', 2425.0, 'Synnöve Mork/Ola Wihlborg/IKEA of Sweden'],\n",
       " 'MALM': ['Beds', 1595.0, 'Eva Lilja Löwenhielm'],\n",
       " 'LYCKSELE HÅVET': ['Beds', 795.0, 'IKEA of Sweden'],\n",
       " 'SULTAN': ['Beds', 50.0, 'IKEA of Sweden'],\n",
       " 'DELAKTIG': ['Beds', 200.0, 'Tom Dixon'],\n",
       " 'VITVAL': ['Beds', 295.0, 'Tord Björklund'],\n",
       " 'LIDHULT': ['Beds', 5553.0, 'IKEA of Sweden/Henrik Preutz'],\n",
       " 'TUFFING': ['Beds', 645.0, 'IKEA of Sweden'],\n",
       " 'VIKARE': ['Beds', 95.0, 'IKEA of Sweden'],\n",
       " 'GULLIVER': ['Beds', 595.0, 'IKEA of Sweden']}"
      ]
     },
     "execution_count": 60,
     "metadata": {},
     "output_type": "execute_result"
    }
   ],
   "source": [
    "ikea_functions.find_products(ikea_dict, 'Beds')"
   ]
  },
  {
   "cell_type": "markdown",
   "id": "5196d97a",
   "metadata": {},
   "source": [
    "We could also import only a single function from the module & use it, like so: "
   ]
  },
  {
   "cell_type": "code",
   "execution_count": 61,
   "id": "63dc9f13",
   "metadata": {},
   "outputs": [
    {
     "data": {
      "text/plain": [
       "{'PLATSA': ['Beds', 2163.5, 'IKEA of Sweden'],\n",
       " 'BRENNÅSEN': ['Beds', 30.0, 'Ola Wihlborg'],\n",
       " 'LAUVIK': ['Beds', 2425.0, 'Synnöve Mork/Ola Wihlborg/IKEA of Sweden'],\n",
       " 'MALM': ['Beds', 1595.0, 'Eva Lilja Löwenhielm'],\n",
       " 'LYCKSELE HÅVET': ['Beds', 795.0, 'IKEA of Sweden'],\n",
       " 'SULTAN': ['Beds', 50.0, 'IKEA of Sweden'],\n",
       " 'DELAKTIG': ['Beds', 200.0, 'Tom Dixon'],\n",
       " 'VITVAL': ['Beds', 295.0, 'Tord Björklund'],\n",
       " 'LIDHULT': ['Beds', 5553.0, 'IKEA of Sweden/Henrik Preutz'],\n",
       " 'TUFFING': ['Beds', 645.0, 'IKEA of Sweden'],\n",
       " 'VIKARE': ['Beds', 95.0, 'IKEA of Sweden'],\n",
       " 'GULLIVER': ['Beds', 595.0, 'IKEA of Sweden']}"
      ]
     },
     "execution_count": 61,
     "metadata": {},
     "output_type": "execute_result"
    }
   ],
   "source": [
    "from ikea_functions import find_products\n",
    "\n",
    "find_products(ikea_dict, 'Beds')"
   ]
  },
  {
   "cell_type": "markdown",
   "id": "522642f9",
   "metadata": {},
   "source": [
    "See that our docstrings can be printed too! "
   ]
  },
  {
   "cell_type": "code",
   "execution_count": 62,
   "id": "936b29ba",
   "metadata": {},
   "outputs": [
    {
     "name": "stdout",
     "output_type": "stream",
     "text": [
      "Help on function remove_designer in module ikea_functions:\n",
      "\n",
      "remove_designer(catalog, product_type, designer_to_exclude)\n",
      "    | Help on user-defined function remove_designer:\n",
      "    |\n",
      "    | This function takes inputs: \n",
      "    | - catalog - dictionary containing ikea catalog items\n",
      "    | - product_type - string containing product types in catalog (first item in dict value)\n",
      "    | - designer_to_exclude - string containing name of designer we want to remove from selection \n",
      "    | \n",
      "    | This function returns:\n",
      "    | - final_selection - a dictionary containing only catalog items that match the input product_type \n",
      "    | AND does NOT include designer_to_exclude\n",
      "\n"
     ]
    }
   ],
   "source": [
    "help(ikea_functions.remove_designer)"
   ]
  },
  {
   "cell_type": "markdown",
   "id": "45a8f015",
   "metadata": {},
   "source": [
    "Importing a module is a lot less cumbersome than redefining the function in every script you want to use it. This makes it easy to re-use functions in multiple scripts. If you make a change to a function in the module, it will carry through to every usage of the function thereafter, whereas if you were to have the function defined in multiple scripts it is likely you will forget to change every instance and the \"same\" function will behave differently in multiple scripts. \n",
    "\n",
    "It also makes it more easily shareable, as you can simply send one .py file to a colleage and they can import the functions you made. This way they will not have to hard code them themselves or copy/paste from a different script. The use of docstrings in your module functions allows you or a colleague to easily access documentation so you don't need to re-inspect the entire funtion to remember inputs, formats, etc. "
   ]
  },
  {
   "cell_type": "markdown",
   "id": "f60c8236",
   "metadata": {},
   "source": [
    "# Practice on your own \n",
    "\n"
   ]
  }
 ],
 "metadata": {
  "kernelspec": {
   "display_name": "Python 3",
   "language": "python",
   "name": "python3"
  },
  "language_info": {
   "codemirror_mode": {
    "name": "ipython",
    "version": 3
   },
   "file_extension": ".py",
   "mimetype": "text/x-python",
   "name": "python",
   "nbconvert_exporter": "python",
   "pygments_lexer": "ipython3",
   "version": "3.8.8"
  }
 },
 "nbformat": 4,
 "nbformat_minor": 5
}
