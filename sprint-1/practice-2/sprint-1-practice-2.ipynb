{
 "cells": [
  {
   "cell_type": "markdown",
   "id": "a26b7a7a",
   "metadata": {},
   "source": [
    "# Loops\n",
    "\n",
    "You'll very often want to repeat the same process/code block multiple times, and for this **looping** is very helpful. This is called **iteration** and is the repitition of some process, where each repitition is a single iteration. When you know how many times you want to repeat the process, you use a **for loop** & if you don't know how many times you want to repeat, you use a **while loop**. \n",
    "\n",
    "## While loops to read in files \n",
    "\n",
    "A common application of a **while loop** is when we want to read in a text file line by line. You initiate the while loop, `open` the file & naming it (typically `f`) in your variable space. The while loop will read in the file line by line, by repeating the same `.readlines()` action on each line. Each line can then be recursively added to a list you create. \n",
    "\n",
    "The reason this is done with a while loop is because you don't need to know how many lines are in the file, it will repeat the process until you run out of lines in the file, then break the loop.\n",
    "\n",
    "Let's import the files `taxi_driver_actors.txt` and `taxi_driver_roles.txt` which contain a subset of movie credit data obtained from Netflix, found [here](https://www.kaggle.com/datasets/victorsoeiro/netflix-tv-shows-and-movies?resource=download), for the 1976 movie 'Taxi Driver' starring Robert De Niro. "
   ]
  },
  {
   "cell_type": "code",
   "execution_count": null,
   "id": "5da54f02",
   "metadata": {},
   "outputs": [],
   "source": [
    "# read in a text file line by line \n",
    "with open('taxi_driver_actors.txt') as f:    # open the text file into a new variable named `f`\n",
    "    actors_init = f.readlines()                   # use `readlines()` to save the file into a variable named `actors`\n",
    "\n",
    "with open('taxi_driver_roles.txt') as f:\n",
    "    roles_init = f.readlines()"
   ]
  },
  {
   "cell_type": "code",
   "execution_count": null,
   "id": "cc4aea27",
   "metadata": {},
   "outputs": [],
   "source": [
    "print(actors_init)"
   ]
  },
  {
   "cell_type": "code",
   "execution_count": null,
   "id": "ec2932f2",
   "metadata": {},
   "outputs": [],
   "source": [
    "print(roles_init)"
   ]
  },
  {
   "cell_type": "markdown",
   "id": "a35b178d",
   "metadata": {},
   "source": [
    "## Using a for loop to make a change to every item in the list \n",
    "\n",
    "You may have noticed that after each name/role in the lists above, there is a `\\n`. This is called a  'newline' & it indicates the end of a line in the text file. \n",
    "\n",
    "We want to remove this because it really isn't part of the string, it's just an artifact of reading in the text file. We can use `.replace()` on each string to replace `\\n` in our string with '' (nothing), thereby removing it. Another option is `.strip()` which removes spaces at the beginning and end of a string, which works in this case python recognizes `\\n` as whitespace. Both methods are included in the cell below for demonstration of syntax, but we will only use one & comment out the other for now. \n",
    "\n",
    "We will use a **for loop** to demonstrate applying the change to each element in our list, which we call `a`. We will also nest this in a function so we can use it later. "
   ]
  },
  {
   "cell_type": "code",
   "execution_count": null,
   "id": "32dc6444",
   "metadata": {},
   "outputs": [],
   "source": [
    "def strip_newlines_actors(init_list):\n",
    "    actors = []\n",
    "    for a in init_list:\n",
    "        #new_string = a.strip()\n",
    "        new_string = a.replace('\\n', '')\n",
    "        actors.append(new_string)\n",
    "    return actors\n",
    "\n",
    "\n",
    "actors = strip_newlines_actors(actors_init)\n",
    "actors"
   ]
  },
  {
   "cell_type": "markdown",
   "id": "4b2e73e9",
   "metadata": {},
   "source": [
    "<hr style=\"border:2px solid gray\"> </hr>\n",
    "\n",
    "### Now you try! \n",
    "\n",
    "Alter the for loop above to strip the newline from the `roles_init` list. Save the altered strings in a new list called `roles`. No need to turn this into a function. "
   ]
  },
  {
   "cell_type": "code",
   "execution_count": null,
   "id": "344382e1",
   "metadata": {},
   "outputs": [],
   "source": [
    "### BEGIN SOLUTION \n",
    "\n",
    "roles = []\n",
    "for r in roles_init:\n",
    "    new_string = r.strip()\n",
    "    roles.append(new_string)\n",
    "\n",
    "### END SOLUTION "
   ]
  },
  {
   "cell_type": "markdown",
   "id": "209661b8",
   "metadata": {},
   "source": [
    "<hr style=\"border:2px solid gray\"> </hr>\n",
    "\n",
    "## Using `enumerate` to add counters to your loops \n",
    "\n",
    "Python's built in `enumerate` function allows us to sequentially number items in a collection as we loop through them. It creates a \"counter\" in your loop so we can index each value. \n",
    "\n",
    "The `enumerate` function returns the **iteration count** and the **value** of each iteration when looping through a collection! Syntax is as follows:\n",
    "\n",
    "        for index, value in enumerate(iterator):\n",
    "            (do something)  \n",
    "\n",
    "You'll notice that there are **two** things returned for every pass of the loop. Order matters here! You can replace `index` and `value` in the code above with any variable names you want, but the first will always be the **count** and the second will always be the **value**. \n",
    "\n",
    "\n",
    "Let's make a for loop that uses `enumerate` to pass each element in our iterable list, `roles`. We will use a conditional to have the loop print the index & value when we reach a certain desired value, `Doughboy`. "
   ]
  },
  {
   "cell_type": "code",
   "execution_count": null,
   "id": "8eace99d",
   "metadata": {},
   "outputs": [],
   "source": [
    "for i, r in enumerate(roles): \n",
    "    if r == 'Doughboy':\n",
    "        print(i, r)"
   ]
  },
  {
   "cell_type": "markdown",
   "id": "6e396b04",
   "metadata": {},
   "source": [
    "So using enumerate, we found that the character named \"Doughboy\" is number 19 in the roles list. We know that the roles & actors list follow the same ordering, meaning the indecies between the two are consistent. So we can alter the loop above to find the actor that plays Doughboy & print out a statement. "
   ]
  },
  {
   "cell_type": "code",
   "execution_count": null,
   "id": "ef1a7d20",
   "metadata": {},
   "outputs": [],
   "source": [
    "for i, r in enumerate(roles): \n",
    "    if r == 'Doughboy':\n",
    "        doughboy_actor = actors[i]\n",
    "        print(doughboy_actor + ' plays Doughboy in Taxi Driver')"
   ]
  },
  {
   "cell_type": "markdown",
   "id": "0a222824",
   "metadata": {},
   "source": [
    "And we could even turn this into a function to to take the input of any role in Taxi Driver, and give us our statement! "
   ]
  },
  {
   "cell_type": "code",
   "execution_count": null,
   "id": "8fb0fcba",
   "metadata": {},
   "outputs": [],
   "source": [
    "def get_actor(this_role):\n",
    "    for i, r in enumerate(roles): \n",
    "        if r == this_role:\n",
    "            this_actor = actors[i]\n",
    "            print(this_actor + ' plays ' + this_role + ' in Taxi Driver')\n",
    "        \n",
    "get_actor('Doughboy')\n",
    "get_actor('Iris\\' Time Keeper')\n",
    "get_actor('Betsy')"
   ]
  },
  {
   "cell_type": "markdown",
   "id": "0e97f559",
   "metadata": {},
   "source": [
    "<hr style=\"border:2px solid gray\"> </hr>\n",
    "\n",
    "### Now you try! \n",
    "\n",
    "Create a for loop using enumerate to find the index of actress Annie Gagen in our `actors` list. "
   ]
  },
  {
   "cell_type": "code",
   "execution_count": null,
   "id": "3805feca",
   "metadata": {},
   "outputs": [],
   "source": [
    "### BEGIN SOLUTION \n",
    "\n",
    "for i, a in enumerate(actors): \n",
    "    if a == 'Annie Gagen':\n",
    "        print (i, a)\n",
    "        \n",
    "### END SOLUTION "
   ]
  },
  {
   "cell_type": "markdown",
   "id": "8907b846",
   "metadata": {},
   "source": [
    "<hr style=\"border:2px solid gray\"> </hr>\n",
    "\n",
    "## List comprehension \n",
    "\n",
    "**List comprehensions** are a good way to condense your code in python, as they essentially allow us to write for loops in shorthand. List comprehensions allow us to quickly access each element in an iterable (list, tuple, ...) & act on them. \n",
    "\n",
    "The basic construction looks like this: \n",
    "\n",
    "        `new_list = [expression for element in iterable]`\n",
    "        \n",
    "Basically it is saying to go through each element in the iterable and to execute the expression. \n",
    "\n",
    "Let's create a list comprehension to do something to each element in our `actors` list. Say we want to print the name of each actor in all capital letters. "
   ]
  },
  {
   "cell_type": "code",
   "execution_count": null,
   "id": "08ba77ee",
   "metadata": {},
   "outputs": [],
   "source": [
    "actors_capital = [actor.upper() for actor in actors]\n",
    "actors_capital"
   ]
  },
  {
   "cell_type": "markdown",
   "id": "546aa594",
   "metadata": {},
   "source": [
    "Compare this one line to the amount of code that would be needed to write out the for loop in the tranditional way: \n",
    "\n",
    "        actors_capital = []\n",
    "        for actor in actors:\n",
    "            actor_caps = actor.upper()\n",
    "            actors_capital.append(actor_caps)\n",
    "            \n",
    "In general, accomplishing tasks like this is a lot more streamlined using a list comprehension as compared to a for loop! \n",
    "\n",
    "List comprehensions also make it very easy to add one or two **conditions** to your iteration. These are optional, but can allow you to skip over or isolate certain elements. Common uses of this are **if in** and **if is not**. \n",
    "\n",
    "Let's take a look at the **if in** case, where the task is executed on the element *only* if the element meets a certain condition.\n",
    "\n",
    "The following will pass through each `actor` in `actors`, and perform `actor.lower()` on the element **only if** the string contains 'Scorsese'. This will return a list that contains only elements that contain that string. "
   ]
  },
  {
   "cell_type": "code",
   "execution_count": null,
   "id": "348625b5",
   "metadata": {},
   "outputs": [],
   "source": [
    "scorsese_lower = [actor.upper() for actor in actors if 'Scorsese' in actor]\n",
    "scorsese_lower "
   ]
  },
  {
   "cell_type": "markdown",
   "id": "77cd3f2a",
   "metadata": {},
   "source": [
    "\n",
    "## Zipping lists \n",
    "\n",
    "One more handy thing we can do is use `zip` to combine two lists into one. Maybe rather than enumerate, we want to combine our actors and roles each into a single list. Note that the output of `zip()` is **not** the list itself, it is a `zip` object. We use `list()` to convert the output of `zip()` into our combined list. Each element in our new list is a **tuple**, which allows us to store multiple items in a single variable - so each element will contain our actor-role pairing."
   ]
  },
  {
   "cell_type": "code",
   "execution_count": null,
   "id": "c55ae9ed",
   "metadata": {},
   "outputs": [],
   "source": [
    "zipped = zip(actors, roles)\n",
    "zipped_list = list(zipped)\n",
    "zipped_list"
   ]
  },
  {
   "cell_type": "markdown",
   "id": "2fb65966",
   "metadata": {},
   "source": [
    "Using this method, we can recreate our function to print out our role-actor pairs without having to worry about indexing. "
   ]
  },
  {
   "cell_type": "code",
   "execution_count": null,
   "id": "3e434dcb",
   "metadata": {},
   "outputs": [],
   "source": [
    "def get_actor_from_zip(this_role):\n",
    "    for z in zipped_list: \n",
    "        if this_role in z:\n",
    "            print(z[0] + ' plays ' + z[1] + ' in Taxi Driver')\n",
    "            \n",
    "get_actor_from_zip('Charlie T')         "
   ]
  },
  {
   "attachments": {
    "image.png": {
     "image/png": "[encoded data removed]"
    }
   },
   "cell_type": "markdown",
   "id": "f34082a7",
   "metadata": {},
   "source": [
    "## Nesting loops \n",
    "\n",
    "Sometimes we will want to **nest** loops, which means putting one loop inside another. For each element in the outer loop, it will then act on each element in the inner loop. \n",
    "\n",
    "This can be a little confusing so the diagram below, from [here](https://www.faceprep.in/python/nested-loops-in-python/), should help. \n",
    "\n",
    "![image.png](attachment:image.png)\n",
    "\n",
    "Here is a basic example"
   ]
  },
  {
   "cell_type": "code",
   "execution_count": null,
   "id": "7930dee8",
   "metadata": {},
   "outputs": [],
   "source": [
    "list_a = ['a', 'b']\n",
    "list_b = [1, 2, 3]\n",
    "\n",
    "for a in list_a:\n",
    "    for b in list_b:\n",
    "        print(a + str(b))"
   ]
  },
  {
   "cell_type": "markdown",
   "id": "d477edca",
   "metadata": {},
   "source": [
    "For a more practical example, say we have a list, `multi_actors_list` where each element is another list. Each nested list is a list of actors, starring in the movies in `multi_movie_list`. First let's read in a bit more data and create our `multi_` lists. "
   ]
  },
  {
   "cell_type": "code",
   "execution_count": null,
   "id": "14c4499c",
   "metadata": {},
   "outputs": [],
   "source": [
    "# rename so we dont get confused \n",
    "taxidriver_actors = actors \n",
    "\n",
    "# read in new list with actors from the irishman \n",
    "with open('the_irishman_actors.txt') as f:    # open the text file into a new variable named `f`\n",
    "    irishman_actors_init = f.readlines()    \n",
    "irishman_actors = strip_newlines_actors(irishman_actors_init)\n",
    "\n",
    "# read in new list with actors from the awakening\n",
    "with open('awakenings_actors.txt') as f:    # open the text file into a new variable named `f`\n",
    "    awakening_actors_init = f.readlines()  \n",
    "awakening_actors = strip_newlines_actors(awakening_actors_init)\n",
    "\n",
    "# combine all in one large list \n",
    "multi_actors_list = [taxidriver_actors, irishman_actors, awakening_actors]\n",
    "multi_movie_list = ['Taxi Driver', 'The Irishman', 'Awakenings']"
   ]
  },
  {
   "cell_type": "markdown",
   "id": "c5f1954a",
   "metadata": {},
   "source": [
    "Now we want to create our nested for loop. The outer for loop will loop through each actors list in `multi_actors_list`, and enumerate the items. Using the `list_ind` index, we will find out the movie name from `multi_movie_list`. \n",
    "\n",
    "Then, the inner for loop will then loop through each actor in the list, and print a statement that tells us which movie they starred in. The counter from the outer loop tells us "
   ]
  },
  {
   "cell_type": "code",
   "execution_count": null,
   "id": "f2c7c95e",
   "metadata": {},
   "outputs": [],
   "source": [
    "for list_ind, list_val in enumerate(multi_actors_list):\n",
    "    movie_name = multi_movie_list[list_ind]\n",
    "    for actor in list_val:\n",
    "        print(actor + ' starred in ' + movie_name)\n",
    "        "
   ]
  },
  {
   "cell_type": "markdown",
   "id": "87873e61",
   "metadata": {},
   "source": [
    "## `iterrows` for looping & enumerating in pandas \n",
    "\n",
    "While we have been working with lists, it is likely you'll be using more complex data structures such as a Pandas dataframe.  We will create a few examples of this using a different file from Netflix, `titles.csv`. This is a large file so we will only read in the first 100 rows for this exercise. "
   ]
  },
  {
   "cell_type": "code",
   "execution_count": null,
   "id": "fa129af1",
   "metadata": {},
   "outputs": [],
   "source": [
    "import pandas as pd \n",
    "titles = pd.read_csv(\"titles_edit.csv\", nrows=100)\n",
    "titles.head()"
   ]
  },
  {
   "cell_type": "markdown",
   "id": "38ae2c73",
   "metadata": {},
   "source": [
    "Let's create a nested loop where we 1) use a for loop to pass through each row in our dataframe, 2) use a while loop to print something whenever the condition is true. \n",
    "\n",
    "Since we're working with a dataframe now, we can use `df.iterrows()` which acts exactly like enumerate, except instead of every element it returns & numbers each **row** in our dataframe. First let's demonstrate how `.iterrows()` works. Here we will loop through each row, and when the created index is 5, print the row's values. "
   ]
  },
  {
   "cell_type": "code",
   "execution_count": null,
   "id": "3a896f77",
   "metadata": {},
   "outputs": [],
   "source": [
    "for index, row in titles.iterrows():\n",
    "    if index == 5:\n",
    "        print(index, row)"
   ]
  },
  {
   "cell_type": "markdown",
   "id": "d1367d1e",
   "metadata": {},
   "source": [
    "And here is another example where we go through each row, and only print the title value in the row **if** the imdb score is greater than 8. "
   ]
  },
  {
   "cell_type": "code",
   "execution_count": null,
   "id": "46861e4f",
   "metadata": {},
   "outputs": [],
   "source": [
    "for index, row in titles.iterrows():\n",
    "    if row.imdb_score > 8:\n",
    "        print(index, row.title)"
   ]
  },
  {
   "cell_type": "markdown",
   "id": "f0365a2b",
   "metadata": {},
   "source": [
    "# Practice on your own \n",
    "\n",
    "For this practice we will use the `titles` dataframe, which we imported above. "
   ]
  },
  {
   "cell_type": "code",
   "execution_count": null,
   "id": "cffe6f90",
   "metadata": {},
   "outputs": [],
   "source": [
    "titles.head()"
   ]
  },
  {
   "cell_type": "markdown",
   "id": "f47f0641",
   "metadata": {},
   "source": [
    "#### Exercise 1. Isolate the values in the `production_countries` column, and save it to a new list called `country`. Use a for loop to pass through each item in the list and remove the square bracket and parentheses from the string (e.g. \"['US']\" becomes 'US'). Create a new list called `countries_fixed` with the results. \n"
   ]
  },
  {
   "cell_type": "code",
   "execution_count": null,
   "id": "a3feea66",
   "metadata": {},
   "outputs": [],
   "source": [
    "### BEGIN SOLUTION \n",
    "\n",
    "# isolate column \n",
    "country = titles.production_countries.values\n",
    "\n",
    "# loop & fix \n",
    "countries_fixed = []\n",
    "for c in country:\n",
    "    c_new = c[2:-2]\n",
    "    countries_fixed.append(c_new)\n",
    "\n",
    "# check \n",
    "countries_fixed[0:10]\n",
    "\n",
    "### END SOLUTION "
   ]
  },
  {
   "cell_type": "markdown",
   "id": "7df8c392",
   "metadata": {},
   "source": [
    "#### Exercise 2. Create a list named `movie_title` using: `movie_title = titles.title.values`. Then, use a for loop to pass through & add a counter to each element in the `countries_fixed` list. If the element contains `FR`, use the index to print the name of the movie. `movie_title` and `countries_fixed`  have the same indexing. "
   ]
  },
  {
   "cell_type": "code",
   "execution_count": null,
   "id": "69fa4e28",
   "metadata": {},
   "outputs": [],
   "source": [
    "### BEGIN SOLUTION \n",
    "\n",
    "movie_title = titles.title.values\n",
    "\n",
    "for ind, country in enumerate(countries_fixed):\n",
    "    if country == 'FR':\n",
    "        print(movie_title[ind])\n",
    "\n",
    "### END SOLUTION "
   ]
  },
  {
   "cell_type": "markdown",
   "id": "d9a920cc",
   "metadata": {},
   "source": [
    "#### Exercise 3. Zip together `movie_title` and `countries_fixed` into a single list of tuples. Print the first 10 tuples. "
   ]
  },
  {
   "cell_type": "code",
   "execution_count": null,
   "id": "b21b3260",
   "metadata": {},
   "outputs": [],
   "source": [
    "### BEGIN SOLUTION \n",
    "\n",
    "zipped = zip(movie_title, countries_fixed)\n",
    "zipped_list = list(zipped)\n",
    "zipped_list[0:10]\n",
    "\n",
    "### END SOLUTION "
   ]
  },
  {
   "cell_type": "markdown",
   "id": "99b3c43a",
   "metadata": {},
   "source": [
    "#### Exercise 4. Using list comprehension, create a list called `movie_type` that contains the values of the `type` column in lowercase letters. "
   ]
  },
  {
   "cell_type": "code",
   "execution_count": null,
   "id": "be055c14",
   "metadata": {},
   "outputs": [],
   "source": [
    "### BEGIN SOLUTION \n",
    "\n",
    "movie_type = [t.lower() for t in titles.type.values]\n",
    "movie_type[:10]\n",
    "### END SOLUTION "
   ]
  },
  {
   "cell_type": "markdown",
   "id": "c4dc6b51",
   "metadata": {},
   "source": [
    "#### Exercise 5. Run the cell block below to create a new list called `genres_fixed`. This removes the square brackets & quotations like we did with `countries_fixed`, but this time there can be more than one genre. `genre_fixed` is a list of sub-lists, where some sub-lists have more than one element. \n",
    "\n",
    "#### We want to find out how many times the `fantasy` genre comes up as either a primary or secondary genre. Create a counter that will count how many times `fantasy` is found in each sub-list. Do this by using a nested for loop where the outer loop passes through each sub-list in `genres_fixed`, and the inner loop passes through each element in the sub-list. Every time the sub-list element is  `fantasy`, add 1 to a new empty list called `all_instances`. The sum of `all_instances` will be the total number of times `fantasy` was listed in `genres_fixed`. "
   ]
  },
  {
   "cell_type": "code",
   "execution_count": null,
   "id": "5569f790",
   "metadata": {},
   "outputs": [],
   "source": [
    "genres = titles.genres.values\n",
    "\n",
    "genres_fixed = []\n",
    "for g in genres:\n",
    "    comma_count = g.count(',')\n",
    "    g_split = g.split(\"',\")\n",
    "    if comma_count == 0:\n",
    "        g_new = [g_split[0][2:-2]]\n",
    "    if comma_count == 1:\n",
    "        g_new = [g_split[0][2:], g_split[1][2:-2]]\n",
    "    genres_fixed.append(g_new)"
   ]
  },
  {
   "cell_type": "code",
   "execution_count": null,
   "id": "cc51d5e6",
   "metadata": {},
   "outputs": [],
   "source": [
    "### BEGIN SOLUTION \n",
    "\n",
    "all_instances = []\n",
    "\n",
    "for genre_list in genres_fixed: \n",
    "        for genre in genre_list: \n",
    "            if genre == 'fantasy':\n",
    "                all_instances.append(1)\n",
    "                \n",
    "sum(all_instances)\n",
    "\n",
    "### END SOLUTION "
   ]
  },
  {
   "cell_type": "markdown",
   "id": "6255e58d",
   "metadata": {},
   "source": [
    "#### Exercise 6. We want to create a list of movies that are not for kids. Loop through the rows in the `titles` dataframe, and print the titles of movies that are **not** rated `R` or `TV-MA`. "
   ]
  },
  {
   "cell_type": "code",
   "execution_count": null,
   "id": "1746e94d",
   "metadata": {},
   "outputs": [],
   "source": [
    "### BEGIN SOLUTION \n",
    "\n",
    "for index, row in titles.iterrows():\n",
    "    if (row.age_certification != 'TV-MA') and (row.age_certification != 'R'):\n",
    "        print(index, row.title)\n",
    "        \n",
    "### END SOLUTION "
   ]
  },
  {
   "cell_type": "code",
   "execution_count": null,
   "id": "7f3e364a",
   "metadata": {},
   "outputs": [],
   "source": []
  }
 ],
 "metadata": {
  "kernelspec": {
   "display_name": "Python 3",
   "language": "python",
   "name": "python3"
  },
  "language_info": {
   "codemirror_mode": {
    "name": "ipython",
    "version": 3
   },
   "file_extension": ".py",
   "mimetype": "text/x-python",
   "name": "python",
   "nbconvert_exporter": "python",
   "pygments_lexer": "ipython3",
   "version": "3.8.8"
  }
 },
 "nbformat": 4,
 "nbformat_minor": 5
}
